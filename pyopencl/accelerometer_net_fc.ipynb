{
 "cells": [
  {
   "cell_type": "markdown",
   "metadata": {},
   "source": [
    "# Debug GestureNet OpenCL implement with PyOpenCL and PyTorch\n",
    "Partial code are copied heavily from https://github.com/pytorch/vision/blob/master/torchvision/models/squeezenet.py  \n",
    "SqueezeNet Paper:https://arxiv.org/abs/1602.07360  \n",
    "SqueezeNet 1.1 model from https://github.com/DeepScale/SqueezeNet/tree/master/SqueezeNet_v1.1   \n",
    "SqueezeNet 1.1 has 2.4x less computation and slightly fewer parameters than SqueezeNet 1.0, without sacrificing accuracy.\n"
   ]
  },
  {
   "cell_type": "code",
   "execution_count": 1,
   "metadata": {
    "collapsed": true
   },
   "outputs": [],
   "source": [
    "#some set up\n",
    "import os\n",
    "import numpy as np\n",
    "import pandas as pd\n",
    "import torch\n",
    "import torch.optim as optim\n",
    "import torch.nn as nn\n",
    "import torch.nn.parallel\n",
    "import torch.backends.cudnn as cudnn\n",
    "from torch.autograd import Variable\n",
    "import torch.utils.data\n",
    "import torchvision.transforms as transforms\n",
    "import torchvision.datasets as datasets\n",
    "from PIL import Image\n",
    "import math\n",
    "import time\n",
    "from torchsummary import summary\n",
    "from matplotlib.pyplot import imshow\n",
    "import matplotlib.pyplot as plt\n",
    "%matplotlib inline"
   ]
  },
  {
   "cell_type": "markdown",
   "metadata": {},
   "source": [
    "## Test top-1 accuracy on pytorch pre-trained SqueezeNet v1.1 "
   ]
  },
  {
   "cell_type": "markdown",
   "metadata": {},
   "source": [
    "### Build GestureNet model for Accelerometer"
   ]
  },
  {
   "cell_type": "code",
   "execution_count": 2,
   "metadata": {},
   "outputs": [],
   "source": [
    "class GestureAccelNet(nn.Module):\n",
    "    def __init__(self, num_classes=2):\n",
    "        super(GestureAccelNet, self).__init__()\n",
    "        self.num_classes = num_classes\n",
    "        self.features = nn.Sequential(\n",
    "            nn.Linear(48,32,bias=True),\n",
    "            nn.ReLU(inplace=True),\n",
    "            nn.Linear(32,20,bias=True),\n",
    "            nn.ReLU(inplace=True),\n",
    "            nn.Linear(20,13,bias=True),\n",
    "            nn.ReLU(inplace=True)\n",
    "            )\n",
    "        self.classifier = nn.Sequential(\n",
    "            #nn.Dropout(p=0.5),\n",
    "            nn.Linear(13,self.num_classes,bias=True),\n",
    "            nn.ReLU(inplace=True),\n",
    "        )\n",
    "\n",
    "    def forward(self, x):\n",
    "        x = self.features(x)\n",
    "        #print(x)\n",
    "        x = self.classifier(x)\n",
    "        #return x\n",
    "        return x.view(x.size(0), self.num_classes)"
   ]
  },
  {
   "cell_type": "code",
   "execution_count": 3,
   "metadata": {},
   "outputs": [
    {
     "name": "stdout",
     "output_type": "stream",
     "text": [
      "GestureAccelNet(\n",
      "  (features): Sequential(\n",
      "    (0): Linear(in_features=48, out_features=32, bias=True)\n",
      "    (1): ReLU(inplace=True)\n",
      "    (2): Linear(in_features=32, out_features=20, bias=True)\n",
      "    (3): ReLU(inplace=True)\n",
      "    (4): Linear(in_features=20, out_features=13, bias=True)\n",
      "    (5): ReLU(inplace=True)\n",
      "  )\n",
      "  (classifier): Sequential(\n",
      "    (0): Linear(in_features=13, out_features=2, bias=True)\n",
      "    (1): ReLU(inplace=True)\n",
      "  )\n",
      ")\n"
     ]
    }
   ],
   "source": [
    "model = GestureAccelNet()\n",
    "print(model)"
   ]
  },
  {
   "cell_type": "code",
   "execution_count": 4,
   "metadata": {},
   "outputs": [
    {
     "name": "stdout",
     "output_type": "stream",
     "text": [
      "----------------------------------------------------------------\n",
      "        Layer (type)               Output Shape         Param #\n",
      "================================================================\n",
      "            Linear-1                 [1, 1, 32]           1,568\n",
      "              ReLU-2                 [1, 1, 32]               0\n",
      "            Linear-3                 [1, 1, 20]             660\n",
      "              ReLU-4                 [1, 1, 20]               0\n",
      "            Linear-5                 [1, 1, 13]             273\n",
      "              ReLU-6                 [1, 1, 13]               0\n",
      "            Linear-7                  [1, 1, 2]              28\n",
      "              ReLU-8                  [1, 1, 2]               0\n",
      "================================================================\n",
      "Total params: 2,529\n",
      "Trainable params: 2,529\n",
      "Non-trainable params: 0\n",
      "----------------------------------------------------------------\n",
      "Input size (MB): 0.00\n",
      "Forward/backward pass size (MB): 0.00\n",
      "Params size (MB): 0.01\n",
      "Estimated Total Size (MB): 0.01\n",
      "----------------------------------------------------------------\n"
     ]
    }
   ],
   "source": [
    "summary(model,input_size=(1,48), batch_size=1)"
   ]
  },
  {
   "cell_type": "markdown",
   "metadata": {},
   "source": [
    "### Load  Dataset"
   ]
  },
  {
   "cell_type": "code",
   "execution_count": 5,
   "metadata": {},
   "outputs": [],
   "source": [
    "classes = ['4_slow_swipe','9_circle']\n",
    "y_train = [0,1]\n",
    "x_train = np.zeros(shape=(1,48))\n",
    "global datidx, labidx\n",
    "datidx = 0\n",
    "labidx = 0"
   ]
  },
  {
   "cell_type": "code",
   "execution_count": 6,
   "metadata": {},
   "outputs": [],
   "source": [
    "from torch.utils.data import Dataset,DataLoader\n",
    "class acceldataset(Dataset):\n",
    "    def __init__(self, data, target):\n",
    "        self.x_train = data\n",
    "        self.y_train = target\n",
    "    def __len__(self):\n",
    "        return len(self.y_train)\n",
    "    def __getitem__(self,idx):\n",
    "        global datidx, labidx\n",
    "        #print(y_train[idx])\n",
    "        datidx+=1\n",
    "        labidx+=1\n",
    "        if datidx == 20:\n",
    "            datidx = 0\n",
    "        if labidx == 2:\n",
    "            labidx = 0\n",
    "        x_train=np.zeros(shape=(1,48))\n",
    "        data=pd.read_csv('acceldataset/'+classes[labidx]+'/'+str(datidx)+'.csv')\n",
    "        for i in range(0, 16):\n",
    "            x_train[0][i*3] = data[\"wristX\"][i]\n",
    "            x_train[0][i*3+1] = data[\"wristY\"][i]\n",
    "            x_train[0][i*3+2] = data[\"wristZ\"][i]\n",
    "        #preprocess data\n",
    "        #print(x_train)\n",
    "        transform = transforms.Compose([\n",
    "            transforms.ToTensor(),\n",
    "            #transforms.Normalize(mean = [ 0.5, 0.5, 0.5 ],\n",
    "             #                   std = [ 0.5, 0.5, 0.5 ]),\n",
    "        ])\n",
    "        self.x_train = transform(x_train)\n",
    "        self.x_train = torch.reshape(self.x_train,(1,48))\n",
    "        return self.x_train,self.y_train[labidx]"
   ]
  },
  {
   "cell_type": "code",
   "execution_count": 7,
   "metadata": {},
   "outputs": [],
   "source": [
    "from sklearn.datasets import make_classification\n",
    "data, target = make_classification(n_samples=1000)"
   ]
  },
  {
   "cell_type": "code",
   "execution_count": 8,
   "metadata": {},
   "outputs": [
    {
     "data": {
      "text/plain": [
       "1000"
      ]
     },
     "execution_count": 8,
     "metadata": {},
     "output_type": "execute_result"
    }
   ],
   "source": [
    "dataset = acceldataset(data,target)\n",
    "valdataset = acceldataset(data, target)\n",
    "len(dataset)"
   ]
  },
  {
   "cell_type": "code",
   "execution_count": 9,
   "metadata": {},
   "outputs": [],
   "source": [
    "train_loader = DataLoader(dataset=dataset, batch_size=200, shuffle=True)\n",
    "validate_loader = DataLoader(dataset=valdataset, batch_size=200, shuffle=True)"
   ]
  },
  {
   "cell_type": "markdown",
   "metadata": {},
   "source": [
    "### Training Neural Network"
   ]
  },
  {
   "cell_type": "code",
   "execution_count": 10,
   "metadata": {},
   "outputs": [],
   "source": [
    "train_losses = []\n",
    "accuracylist = []\n",
    "# Training  Model\n",
    "def train_model(model, criterion, optimizer, num_epochs=25):\n",
    "   since = time.time()\n",
    "\n",
    "   for epoch in range(num_epochs):\n",
    "       print('Epoch {}/{}'.format(epoch, num_epochs - 1))\n",
    "       print('-' * 10)\n",
    "\n",
    "       #set model to trainable\n",
    "       train_loss = 0\n",
    "       correct = 0\n",
    "       # Iterate over data.\n",
    "       for features, labels in train_loader:\n",
    "           # Forward Pass\n",
    "           #print(features.shape)\n",
    "           output = model(features.float())\n",
    "           loss = criterion(output, labels.long())\n",
    "           optimizer.zero_grad() # clear previous gradients\n",
    "           loss.backward() # backward pass\n",
    "           optimizer.step()\n",
    "           train_loss += loss.item()\n",
    "           #print(np.argmax(output.detach().numpy(),axis=1))\n",
    "           #print(labels.detach().numpy())\n",
    "           correct += (np.argmax(output.detach().numpy(),axis=1) == labels.detach().numpy()).sum()\n",
    "           print('{} Loss: {:.4f}'.format(\n",
    "               'train', train_loss))\n",
    "           train_losses.append(loss.item())\n",
    "       accuracy = 100 * correct / len(dataset)\n",
    "       accuracylist.append(accuracy)\n",
    "   time_elapsed = time.time() - since\n",
    "   print('Training complete in {:.0f}m {:.0f}s'.format(\n",
    "       time_elapsed // 60, time_elapsed % 60))\n",
    "\n",
    "   return model"
   ]
  },
  {
   "cell_type": "code",
   "execution_count": 11,
   "metadata": {},
   "outputs": [],
   "source": [
    "validate_losses = []\n",
    "def validate_model(model, num_epochs=25):\n",
    "    since = time.time()\n",
    "    for epoch in range(num_epochs):\n",
    "        print('Epoch {}/{}'.format(epoch, num_epochs - 1))\n",
    "        print('-' * 10)\n",
    "        # Evaluate\n",
    "        # model.eval()\n",
    "        #Initialize\n",
    "        correct = 0\n",
    "        # Iterate over data.\n",
    "        for features, labels in validate_loader:\n",
    "            output = model(features.float())\n",
    "            correct += (np.argmax(output.detach().numpy(),axis=1) == labels.detach().numpy()).sum()/len(dataset) *100\n",
    "        validate_losses.append(correct)\n",
    "        print('{} Acc: {:.4f}'.format(\n",
    "            'Validate', correct))"
   ]
  },
  {
   "cell_type": "code",
   "execution_count": 12,
   "metadata": {},
   "outputs": [],
   "source": [
    "# Define Hyper Parameters\n",
    "criterion = torch.nn.CrossEntropyLoss()\n",
    "optimizer_ft = optim.SGD(model.parameters(), lr=0.001, momentum=0.9)\n",
    "loss_func = torch.nn.NLLLoss"
   ]
  },
  {
   "cell_type": "code",
   "execution_count": 13,
   "metadata": {},
   "outputs": [
    {
     "name": "stdout",
     "output_type": "stream",
     "text": [
      "Epoch 0/24\n",
      "----------\n",
      "train Loss: 37.9832\n",
      "train Loss: 40.6461\n",
      "train Loss: 41.3393\n",
      "train Loss: 42.0324\n",
      "train Loss: 42.7256\n",
      "Epoch 1/24\n",
      "----------\n",
      "train Loss: 0.6931\n",
      "train Loss: 1.3863\n",
      "train Loss: 2.0794\n",
      "train Loss: 2.7726\n",
      "train Loss: 3.4657\n",
      "Epoch 2/24\n",
      "----------\n",
      "train Loss: 0.6931\n",
      "train Loss: 1.3863\n",
      "train Loss: 2.0794\n",
      "train Loss: 2.7726\n",
      "train Loss: 3.4657\n",
      "Epoch 3/24\n",
      "----------\n",
      "train Loss: 0.6931\n",
      "train Loss: 1.3863\n",
      "train Loss: 2.0794\n",
      "train Loss: 2.7726\n",
      "train Loss: 3.4657\n",
      "Epoch 4/24\n",
      "----------\n",
      "train Loss: 0.6931\n",
      "train Loss: 1.3863\n",
      "train Loss: 2.0794\n",
      "train Loss: 2.7726\n",
      "train Loss: 3.4657\n",
      "Epoch 5/24\n",
      "----------\n",
      "train Loss: 0.6931\n",
      "train Loss: 1.3863\n",
      "train Loss: 2.0794\n",
      "train Loss: 2.7726\n",
      "train Loss: 3.4657\n",
      "Epoch 6/24\n",
      "----------\n",
      "train Loss: 0.6931\n",
      "train Loss: 1.3863\n",
      "train Loss: 2.0794\n",
      "train Loss: 2.7726\n",
      "train Loss: 3.4657\n",
      "Epoch 7/24\n",
      "----------\n",
      "train Loss: 0.6931\n",
      "train Loss: 1.3863\n",
      "train Loss: 2.0794\n",
      "train Loss: 2.7726\n",
      "train Loss: 3.4657\n",
      "Epoch 8/24\n",
      "----------\n",
      "train Loss: 0.6931\n",
      "train Loss: 1.3863\n",
      "train Loss: 2.0794\n",
      "train Loss: 2.7726\n",
      "train Loss: 3.4657\n",
      "Epoch 9/24\n",
      "----------\n",
      "train Loss: 0.6931\n",
      "train Loss: 1.3863\n",
      "train Loss: 2.0794\n",
      "train Loss: 2.7726\n",
      "train Loss: 3.4657\n",
      "Epoch 10/24\n",
      "----------\n",
      "train Loss: 0.6931\n",
      "train Loss: 1.3863\n",
      "train Loss: 2.0794\n",
      "train Loss: 2.7726\n",
      "train Loss: 3.4657\n",
      "Epoch 11/24\n",
      "----------\n",
      "train Loss: 0.6931\n",
      "train Loss: 1.3863\n",
      "train Loss: 2.0794\n",
      "train Loss: 2.7726\n",
      "train Loss: 3.4657\n",
      "Epoch 12/24\n",
      "----------\n",
      "train Loss: 0.6931\n",
      "train Loss: 1.3863\n",
      "train Loss: 2.0794\n",
      "train Loss: 2.7726\n",
      "train Loss: 3.4657\n",
      "Epoch 13/24\n",
      "----------\n",
      "train Loss: 0.6931\n",
      "train Loss: 1.3863\n",
      "train Loss: 2.0794\n",
      "train Loss: 2.7726\n",
      "train Loss: 3.4657\n",
      "Epoch 14/24\n",
      "----------\n",
      "train Loss: 0.6931\n",
      "train Loss: 1.3863\n",
      "train Loss: 2.0794\n",
      "train Loss: 2.7726\n",
      "train Loss: 3.4657\n",
      "Epoch 15/24\n",
      "----------\n",
      "train Loss: 0.6931\n",
      "train Loss: 1.3863\n",
      "train Loss: 2.0794\n",
      "train Loss: 2.7726\n",
      "train Loss: 3.4657\n",
      "Epoch 16/24\n",
      "----------\n",
      "train Loss: 0.6931\n",
      "train Loss: 1.3863\n",
      "train Loss: 2.0794\n",
      "train Loss: 2.7726\n",
      "train Loss: 3.4657\n",
      "Epoch 17/24\n",
      "----------\n",
      "train Loss: 0.6931\n",
      "train Loss: 1.3863\n",
      "train Loss: 2.0794\n",
      "train Loss: 2.7726\n",
      "train Loss: 3.4657\n",
      "Epoch 18/24\n",
      "----------\n",
      "train Loss: 0.6931\n",
      "train Loss: 1.3863\n",
      "train Loss: 2.0794\n",
      "train Loss: 2.7726\n",
      "train Loss: 3.4657\n",
      "Epoch 19/24\n",
      "----------\n",
      "train Loss: 0.6931\n",
      "train Loss: 1.3863\n",
      "train Loss: 2.0794\n",
      "train Loss: 2.7726\n",
      "train Loss: 3.4657\n",
      "Epoch 20/24\n",
      "----------\n",
      "train Loss: 0.6931\n",
      "train Loss: 1.3863\n",
      "train Loss: 2.0794\n",
      "train Loss: 2.7726\n",
      "train Loss: 3.4657\n",
      "Epoch 21/24\n",
      "----------\n",
      "train Loss: 0.6931\n",
      "train Loss: 1.3863\n",
      "train Loss: 2.0794\n",
      "train Loss: 2.7726\n",
      "train Loss: 3.4657\n",
      "Epoch 22/24\n",
      "----------\n",
      "train Loss: 0.6931\n",
      "train Loss: 1.3863\n",
      "train Loss: 2.0794\n",
      "train Loss: 2.7726\n",
      "train Loss: 3.4657\n",
      "Epoch 23/24\n",
      "----------\n",
      "train Loss: 0.6931\n",
      "train Loss: 1.3863\n",
      "train Loss: 2.0794\n",
      "train Loss: 2.7726\n",
      "train Loss: 3.4657\n",
      "Epoch 24/24\n",
      "----------\n",
      "train Loss: 0.6931\n",
      "train Loss: 1.3863\n",
      "train Loss: 2.0794\n",
      "train Loss: 2.7726\n",
      "train Loss: 3.4657\n",
      "Training complete in 0m 52s\n"
     ]
    },
    {
     "data": {
      "text/plain": [
       "GestureAccelNet(\n",
       "  (features): Sequential(\n",
       "    (0): Linear(in_features=48, out_features=32, bias=True)\n",
       "    (1): ReLU(inplace=True)\n",
       "    (2): Linear(in_features=32, out_features=20, bias=True)\n",
       "    (3): ReLU(inplace=True)\n",
       "    (4): Linear(in_features=20, out_features=13, bias=True)\n",
       "    (5): ReLU(inplace=True)\n",
       "  )\n",
       "  (classifier): Sequential(\n",
       "    (0): Linear(in_features=13, out_features=2, bias=True)\n",
       "    (1): ReLU(inplace=True)\n",
       "  )\n",
       ")"
      ]
     },
     "execution_count": 13,
     "metadata": {},
     "output_type": "execute_result"
    }
   ],
   "source": [
    "train_model(model, criterion, optimizer_ft, num_epochs=25)"
   ]
  },
  {
   "cell_type": "code",
   "execution_count": 15,
   "metadata": {},
   "outputs": [
    {
     "name": "stdout",
     "output_type": "stream",
     "text": [
      "Epoch 0/24\n",
      "----------\n",
      "Validate Acc: 50.0000\n",
      "Epoch 1/24\n",
      "----------\n",
      "Validate Acc: 50.0000\n",
      "Epoch 2/24\n",
      "----------\n",
      "Validate Acc: 50.0000\n",
      "Epoch 3/24\n",
      "----------\n",
      "Validate Acc: 50.0000\n",
      "Epoch 4/24\n",
      "----------\n",
      "Validate Acc: 50.0000\n",
      "Epoch 5/24\n",
      "----------\n",
      "Validate Acc: 50.0000\n",
      "Epoch 6/24\n",
      "----------\n",
      "Validate Acc: 50.0000\n",
      "Epoch 7/24\n",
      "----------\n",
      "Validate Acc: 50.0000\n",
      "Epoch 8/24\n",
      "----------\n",
      "Validate Acc: 50.0000\n",
      "Epoch 9/24\n",
      "----------\n",
      "Validate Acc: 50.0000\n",
      "Epoch 10/24\n",
      "----------\n",
      "Validate Acc: 50.0000\n",
      "Epoch 11/24\n",
      "----------\n",
      "Validate Acc: 50.0000\n",
      "Epoch 12/24\n",
      "----------\n",
      "Validate Acc: 50.0000\n",
      "Epoch 13/24\n",
      "----------\n",
      "Validate Acc: 50.0000\n",
      "Epoch 14/24\n",
      "----------\n",
      "Validate Acc: 50.0000\n",
      "Epoch 15/24\n",
      "----------\n",
      "Validate Acc: 50.0000\n",
      "Epoch 16/24\n",
      "----------\n",
      "Validate Acc: 50.0000\n",
      "Epoch 17/24\n",
      "----------\n",
      "Validate Acc: 50.0000\n",
      "Epoch 18/24\n",
      "----------\n",
      "Validate Acc: 50.0000\n",
      "Epoch 19/24\n",
      "----------\n",
      "Validate Acc: 50.0000\n",
      "Epoch 20/24\n",
      "----------\n",
      "Validate Acc: 50.0000\n",
      "Epoch 21/24\n",
      "----------\n",
      "Validate Acc: 50.0000\n",
      "Epoch 22/24\n",
      "----------\n",
      "Validate Acc: 50.0000\n",
      "Epoch 23/24\n",
      "----------\n",
      "Validate Acc: 50.0000\n",
      "Epoch 24/24\n",
      "----------\n",
      "Validate Acc: 50.0000\n"
     ]
    }
   ],
   "source": [
    "validate_model(model,num_epochs=25)"
   ]
  },
  {
   "cell_type": "code",
   "execution_count": 15,
   "metadata": {},
   "outputs": [
    {
     "data": {
      "image/png": "[encoded data removed]",
      "text/plain": [
       "<Figure size 720x360 with 1 Axes>"
      ]
     },
     "metadata": {
      "needs_background": "light"
     },
     "output_type": "display_data"
    },
    {
     "data": {
      "image/png": "[encoded data removed]",
      "text/plain": [
       "<Figure size 720x360 with 1 Axes>"
      ]
     },
     "metadata": {
      "needs_background": "light"
     },
     "output_type": "display_data"
    }
   ],
   "source": [
    "plt.figure(figsize=(10,5))\n",
    "plt.title(\"Training Loss\")\n",
    "plt.plot(train_losses,label=\"train\")\n",
    "plt.xlabel(\"iterations\")\n",
    "plt.ylabel(\"Loss\")\n",
    "plt.legend()\n",
    "plt.show()\n",
    "plt.figure(figsize=(10,5))\n",
    "plt.title(\"Training Accuracy\")\n",
    "plt.plot(accuracylist,label=\"train\")\n",
    "plt.xlabel(\"iterations\")\n",
    "plt.ylabel(\"Accuracy\")\n",
    "plt.legend()\n",
    "plt.show()"
   ]
  },
  {
   "cell_type": "code",
   "execution_count": 16,
   "metadata": {},
   "outputs": [
    {
     "data": {
      "image/png": "[encoded data removed]",
      "text/plain": [
       "<Figure size 720x360 with 1 Axes>"
      ]
     },
     "metadata": {
      "needs_background": "light"
     },
     "output_type": "display_data"
    }
   ],
   "source": [
    "plt.figure(figsize=(10,5))\n",
    "plt.title(\"Validation Accuracy\")\n",
    "plt.plot(validate_losses,label=\"validation\")\n",
    "plt.xlabel(\"iterations\")\n",
    "plt.ylabel(\"Loss\")\n",
    "plt.legend()\n",
    "plt.show()"
   ]
  },
  {
   "cell_type": "code",
   "execution_count": 17,
   "metadata": {},
   "outputs": [],
   "source": [
    "#torch.save(model.state_dict(), 'GestureAccelNet1.pth')"
   ]
  },
  {
   "cell_type": "markdown",
   "metadata": {},
   "source": [
    "### Calculate top-1 accuracy of the pre-trained model"
   ]
  },
  {
   "cell_type": "markdown",
   "metadata": {},
   "source": [
    "## Test Model in Pytorch if the OpenCL implement is correct\n",
    "By comprare the result of OpenCL implement and PyTorch implement using a single image as input  \n",
    "error = ((OpenCL_implement_class_socores - PyTorch_implement_class_socores) ^ 2).sum(element_wise)  \n",
    "If the OpenCL implement is correct, error should be relativly small."
   ]
  },
  {
   "cell_type": "code",
   "execution_count": 22,
   "metadata": {
    "scrolled": true
   },
   "outputs": [
    {
     "name": "stdout",
     "output_type": "stream",
     "text": [
      "9_circle\n",
      "torch.Size([1, 1, 48])\n"
     ]
    }
   ],
   "source": [
    "# load the test image\n",
    "print(classes[1])\n",
    "x_test=np.zeros(shape=(1,1,48))\n",
    "data=pd.read_csv('acceldataset/'+classes[1]+'/'+str(1)+'.csv')\n",
    "for i in range(0, 16):\n",
    "    x_test[0][0][i*3] = data[\"wristX\"][i]\n",
    "    x_test[0][0][i*3+1] = data[\"wristY\"][i]\n",
    "    x_test[0][0][i*3+2] = data[\"wristZ\"][i]\n",
    "#preprocess data\n",
    "transform = transforms.Compose([\n",
    "    transforms.ToTensor()\n",
    "])\n",
    "x_test = transform(x_test[0])\n",
    "x_test = torch.reshape(x_test,(1,1,48))\n",
    "print(x_test.shape)"
   ]
  },
  {
   "cell_type": "code",
   "execution_count": 23,
   "metadata": {
    "scrolled": true
   },
   "outputs": [
    {
     "name": "stdout",
     "output_type": "stream",
     "text": [
      "tensor([[0., 0.]], grad_fn=<ViewBackward0>)\n",
      "tensor([0])\n",
      "the label index prediction of pytorch implement: 4_slow_swipe\n"
     ]
    }
   ],
   "source": [
    "model.cpu()\n",
    "y_test = model(x_test.float())\n",
    "print(y_test)\n",
    "_, predicted = torch.max(y_test.data, 1)\n",
    "print(predicted)\n",
    "print('the label index prediction of pytorch implement: '+classes[predicted])"
   ]
  },
  {
   "cell_type": "markdown",
   "metadata": {},
   "source": [
    "### Load OpenCL implement\n",
    "deviceinfo.py and partial pyopencl code are from Hands On OpenCL  \n",
    "https://handsonopencl.github.io/"
   ]
  },
  {
   "cell_type": "markdown",
   "metadata": {},
   "source": [
    "#### Step1: OpenCL preparation"
   ]
  },
  {
   "cell_type": "code",
   "execution_count": 17,
   "metadata": {
    "collapsed": true
   },
   "outputs": [],
   "source": [
    "# OpenCL setup\n",
    "import pyopencl as cl\n",
    "import deviceinfo"
   ]
  },
  {
   "cell_type": "code",
   "execution_count": 18,
   "metadata": {
    "scrolled": true
   },
   "outputs": [
    {
     "name": "stdout",
     "output_type": "stream",
     "text": [
      "Device is NVIDIA GeForce GTX 1650 TiGPU from NVIDIA Corporation with a max of 16 compute units\n"
     ]
    }
   ],
   "source": [
    "# Ask the user to select a platform/device on the CLI\n",
    "context = cl.create_some_context()\n",
    "\n",
    "# Print out device info\n",
    "deviceinfo.output_device_info(context.devices[0])\n",
    "\n",
    "# Create a command queue\n",
    "queue = cl.CommandQueue(context)"
   ]
  },
  {
   "cell_type": "markdown",
   "metadata": {},
   "source": [
    "#### Step 2: import parameters from pytorch implement"
   ]
  },
  {
   "cell_type": "code",
   "execution_count": 19,
   "metadata": {},
   "outputs": [
    {
     "name": "stdout",
     "output_type": "stream",
     "text": [
      "features.0.weight (32, 48)\n",
      "features.0.bias (32,)\n",
      "features.2.weight (20, 32)\n",
      "features.2.bias (20,)\n",
      "features.4.weight (13, 20)\n",
      "features.4.bias (13,)\n",
      "classifier.0.weight (2, 13)\n",
      "classifier.0.bias (2,)\n"
     ]
    }
   ],
   "source": [
    "params = model.state_dict()\n",
    "for k,v in params.items():\n",
    "    # print parameter name\n",
    "    print(k,params[k].numpy().shape)\n",
    "layer1_weight = params['features.0.weight'].numpy().reshape(-1)\n",
    "layer1_bias = params['features.0.bias'].numpy()\n",
    "layer2_weight = params['features.2.weight'].numpy().reshape(-1)\n",
    "layer2_bias = params['features.2.bias'].numpy()\n",
    "layer3_weight = params['features.4.weight'].numpy().reshape(-1)\n",
    "layer3_bias = params['features.4.bias'].numpy()\n",
    "classifier_weight = params['classifier.0.weight'].numpy().reshape(-1)\n",
    "classifier_bias = params['classifier.0.bias'].numpy()"
   ]
  },
  {
   "cell_type": "code",
   "execution_count": 20,
   "metadata": {},
   "outputs": [
    {
     "name": "stdout",
     "output_type": "stream",
     "text": [
      "(48,)\n",
      "torch.Size([32])\n"
     ]
    }
   ],
   "source": [
    "params['classifier.0.bias'].dtype\n",
    "print(params['features.0.weight'].numpy()[0].shape)\n",
    "print(params['features.0.bias'].shape)"
   ]
  },
  {
   "cell_type": "markdown",
   "metadata": {},
   "source": [
    "Creat OpenCL memory object"
   ]
  },
  {
   "cell_type": "code",
   "execution_count": 24,
   "metadata": {
    "collapsed": true
   },
   "outputs": [],
   "source": [
    "h_sample = x_test.numpy().reshape(-1)\n",
    "h_result_layer1 = np.empty(1 * 32).astype(np.float32)\n",
    "h_result_layer2 = np.empty(1 * 20).astype(np.float32)\n",
    "h_result_layer3 = np.empty(1 * 13).astype(np.float32)\n",
    "h_result_classifier = np.empty(1 * len(classes)).astype(np.float32)\n",
    "\n",
    "# device input buffer\n",
    "d_sample = cl.Buffer(context, cl.mem_flags.READ_ONLY | cl.mem_flags.COPY_HOST_PTR, hostbuf=h_sample)\n",
    "\n",
    "# device buffers \n",
    "d_layer1_weight = cl.Buffer(context, cl.mem_flags.READ_ONLY | cl.mem_flags.COPY_HOST_PTR, hostbuf=layer1_weight)\n",
    "d_layer1_bias = cl.Buffer(context, cl.mem_flags.READ_ONLY | cl.mem_flags.COPY_HOST_PTR, hostbuf=layer1_bias)\n",
    "d_layer2_weight = cl.Buffer(context, cl.mem_flags.READ_ONLY | cl.mem_flags.COPY_HOST_PTR, hostbuf=layer2_weight)\n",
    "d_layer2_bias = cl.Buffer(context, cl.mem_flags.READ_ONLY | cl.mem_flags.COPY_HOST_PTR, hostbuf=layer2_bias)\n",
    "d_layer3_weight = cl.Buffer(context, cl.mem_flags.READ_ONLY | cl.mem_flags.COPY_HOST_PTR, hostbuf=layer3_weight)\n",
    "d_layer3_bias = cl.Buffer(context, cl.mem_flags.READ_ONLY | cl.mem_flags.COPY_HOST_PTR, hostbuf=layer3_bias)\n",
    "d_classifier_weight = cl.Buffer(context, cl.mem_flags.READ_ONLY | cl.mem_flags.COPY_HOST_PTR, hostbuf=classifier_weight)\n",
    "d_classifier_bias = cl.Buffer(context, cl.mem_flags.READ_ONLY | cl.mem_flags.COPY_HOST_PTR, hostbuf=classifier_bias)\n",
    "\n",
    "d_result_layer1 = cl.Buffer(context, cl.mem_flags.WRITE_ONLY, h_result_layer1.nbytes)\n",
    "d_result_layer2 = cl.Buffer(context, cl.mem_flags.WRITE_ONLY, h_result_layer2.nbytes)\n",
    "d_result_layer3 = cl.Buffer(context, cl.mem_flags.WRITE_ONLY, h_result_layer3.nbytes)\n",
    "d_result_classifier = cl.Buffer(context, cl.mem_flags.WRITE_ONLY, h_result_classifier.nbytes)"
   ]
  },
  {
   "cell_type": "markdown",
   "metadata": {},
   "source": [
    "#### Step 3: create kernels\n",
    "Create & build program"
   ]
  },
  {
   "cell_type": "code",
   "execution_count": 25,
   "metadata": {
    "collapsed": true,
    "scrolled": true
   },
   "outputs": [],
   "source": [
    "kernelSource = open(\"gesturenet.cl\").read()\n",
    "program = cl.Program(context, kernelSource).build()"
   ]
  },
  {
   "cell_type": "markdown",
   "metadata": {},
   "source": [
    "Create kernels"
   ]
  },
  {
   "cell_type": "code",
   "execution_count": 26,
   "metadata": {
    "collapsed": true
   },
   "outputs": [],
   "source": [
    "conv3x3 = program.conv2d3x3\n",
    "conv3x3.set_scalar_arg_dtypes([np.int32, np.int32, np.int32, np.int32, np.int32, np.int32, \\\n",
    "                               None, None, None, None])\n",
    "\n",
    "maxpool = program.maxpool2d\n",
    "maxpool.set_scalar_arg_dtypes([np.int32, np.int32, None, None])\n",
    "\n",
    "conv1x1 = program.conv2d1x1\n",
    "conv1x1.set_scalar_arg_dtypes([np.int32, np.int32, np.int32,\\\n",
    "                               None, None, None, None])\n",
    "\n",
    "avgpool = program.avgpool2d\n",
    "avgpool.set_scalar_arg_dtypes([np.int32,np.int32,None, None])\n",
    "\n",
    "fc = program.fc\n",
    "fc.set_scalar_arg_dtypes([np.int32,np.int32,None,None,None,None])"
   ]
  },
  {
   "cell_type": "markdown",
   "metadata": {},
   "source": [
    "Run OpenCL implement  "
   ]
  },
  {
   "cell_type": "code",
   "execution_count": 27,
   "metadata": {},
   "outputs": [
    {
     "name": "stdout",
     "output_type": "stream",
     "text": [
      "The kernel ran in 0.011966228485107422 seconds\n"
     ]
    }
   ],
   "source": [
    "rtime = time.time()\n",
    "# First\n",
    "#conv1x1(queue,(64,), None, 1, 16, 3, d_sample, d_layer1_weight ,d_layer1_bias, d_result_layer1)\n",
    "fc(queue,(32,),None,1,48,d_sample,d_layer1_weight,d_layer1_bias,d_result_layer1)\n",
    "# Second\n",
    "#conv1x1(queue,(32,), None, 64, 16, 3, d_result_layer1, d_layer2_weight ,d_layer2_bias, d_result_layer2)\n",
    "fc(queue,(20,),None,1,32,d_result_layer1,d_layer2_weight,d_layer2_bias,d_result_layer2)\n",
    "# Third\n",
    "#conv1x1(queue,(13,), None, 32, 16, 3, d_result_layer2, d_layer3_weight ,d_layer3_bias, d_result_layer3)\n",
    "fc(queue,(13,),None,1,20,d_result_layer2,d_layer3_weight,d_layer3_bias,d_result_layer3)\n",
    "# classifier\n",
    "#conv1x1(queue,(len(classes),), None, 13, 16, 3, d_result_layer3, d_classifier_weight, d_classifier_bias, d_result_classifier)\n",
    "fc(queue,(len(classes),),None,1,13,d_result_layer3,d_classifier_weight,d_classifier_bias,d_result_classifier)\n",
    "# Wait for the commands to finish before reading back\n",
    "queue.finish()\n",
    "rtime = time.time() - rtime\n",
    "print(\"The kernel ran in\", rtime, \"seconds\")"
   ]
  },
  {
   "cell_type": "code",
   "execution_count": 28,
   "metadata": {
    "scrolled": false
   },
   "outputs": [
    {
     "name": "stdout",
     "output_type": "stream",
     "text": [
      "the label index prediction of OpenCL implement: 0\n",
      "OpenCL implement error:  0.0\n",
      "(32,)\n",
      "(20,)\n",
      "(13,)\n",
      "(2,)\n",
      "tensor([[0., 0.]], grad_fn=<ViewBackward0>)\n",
      "[0. 0.]\n"
     ]
    }
   ],
   "source": [
    "#copy result from gpu\n",
    "cl.enqueue_copy(queue, h_result_classifier, d_result_classifier)\n",
    "queue.finish()\n",
    "label_opencl = np.argmax(h_result_classifier)\n",
    "print('the label index prediction of OpenCL implement: %d' % label_opencl)\n",
    "\n",
    "correct_result = y_test.data.numpy().reshape(-1)\n",
    "error = ((correct_result - h_result_classifier) ** 2).sum()\n",
    "print('OpenCL implement error: ', error)\n",
    "cl.enqueue_copy(queue, h_result_layer1, d_result_layer1)\n",
    "print(h_result_layer1.shape)\n",
    "cl.enqueue_copy(queue, h_result_layer2, d_result_layer2)\n",
    "print(h_result_layer2.shape)\n",
    "cl.enqueue_copy(queue, h_result_layer3, d_result_layer3)\n",
    "print(h_result_layer3.shape)\n",
    "cl.enqueue_copy(queue, h_result_classifier, d_result_classifier)\n",
    "print(h_result_classifier.shape)\n",
    "print(y_test)\n",
    "print(h_result_classifier)"
   ]
  },
  {
   "cell_type": "code",
   "execution_count": null,
   "metadata": {},
   "outputs": [],
   "source": []
  }
 ],
 "metadata": {
  "kernelspec": {
   "display_name": "Python 3",
   "language": "python",
   "name": "python3"
  },
  "language_info": {
   "codemirror_mode": {
    "name": "ipython",
    "version": 3
   },
   "file_extension": ".py",
   "mimetype": "text/x-python",
   "name": "python",
   "nbconvert_exporter": "python",
   "pygments_lexer": "ipython3",
   "version": "3.8.8"
  }
 },
 "nbformat": 4,
 "nbformat_minor": 2
}

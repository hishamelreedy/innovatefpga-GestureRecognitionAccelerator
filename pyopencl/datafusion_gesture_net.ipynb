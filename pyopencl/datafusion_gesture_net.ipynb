{
 "cells": [
  {
   "cell_type": "markdown",
   "metadata": {},
   "source": [
    "# DataFusion between Accelerometer Model and Camera Model"
   ]
  },
  {
   "cell_type": "code",
   "execution_count": 2,
   "metadata": {},
   "outputs": [],
   "source": [
    "#some set up\n",
    "import os\n",
    "import numpy as np\n",
    "import pandas as pd\n",
    "import torch\n",
    "import torch.optim as optim\n",
    "import torch.nn as nn\n",
    "import torch.nn.parallel\n",
    "import torch.backends.cudnn as cudnn\n",
    "from torch.autograd import Variable\n",
    "import torch.utils.data\n",
    "import torchvision.transforms as transforms\n",
    "import torchvision.datasets as datasets\n",
    "from PIL import Image\n",
    "import math\n",
    "import time\n",
    "from torchsummary import summary\n",
    "from matplotlib.pyplot import imshow\n",
    "import matplotlib.pyplot as plt\n",
    "%matplotlib inline"
   ]
  },
  {
   "cell_type": "code",
   "execution_count": 14,
   "metadata": {},
   "outputs": [],
   "source": [
    "class GestureFusionNet(nn.Module):\n",
    "    def __init__(self, num_classes=11):\n",
    "        super(GestureFusionNet, self).__init__()\n",
    "        self.num_classes = num_classes\n",
    "        self.features = nn.Sequential(\n",
    "            nn.Linear(22,15,bias=True),\n",
    "            nn.ReLU(inplace=True),\n",
    "            nn.Linear(15,11,bias=True),\n",
    "            nn.ReLU(inplace=True)\n",
    "            )\n",
    "        self.classifier = nn.Sequential(\n",
    "            nn.Dropout(p=0.5),\n",
    "            nn.Linear(11,self.num_classes,bias=True),\n",
    "            nn.LogSoftmax(dim=1),\n",
    "        )\n",
    "\n",
    "    def forward(self, x):\n",
    "        x = self.features(x)\n",
    "        x = self.classifier(x)\n",
    "        return x.view(x.size(0), self.num_classes)"
   ]
  },
  {
   "cell_type": "code",
   "execution_count": 15,
   "metadata": {},
   "outputs": [
    {
     "name": "stdout",
     "output_type": "stream",
     "text": [
      "GestureFusionNet(\n",
      "  (features): Sequential(\n",
      "    (0): Linear(in_features=22, out_features=15, bias=True)\n",
      "    (1): ReLU(inplace=True)\n",
      "    (2): Linear(in_features=15, out_features=11, bias=True)\n",
      "    (3): ReLU(inplace=True)\n",
      "  )\n",
      "  (classifier): Sequential(\n",
      "    (0): Dropout(p=0.5, inplace=False)\n",
      "    (1): Linear(in_features=11, out_features=11, bias=True)\n",
      "    (2): LogSoftmax(dim=1)\n",
      "  )\n",
      ")\n"
     ]
    }
   ],
   "source": [
    "model = GestureFusionNet()\n",
    "print(model)"
   ]
  },
  {
   "cell_type": "code",
   "execution_count": 16,
   "metadata": {},
   "outputs": [
    {
     "name": "stdout",
     "output_type": "stream",
     "text": [
      "----------------------------------------------------------------\n",
      "        Layer (type)               Output Shape         Param #\n",
      "================================================================\n",
      "            Linear-1                 [1, 1, 15]             345\n",
      "              ReLU-2                 [1, 1, 15]               0\n",
      "            Linear-3                 [1, 1, 11]             176\n",
      "              ReLU-4                 [1, 1, 11]               0\n",
      "           Dropout-5                 [1, 1, 11]               0\n",
      "            Linear-6                 [1, 1, 11]             132\n",
      "        LogSoftmax-7                 [1, 1, 11]               0\n",
      "================================================================\n",
      "Total params: 653\n",
      "Trainable params: 653\n",
      "Non-trainable params: 0\n",
      "----------------------------------------------------------------\n",
      "Input size (MB): 0.00\n",
      "Forward/backward pass size (MB): 0.00\n",
      "Params size (MB): 0.00\n",
      "Estimated Total Size (MB): 0.00\n",
      "----------------------------------------------------------------\n"
     ]
    }
   ],
   "source": [
    "summary(model,input_size=(1,22), batch_size=1)"
   ]
  },
  {
   "cell_type": "markdown",
   "metadata": {},
   "source": [
    "### Load  Dataset"
   ]
  },
  {
   "cell_type": "code",
   "execution_count": 18,
   "metadata": {},
   "outputs": [],
   "source": [
    "classes = ['0_pinch_index','10_palm_hold','1_palm_tilt','2_finger_slider','3_pinch_pinky','4_slow_swipe','5_fast_swipe','6_push','7_pull','8_finger_rub','9_circle']"
   ]
  },
  {
   "cell_type": "code",
   "execution_count": 38,
   "metadata": {},
   "outputs": [
    {
     "name": "stdout",
     "output_type": "stream",
     "text": [
      "(2200, 11)\n",
      "(2200, 11)\n",
      "(2200, 22)\n"
     ]
    }
   ],
   "source": [
    "dat1= np.loadtxt('fusiondataset/train/camdataset.csv',delimiter=\",\",dtype=np.float32,skiprows=1)\n",
    "dat2= np.loadtxt('fusiondataset/train/adxldataset.csv',delimiter=\",\",dtype=np.float32,skiprows=1)\n",
    "print(dat1[:,:11].shape)\n",
    "print(dat2[:,:11].shape)\n",
    "dat = np.concatenate((dat1[:,:11],dat2[:,:11]),axis=-1)\n",
    "print(dat.shape)"
   ]
  },
  {
   "cell_type": "code",
   "execution_count": 45,
   "metadata": {},
   "outputs": [],
   "source": [
    "from torch.utils.data import Dataset,DataLoader\n",
    "class fusiondataset(Dataset):\n",
    "    def __init__(self, data, target):\n",
    "        dat1= np.loadtxt('fusiondataset/train/camdataset.csv',delimiter=\",\",dtype=np.float32,skiprows=1)\n",
    "        dat2= np.loadtxt('fusiondataset/train/adxldataset.csv',delimiter=\",\",dtype=np.float32,skiprows=1)\n",
    "        #print(dat1[:,:11].shape)\n",
    "        #print(dat2[:,:11].shape)\n",
    "        dat = np.concatenate((dat1[:,:11],dat2[:,:11]),axis=-1)\n",
    "        #print(dat.shape)\n",
    "        self.x_train = torch.from_numpy(dat)\n",
    "        self.y_train = torch.from_numpy(dat2[:,[11]])\n",
    "        self.n_samples = dat.shape[0]\n",
    "    def __len__(self):\n",
    "        return self.n_samples\n",
    "    def __getitem__(self,idx):\n",
    "        return self.x_train[idx],self.y_train[idx]"
   ]
  },
  {
   "cell_type": "code",
   "execution_count": 46,
   "metadata": {},
   "outputs": [],
   "source": [
    "from sklearn.datasets import make_classification\n",
    "data, target = make_classification(n_samples=1000)"
   ]
  },
  {
   "cell_type": "code",
   "execution_count": 47,
   "metadata": {},
   "outputs": [],
   "source": [
    "dataset = fusiondataset(data,target)\n",
    "valdataset = fusiondataset(data, target)"
   ]
  },
  {
   "cell_type": "code",
   "execution_count": 48,
   "metadata": {},
   "outputs": [],
   "source": [
    "train_loader = DataLoader(dataset=dataset, batch_size=200, shuffle=True)\n",
    "validate_loader = DataLoader(dataset=valdataset, batch_size=1, shuffle=True)"
   ]
  },
  {
   "cell_type": "code",
   "execution_count": 49,
   "metadata": {},
   "outputs": [
    {
     "name": "stdout",
     "output_type": "stream",
     "text": [
      "tensor([[ 0.0000,  0.0000,  0.3108,  ..., -2.2438, -2.4823, -2.4700],\n",
      "        [ 0.0000,  1.0522,  0.3553,  ..., -2.2438, -2.4823, -2.4700],\n",
      "        [ 0.0000,  0.0000,  2.7838,  ..., -2.2404, -2.4746, -2.4597],\n",
      "        ...,\n",
      "        [ 0.0000,  0.0366,  0.1315,  ..., -2.2404, -2.4746, -2.4597],\n",
      "        [ 0.0000,  0.0000,  0.4144,  ..., -2.2503, -2.4823, -2.4599],\n",
      "        [ 0.0000,  0.0000,  0.3346,  ..., -2.2438, -2.4823, -2.4700]]) tensor([[ 7.],\n",
      "        [ 1.],\n",
      "        [ 2.],\n",
      "        [ 9.],\n",
      "        [ 8.],\n",
      "        [ 6.],\n",
      "        [ 6.],\n",
      "        [ 7.],\n",
      "        [ 9.],\n",
      "        [ 5.],\n",
      "        [ 0.],\n",
      "        [ 8.],\n",
      "        [10.],\n",
      "        [ 9.],\n",
      "        [ 9.],\n",
      "        [ 7.],\n",
      "        [ 2.],\n",
      "        [ 5.],\n",
      "        [ 7.],\n",
      "        [ 5.],\n",
      "        [ 0.],\n",
      "        [ 5.],\n",
      "        [ 8.],\n",
      "        [10.],\n",
      "        [ 8.],\n",
      "        [ 8.],\n",
      "        [ 4.],\n",
      "        [ 4.],\n",
      "        [ 2.],\n",
      "        [ 2.],\n",
      "        [ 4.],\n",
      "        [ 9.],\n",
      "        [ 2.],\n",
      "        [ 4.],\n",
      "        [ 8.],\n",
      "        [ 0.],\n",
      "        [ 4.],\n",
      "        [ 6.],\n",
      "        [ 0.],\n",
      "        [10.],\n",
      "        [ 4.],\n",
      "        [ 9.],\n",
      "        [ 3.],\n",
      "        [ 6.],\n",
      "        [10.],\n",
      "        [ 6.],\n",
      "        [ 2.],\n",
      "        [ 8.],\n",
      "        [ 6.],\n",
      "        [ 1.],\n",
      "        [ 6.],\n",
      "        [ 8.],\n",
      "        [ 4.],\n",
      "        [ 1.],\n",
      "        [ 0.],\n",
      "        [ 2.],\n",
      "        [ 9.],\n",
      "        [ 7.],\n",
      "        [ 1.],\n",
      "        [ 1.],\n",
      "        [ 1.],\n",
      "        [ 9.],\n",
      "        [ 7.],\n",
      "        [ 0.],\n",
      "        [10.],\n",
      "        [ 1.],\n",
      "        [ 5.],\n",
      "        [ 5.],\n",
      "        [ 8.],\n",
      "        [ 2.],\n",
      "        [ 8.],\n",
      "        [ 9.],\n",
      "        [ 5.],\n",
      "        [ 0.],\n",
      "        [ 5.],\n",
      "        [ 1.],\n",
      "        [ 9.],\n",
      "        [ 8.],\n",
      "        [ 1.],\n",
      "        [ 8.],\n",
      "        [10.],\n",
      "        [ 3.],\n",
      "        [ 7.],\n",
      "        [ 0.],\n",
      "        [ 4.],\n",
      "        [ 8.],\n",
      "        [ 7.],\n",
      "        [ 4.],\n",
      "        [ 3.],\n",
      "        [ 6.],\n",
      "        [ 6.],\n",
      "        [ 7.],\n",
      "        [ 1.],\n",
      "        [ 1.],\n",
      "        [ 6.],\n",
      "        [ 5.],\n",
      "        [ 2.],\n",
      "        [ 0.],\n",
      "        [ 7.],\n",
      "        [ 3.],\n",
      "        [ 3.],\n",
      "        [ 7.],\n",
      "        [ 9.],\n",
      "        [ 3.],\n",
      "        [ 5.],\n",
      "        [ 2.],\n",
      "        [ 5.],\n",
      "        [ 7.],\n",
      "        [ 6.],\n",
      "        [ 3.],\n",
      "        [ 6.],\n",
      "        [10.],\n",
      "        [ 0.],\n",
      "        [ 6.],\n",
      "        [ 9.],\n",
      "        [ 7.],\n",
      "        [ 3.],\n",
      "        [ 6.],\n",
      "        [ 6.],\n",
      "        [ 9.],\n",
      "        [ 8.],\n",
      "        [ 3.],\n",
      "        [ 8.],\n",
      "        [ 3.],\n",
      "        [ 2.],\n",
      "        [10.],\n",
      "        [ 8.],\n",
      "        [ 0.],\n",
      "        [ 5.],\n",
      "        [ 5.],\n",
      "        [ 3.],\n",
      "        [ 3.],\n",
      "        [ 5.],\n",
      "        [ 6.],\n",
      "        [ 9.],\n",
      "        [ 5.],\n",
      "        [ 0.],\n",
      "        [ 4.],\n",
      "        [ 7.],\n",
      "        [ 8.],\n",
      "        [10.],\n",
      "        [ 6.],\n",
      "        [10.],\n",
      "        [ 9.],\n",
      "        [ 3.],\n",
      "        [ 2.],\n",
      "        [ 3.],\n",
      "        [ 6.],\n",
      "        [10.],\n",
      "        [ 0.],\n",
      "        [ 0.],\n",
      "        [ 9.],\n",
      "        [ 5.],\n",
      "        [ 7.],\n",
      "        [ 4.],\n",
      "        [ 2.],\n",
      "        [ 5.],\n",
      "        [ 2.],\n",
      "        [ 7.],\n",
      "        [ 5.],\n",
      "        [ 8.],\n",
      "        [ 2.],\n",
      "        [10.],\n",
      "        [ 5.],\n",
      "        [ 7.],\n",
      "        [ 6.],\n",
      "        [ 4.],\n",
      "        [ 9.],\n",
      "        [ 2.],\n",
      "        [ 0.],\n",
      "        [ 4.],\n",
      "        [ 4.],\n",
      "        [ 2.],\n",
      "        [ 3.],\n",
      "        [ 6.],\n",
      "        [ 9.],\n",
      "        [ 3.],\n",
      "        [10.],\n",
      "        [ 7.],\n",
      "        [ 4.],\n",
      "        [10.],\n",
      "        [ 6.],\n",
      "        [10.],\n",
      "        [ 0.],\n",
      "        [ 4.],\n",
      "        [ 6.],\n",
      "        [ 3.],\n",
      "        [ 6.],\n",
      "        [ 0.],\n",
      "        [ 5.],\n",
      "        [ 4.],\n",
      "        [ 7.],\n",
      "        [ 0.],\n",
      "        [ 2.],\n",
      "        [ 2.],\n",
      "        [ 2.],\n",
      "        [ 1.],\n",
      "        [10.],\n",
      "        [ 3.],\n",
      "        [ 7.]])\n"
     ]
    }
   ],
   "source": [
    "dataiter = iter(train_loader)\n",
    "data = dataiter.next()\n",
    "features, label = data\n",
    "print(features, label)"
   ]
  },
  {
   "cell_type": "markdown",
   "metadata": {},
   "source": [
    "### Training Neural Network"
   ]
  },
  {
   "cell_type": "code",
   "execution_count": 54,
   "metadata": {},
   "outputs": [
    {
     "name": "stdout",
     "output_type": "stream",
     "text": [
      "2200 550\n"
     ]
    }
   ],
   "source": [
    "train_losses = []\n",
    "accuracylist = []\n",
    "total_samples = len(dataset)\n",
    "n_iterations = math.ceil(total_samples/4)\n",
    "print(total_samples, n_iterations)\n",
    "# Training  Model\n",
    "def train_model(model, criterion, optimizer, num_epochs=25):\n",
    "   since = time.time()\n",
    "\n",
    "   for epoch in range(num_epochs):\n",
    "       print('Epoch {}/{}'.format(epoch, num_epochs - 1))\n",
    "       print('-' * 10)\n",
    "\n",
    "       #set model to trainable\n",
    "       train_loss = 0\n",
    "       correct = 0\n",
    "       # Iterate over data.\n",
    "       for i,(inputs, labels) in enumerate(train_loader):\n",
    "           # Forward Pass\n",
    "           if (i+1) % 5 == 0:\n",
    "               print(f'epoch {epoch+1}/{num_epochs}, step {i+1}/{n_iterations}, inputs {inputs.shape}')\n",
    "           output = model(features)\n",
    "           #print(torch.argmax(output,axis=1))\n",
    "           #print(output)\n",
    "           #print(torch.reshape(labels,(1,20))[0])\n",
    "           #output1d = torch.argmax(output,axis=1)\n",
    "           labels1d = torch.reshape(input=labels,shape=(1,200))[0]\n",
    "           loss = criterion(output, labels1d.long())\n",
    "           optimizer.zero_grad() # clear previous gradients\n",
    "           loss.backward() # backward pass\n",
    "           optimizer.step()\n",
    "           train_loss += loss.item()\n",
    "           #print(np.argmax(output.detach().numpy(),axis=1))\n",
    "           #print(labels.detach().numpy())\n",
    "           correct += (np.argmax(output.detach().numpy(),axis=1) == labels.detach().numpy()).sum()\n",
    "           print('{} Loss: {:.4f}'.format(\n",
    "               'train', train_loss))\n",
    "           train_losses.append(loss.item())\n",
    "       accuracy = 100 * correct / len(dataset)\n",
    "       accuracylist.append(accuracy)\n",
    "   time_elapsed = time.time() - since\n",
    "   print('Training complete in {:.0f}m {:.0f}s'.format(\n",
    "       time_elapsed // 60, time_elapsed % 60))"
   ]
  },
  {
   "cell_type": "code",
   "execution_count": 55,
   "metadata": {},
   "outputs": [],
   "source": [
    "validate_losses = []\n",
    "def validate_model(model, num_epochs=25):\n",
    "    since = time.time()\n",
    "    for epoch in range(num_epochs):\n",
    "        print('Epoch {}/{}'.format(epoch, num_epochs - 1))\n",
    "        print('-' * 10)\n",
    "        # Evaluate\n",
    "        # model.eval()\n",
    "        #Initialize\n",
    "        correct = 0\n",
    "        # Iterate over data.\n",
    "        for features, labels in validate_loader:\n",
    "            output = model(features.float())\n",
    "            correct += (np.argmax(output.detach().numpy(),axis=1) == labels.detach().numpy()).sum()/len(dataset) *100\n",
    "        validate_losses.append(correct)\n",
    "        print('{} Acc: {:.4f}'.format(\n",
    "            'Validate', correct))"
   ]
  },
  {
   "cell_type": "code",
   "execution_count": 56,
   "metadata": {},
   "outputs": [],
   "source": [
    "# Define Hyper Parameters\n",
    "criterion = torch.nn.CrossEntropyLoss()\n",
    "optimizer_ft = optim.SGD(model.parameters(), lr=0.001, momentum=0.9)"
   ]
  },
  {
   "cell_type": "code",
   "execution_count": 57,
   "metadata": {},
   "outputs": [
    {
     "name": "stdout",
     "output_type": "stream",
     "text": [
      "Epoch 0/24\n",
      "----------\n",
      "train Loss: 2.5143\n",
      "train Loss: 5.0364\n",
      "train Loss: 7.5972\n",
      "train Loss: 10.1191\n",
      "epoch 1/25, step 5/550, inputs torch.Size([200, 22])\n",
      "train Loss: 12.6800\n",
      "train Loss: 15.2188\n",
      "train Loss: 17.6918\n",
      "train Loss: 20.1727\n",
      "train Loss: 22.7240\n",
      "epoch 1/25, step 10/550, inputs torch.Size([200, 22])\n",
      "train Loss: 25.2246\n",
      "train Loss: 27.7002\n",
      "Epoch 1/24\n",
      "----------\n",
      "train Loss: 2.4971\n",
      "train Loss: 5.0486\n",
      "train Loss: 7.5665\n",
      "train Loss: 10.0609\n",
      "epoch 2/25, step 5/550, inputs torch.Size([200, 22])\n",
      "train Loss: 12.5783\n",
      "train Loss: 15.0321\n",
      "train Loss: 17.5219\n",
      "train Loss: 20.0148\n",
      "train Loss: 22.4582\n",
      "epoch 2/25, step 10/550, inputs torch.Size([200, 22])\n",
      "train Loss: 24.9595\n",
      "train Loss: 27.4350\n",
      "Epoch 2/24\n",
      "----------\n",
      "train Loss: 2.4456\n",
      "train Loss: 4.9471\n",
      "train Loss: 7.4170\n",
      "train Loss: 9.8689\n",
      "epoch 3/25, step 5/550, inputs torch.Size([200, 22])\n",
      "train Loss: 12.3285\n",
      "train Loss: 14.7877\n",
      "train Loss: 17.2726\n",
      "train Loss: 19.7536\n",
      "train Loss: 22.1874\n",
      "epoch 3/25, step 10/550, inputs torch.Size([200, 22])\n",
      "train Loss: 24.6340\n",
      "train Loss: 27.1022\n",
      "Epoch 3/24\n",
      "----------\n",
      "train Loss: 2.4079\n",
      "train Loss: 4.8788\n",
      "train Loss: 7.3423\n",
      "train Loss: 9.8032\n",
      "epoch 4/25, step 5/550, inputs torch.Size([200, 22])\n",
      "train Loss: 12.2508\n",
      "train Loss: 14.6860\n",
      "train Loss: 17.1302\n",
      "train Loss: 19.5763\n",
      "train Loss: 22.0312\n",
      "epoch 4/25, step 10/550, inputs torch.Size([200, 22])\n",
      "train Loss: 24.5238\n",
      "train Loss: 26.9966\n",
      "Epoch 4/24\n",
      "----------\n",
      "train Loss: 2.4660\n",
      "train Loss: 4.9040\n",
      "train Loss: 7.3435\n",
      "train Loss: 9.7725\n",
      "epoch 5/25, step 5/550, inputs torch.Size([200, 22])\n",
      "train Loss: 12.1782\n",
      "train Loss: 14.6224\n",
      "train Loss: 17.0438\n",
      "train Loss: 19.4886\n",
      "train Loss: 21.9713\n",
      "epoch 5/25, step 10/550, inputs torch.Size([200, 22])\n",
      "train Loss: 24.4238\n",
      "train Loss: 26.8861\n",
      "Epoch 5/24\n",
      "----------\n",
      "train Loss: 2.4682\n",
      "train Loss: 4.8954\n",
      "train Loss: 7.3409\n",
      "train Loss: 9.7884\n",
      "epoch 6/25, step 5/550, inputs torch.Size([200, 22])\n",
      "train Loss: 12.2439\n",
      "train Loss: 14.6705\n",
      "train Loss: 17.1184\n",
      "train Loss: 19.5588\n",
      "train Loss: 21.9698\n",
      "epoch 6/25, step 10/550, inputs torch.Size([200, 22])\n",
      "train Loss: 24.4200\n",
      "train Loss: 26.8750\n",
      "Epoch 6/24\n",
      "----------\n",
      "train Loss: 2.4128\n",
      "train Loss: 4.8611\n",
      "train Loss: 7.2858\n",
      "train Loss: 9.7115\n",
      "epoch 7/25, step 5/550, inputs torch.Size([200, 22])\n",
      "train Loss: 12.1636\n",
      "train Loss: 14.6155\n",
      "train Loss: 17.0407\n",
      "train Loss: 19.4469\n",
      "train Loss: 21.8801\n",
      "epoch 7/25, step 10/550, inputs torch.Size([200, 22])\n",
      "train Loss: 24.3178\n",
      "train Loss: 26.7266\n",
      "Epoch 7/24\n",
      "----------\n",
      "train Loss: 2.4268\n",
      "train Loss: 4.8446\n",
      "train Loss: 7.2639\n",
      "train Loss: 9.7126\n",
      "epoch 8/25, step 5/550, inputs torch.Size([200, 22])\n",
      "train Loss: 12.1441\n",
      "train Loss: 14.5489\n",
      "train Loss: 17.0062\n",
      "train Loss: 19.4129\n",
      "train Loss: 21.8534\n",
      "epoch 8/25, step 10/550, inputs torch.Size([200, 22])\n",
      "train Loss: 24.2588\n",
      "train Loss: 26.6628\n",
      "Epoch 8/24\n",
      "----------\n",
      "train Loss: 2.4359\n",
      "train Loss: 4.8511\n",
      "train Loss: 7.2673\n",
      "train Loss: 9.6925\n",
      "epoch 9/25, step 5/550, inputs torch.Size([200, 22])\n",
      "train Loss: 12.1129\n",
      "train Loss: 14.5244\n",
      "train Loss: 16.9539\n",
      "train Loss: 19.3794\n",
      "train Loss: 21.7791\n",
      "epoch 9/25, step 10/550, inputs torch.Size([200, 22])\n",
      "train Loss: 24.2004\n",
      "train Loss: 26.6352\n",
      "Epoch 9/24\n",
      "----------\n",
      "train Loss: 2.4376\n",
      "train Loss: 4.8596\n",
      "train Loss: 7.2994\n",
      "train Loss: 9.6998\n",
      "epoch 10/25, step 5/550, inputs torch.Size([200, 22])\n",
      "train Loss: 12.1128\n",
      "train Loss: 14.5152\n",
      "train Loss: 16.9567\n",
      "train Loss: 19.3896\n",
      "train Loss: 21.8018\n",
      "epoch 10/25, step 10/550, inputs torch.Size([200, 22])\n",
      "train Loss: 24.1900\n",
      "train Loss: 26.6258\n",
      "Epoch 10/24\n",
      "----------\n",
      "train Loss: 2.4131\n",
      "train Loss: 4.8255\n",
      "train Loss: 7.2562\n",
      "train Loss: 9.6880\n",
      "epoch 11/25, step 5/550, inputs torch.Size([200, 22])\n",
      "train Loss: 12.1008\n",
      "train Loss: 14.5215\n",
      "train Loss: 16.9271\n",
      "train Loss: 19.3355\n",
      "train Loss: 21.7246\n",
      "epoch 11/25, step 10/550, inputs torch.Size([200, 22])\n",
      "train Loss: 24.1552\n",
      "train Loss: 26.5797\n",
      "Epoch 11/24\n",
      "----------\n",
      "train Loss: 2.4071\n",
      "train Loss: 4.8293\n",
      "train Loss: 7.2172\n",
      "train Loss: 9.6659\n",
      "epoch 12/25, step 5/550, inputs torch.Size([200, 22])\n",
      "train Loss: 12.0975\n",
      "train Loss: 14.5259\n",
      "train Loss: 16.9390\n",
      "train Loss: 19.3637\n",
      "train Loss: 21.7614\n",
      "epoch 12/25, step 10/550, inputs torch.Size([200, 22])\n",
      "train Loss: 24.1562\n",
      "train Loss: 26.6073\n",
      "Epoch 12/24\n",
      "----------\n",
      "train Loss: 2.4236\n",
      "train Loss: 4.8430\n",
      "train Loss: 7.2458\n",
      "train Loss: 9.6635\n",
      "epoch 13/25, step 5/550, inputs torch.Size([200, 22])\n",
      "train Loss: 12.0807\n",
      "train Loss: 14.5059\n",
      "train Loss: 16.9226\n",
      "train Loss: 19.3561\n",
      "train Loss: 21.7531\n",
      "epoch 13/25, step 10/550, inputs torch.Size([200, 22])\n",
      "train Loss: 24.1633\n",
      "train Loss: 26.5836\n",
      "Epoch 13/24\n",
      "----------\n",
      "train Loss: 2.4244\n",
      "train Loss: 4.8413\n",
      "train Loss: 7.2775\n",
      "train Loss: 9.6926\n",
      "epoch 14/25, step 5/550, inputs torch.Size([200, 22])\n",
      "train Loss: 12.1036\n",
      "train Loss: 14.5040\n",
      "train Loss: 16.9219\n",
      "train Loss: 19.3338\n",
      "train Loss: 21.7332\n",
      "epoch 14/25, step 10/550, inputs torch.Size([200, 22])\n",
      "train Loss: 24.1642\n",
      "train Loss: 26.5995\n",
      "Epoch 14/24\n",
      "----------\n",
      "train Loss: 2.4216\n",
      "train Loss: 4.8350\n",
      "train Loss: 7.2732\n",
      "train Loss: 9.6906\n",
      "epoch 15/25, step 5/550, inputs torch.Size([200, 22])\n",
      "train Loss: 12.0813\n",
      "train Loss: 14.4987\n",
      "train Loss: 16.9166\n",
      "train Loss: 19.3172\n",
      "train Loss: 21.7156\n",
      "epoch 15/25, step 10/550, inputs torch.Size([200, 22])\n",
      "train Loss: 24.1433\n",
      "train Loss: 26.5648\n",
      "Epoch 15/24\n",
      "----------\n",
      "train Loss: 2.4073\n",
      "train Loss: 4.8081\n",
      "train Loss: 7.2288\n",
      "train Loss: 9.6097\n",
      "epoch 16/25, step 5/550, inputs torch.Size([200, 22])\n",
      "train Loss: 12.0386\n",
      "train Loss: 14.4653\n",
      "train Loss: 16.8933\n",
      "train Loss: 19.3183\n",
      "train Loss: 21.7260\n",
      "epoch 16/25, step 10/550, inputs torch.Size([200, 22])\n",
      "train Loss: 24.1510\n",
      "train Loss: 26.5639\n",
      "Epoch 16/24\n",
      "----------\n",
      "train Loss: 2.4340\n",
      "train Loss: 4.8411\n",
      "train Loss: 7.2572\n",
      "train Loss: 9.6494\n",
      "epoch 17/25, step 5/550, inputs torch.Size([200, 22])\n",
      "train Loss: 12.0809\n",
      "train Loss: 14.4972\n",
      "train Loss: 16.9240\n",
      "train Loss: 19.3569\n",
      "train Loss: 21.7362\n",
      "epoch 17/25, step 10/550, inputs torch.Size([200, 22])\n",
      "train Loss: 24.1486\n",
      "train Loss: 26.5849\n",
      "Epoch 17/24\n",
      "----------\n",
      "train Loss: 2.4140\n",
      "train Loss: 4.8319\n",
      "train Loss: 7.2467\n",
      "train Loss: 9.6752\n",
      "epoch 18/25, step 5/550, inputs torch.Size([200, 22])\n",
      "train Loss: 12.1041\n",
      "train Loss: 14.4986\n",
      "train Loss: 16.8941\n",
      "train Loss: 19.2970\n",
      "train Loss: 21.6988\n",
      "epoch 18/25, step 10/550, inputs torch.Size([200, 22])\n",
      "train Loss: 24.1160\n",
      "train Loss: 26.5356\n",
      "Epoch 18/24\n",
      "----------\n",
      "train Loss: 2.3855\n",
      "train Loss: 4.8117\n",
      "train Loss: 7.2332\n",
      "train Loss: 9.6389\n",
      "epoch 19/25, step 5/550, inputs torch.Size([200, 22])\n",
      "train Loss: 12.0305\n",
      "train Loss: 14.4280\n",
      "train Loss: 16.8422\n",
      "train Loss: 19.2693\n",
      "train Loss: 21.6916\n",
      "epoch 19/25, step 10/550, inputs torch.Size([200, 22])\n",
      "train Loss: 24.1158\n",
      "train Loss: 26.5121\n",
      "Epoch 19/24\n",
      "----------\n",
      "train Loss: 2.4117\n",
      "train Loss: 4.8210\n",
      "train Loss: 7.2437\n",
      "train Loss: 9.6382\n",
      "epoch 20/25, step 5/550, inputs torch.Size([200, 22])\n",
      "train Loss: 12.0519\n",
      "train Loss: 14.4725\n",
      "train Loss: 16.8955\n",
      "train Loss: 19.3007\n",
      "train Loss: 21.7031\n",
      "epoch 20/25, step 10/550, inputs torch.Size([200, 22])\n",
      "train Loss: 24.1111\n",
      "train Loss: 26.5265\n",
      "Epoch 20/24\n",
      "----------\n",
      "train Loss: 2.4254\n",
      "train Loss: 4.8435\n",
      "train Loss: 7.2291\n",
      "train Loss: 9.6339\n",
      "epoch 21/25, step 5/550, inputs torch.Size([200, 22])\n",
      "train Loss: 12.0341\n",
      "train Loss: 14.4725\n",
      "train Loss: 16.8845\n",
      "train Loss: 19.3002\n",
      "train Loss: 21.6985\n",
      "epoch 21/25, step 10/550, inputs torch.Size([200, 22])\n",
      "train Loss: 24.1130\n",
      "train Loss: 26.5191\n",
      "Epoch 21/24\n",
      "----------\n",
      "train Loss: 2.4080\n",
      "train Loss: 4.8284\n",
      "train Loss: 7.2514\n",
      "train Loss: 9.6627\n",
      "epoch 22/25, step 5/550, inputs torch.Size([200, 22])\n",
      "train Loss: 12.0828\n",
      "train Loss: 14.4827\n",
      "train Loss: 16.8703\n",
      "train Loss: 19.2883\n",
      "train Loss: 21.7022\n",
      "epoch 22/25, step 10/550, inputs torch.Size([200, 22])\n",
      "train Loss: 24.1209\n",
      "train Loss: 26.5470\n",
      "Epoch 22/24\n",
      "----------\n",
      "train Loss: 2.4188\n",
      "train Loss: 4.8470\n",
      "train Loss: 7.2698\n",
      "train Loss: 9.6777\n",
      "epoch 23/25, step 5/550, inputs torch.Size([200, 22])\n",
      "train Loss: 12.0967\n",
      "train Loss: 14.5012\n",
      "train Loss: 16.9024\n",
      "train Loss: 19.2984\n",
      "train Loss: 21.6957\n",
      "epoch 23/25, step 10/550, inputs torch.Size([200, 22])\n",
      "train Loss: 24.1484\n",
      "train Loss: 26.5585\n",
      "Epoch 23/24\n",
      "----------\n",
      "train Loss: 2.4036\n",
      "train Loss: 4.8149\n",
      "train Loss: 7.2360\n",
      "train Loss: 9.6662\n",
      "epoch 24/25, step 5/550, inputs torch.Size([200, 22])\n",
      "train Loss: 12.0695\n",
      "train Loss: 14.4835\n",
      "train Loss: 16.8910\n",
      "train Loss: 19.2872\n",
      "train Loss: 21.6938\n",
      "epoch 24/25, step 10/550, inputs torch.Size([200, 22])\n",
      "train Loss: 24.1121\n",
      "train Loss: 26.5310\n",
      "Epoch 24/24\n",
      "----------\n",
      "train Loss: 2.4081\n",
      "train Loss: 4.8124\n",
      "train Loss: 7.2191\n",
      "train Loss: 9.6156\n",
      "epoch 25/25, step 5/550, inputs torch.Size([200, 22])\n",
      "train Loss: 12.0185\n",
      "train Loss: 14.4346\n",
      "train Loss: 16.8407\n",
      "train Loss: 19.2631\n",
      "train Loss: 21.6708\n",
      "epoch 25/25, step 10/550, inputs torch.Size([200, 22])\n",
      "train Loss: 24.1076\n",
      "train Loss: 26.5174\n",
      "Training complete in 0m 1s\n"
     ]
    }
   ],
   "source": [
    "train_model(model, criterion, optimizer_ft, num_epochs=25)"
   ]
  },
  {
   "cell_type": "code",
   "execution_count": 58,
   "metadata": {},
   "outputs": [
    {
     "name": "stdout",
     "output_type": "stream",
     "text": [
      "Epoch 0/24\n",
      "----------\n",
      "Validate Acc: 10.3636\n",
      "Epoch 1/24\n",
      "----------\n",
      "Validate Acc: 10.7727\n",
      "Epoch 2/24\n",
      "----------\n",
      "Validate Acc: 11.4545\n",
      "Epoch 3/24\n",
      "----------\n",
      "Validate Acc: 10.7273\n",
      "Epoch 4/24\n",
      "----------\n",
      "Validate Acc: 10.7727\n",
      "Epoch 5/24\n",
      "----------\n",
      "Validate Acc: 11.3182\n",
      "Epoch 6/24\n",
      "----------\n",
      "Validate Acc: 10.3182\n",
      "Epoch 7/24\n",
      "----------\n",
      "Validate Acc: 11.0000\n",
      "Epoch 8/24\n",
      "----------\n",
      "Validate Acc: 10.6818\n",
      "Epoch 9/24\n",
      "----------\n",
      "Validate Acc: 10.6818\n",
      "Epoch 10/24\n",
      "----------\n",
      "Validate Acc: 10.2273\n",
      "Epoch 11/24\n",
      "----------\n",
      "Validate Acc: 10.8636\n",
      "Epoch 12/24\n",
      "----------\n",
      "Validate Acc: 10.7273\n",
      "Epoch 13/24\n",
      "----------\n",
      "Validate Acc: 10.4545\n",
      "Epoch 14/24\n",
      "----------\n",
      "Validate Acc: 10.4091\n",
      "Epoch 15/24\n",
      "----------\n",
      "Validate Acc: 10.9091\n",
      "Epoch 16/24\n",
      "----------\n",
      "Validate Acc: 11.1818\n",
      "Epoch 17/24\n",
      "----------\n",
      "Validate Acc: 11.5000\n",
      "Epoch 18/24\n",
      "----------\n",
      "Validate Acc: 10.8182\n",
      "Epoch 19/24\n",
      "----------\n",
      "Validate Acc: 11.6364\n",
      "Epoch 20/24\n",
      "----------\n",
      "Validate Acc: 10.8182\n",
      "Epoch 21/24\n",
      "----------\n",
      "Validate Acc: 10.1364\n",
      "Epoch 22/24\n",
      "----------\n",
      "Validate Acc: 11.0455\n",
      "Epoch 23/24\n",
      "----------\n",
      "Validate Acc: 10.8182\n",
      "Epoch 24/24\n",
      "----------\n",
      "Validate Acc: 10.5000\n"
     ]
    }
   ],
   "source": [
    "validate_model(model,num_epochs=25)"
   ]
  },
  {
   "cell_type": "code",
   "execution_count": 59,
   "metadata": {},
   "outputs": [
    {
     "data": {
      "image/png": "[encoded data removed]",
      "text/plain": [
       "<Figure size 720x360 with 1 Axes>"
      ]
     },
     "metadata": {
      "needs_background": "light"
     },
     "output_type": "display_data"
    },
    {
     "data": {
      "image/png": "[encoded data removed]",
      "text/plain": [
       "<Figure size 720x360 with 1 Axes>"
      ]
     },
     "metadata": {
      "needs_background": "light"
     },
     "output_type": "display_data"
    }
   ],
   "source": [
    "plt.figure(figsize=(10,5))\n",
    "plt.title(\"Training Loss\")\n",
    "plt.plot(train_losses,label=\"train\")\n",
    "plt.xlabel(\"iterations\")\n",
    "plt.ylabel(\"Loss\")\n",
    "plt.legend()\n",
    "plt.show()\n",
    "plt.figure(figsize=(10,5))\n",
    "plt.title(\"Training Accuracy\")\n",
    "plt.plot(accuracylist,label=\"train\")\n",
    "plt.xlabel(\"iterations\")\n",
    "plt.ylabel(\"Accuracy\")\n",
    "plt.legend()\n",
    "plt.show()"
   ]
  },
  {
   "cell_type": "code",
   "execution_count": 60,
   "metadata": {},
   "outputs": [
    {
     "data": {
      "image/png": "[encoded data removed]",
      "text/plain": [
       "<Figure size 720x360 with 1 Axes>"
      ]
     },
     "metadata": {
      "needs_background": "light"
     },
     "output_type": "display_data"
    }
   ],
   "source": [
    "plt.figure(figsize=(10,5))\n",
    "plt.title(\"Validation Accuracy\")\n",
    "plt.plot(validate_losses,label=\"validation\")\n",
    "plt.xlabel(\"iterations\")\n",
    "plt.ylabel(\"Loss\")\n",
    "plt.legend()\n",
    "plt.show()"
   ]
  },
  {
   "cell_type": "code",
   "execution_count": 61,
   "metadata": {},
   "outputs": [],
   "source": [
    "torch.save(model.state_dict(), 'GestureFusionNet.pth')"
   ]
  },
  {
   "cell_type": "markdown",
   "metadata": {},
   "source": [
    "### Calculate top-1 accuracy of the pre-trained model"
   ]
  },
  {
   "cell_type": "markdown",
   "metadata": {},
   "source": [
    "## Test Model in Pytorch if the OpenCL implement is correct\n",
    "By comprare the result of OpenCL implement and PyTorch implement using a single image as input  \n",
    "error = ((OpenCL_implement_class_socores - PyTorch_implement_class_socores) ^ 2).sum(element_wise)  \n",
    "If the OpenCL implement is correct, error should be relativly small."
   ]
  },
  {
   "cell_type": "code",
   "execution_count": 62,
   "metadata": {},
   "outputs": [
    {
     "name": "stdout",
     "output_type": "stream",
     "text": [
      "tensor([[ 0.0000,  0.0000,  0.0000,  0.0889,  0.0000,  0.0000,  0.0827,  0.0000,\n",
      "          0.2042,  0.9053,  0.0000, -2.4354, -2.3757, -2.5684, -2.2928, -2.1506,\n",
      "         -2.5363, -2.4902, -2.4168, -2.2438, -2.4823, -2.4700]]) tensor([[9.]])\n"
     ]
    }
   ],
   "source": [
    "# load the test image\n",
    "dataiter = iter(validate_loader)\n",
    "data = dataiter.next()\n",
    "features, label = data\n",
    "print(features, label)"
   ]
  },
  {
   "cell_type": "code",
   "execution_count": 147,
   "metadata": {},
   "outputs": [
    {
     "name": "stdout",
     "output_type": "stream",
     "text": [
      "tensor([[-2.2760, -2.2956, -2.4030, -2.6627, -2.4446, -2.2808, -2.6449, -2.3494,\n",
      "         -2.2670, -2.2920, -2.5731]], grad_fn=<ViewBackward0>)\n",
      "tensor([8])\n",
      "the label index prediction of pytorch implement: tensor([8])\n"
     ]
    }
   ],
   "source": [
    "model.cpu()\n",
    "x_test = features\n",
    "y_test = model(x_test.float())\n",
    "print(y_test)\n",
    "_, predicted = torch.max(y_test.data, 1)\n",
    "print(predicted)\n",
    "print('the label index prediction of pytorch implement: '+str(predicted))"
   ]
  },
  {
   "cell_type": "code",
   "execution_count": 163,
   "metadata": {},
   "outputs": [
    {
     "name": "stdout",
     "output_type": "stream",
     "text": [
      "(22,)\n"
     ]
    },
    {
     "data": {
      "text/plain": [
       "tensor([[-2.1806, -2.6862, -2.6195, -2.9565, -2.2370, -2.1039, -2.8574, -2.4503,\n",
       "         -2.4781, -1.8457, -2.5283]], grad_fn=<ViewBackward0>)"
      ]
     },
     "execution_count": 163,
     "metadata": {},
     "output_type": "execute_result"
    }
   ],
   "source": [
    "# Circle\n",
    "xf_cam=[7.53542,6.16413,4.4144,4.2853,7.87615,3.54876,6.86316,7.75994,6.2377,6.609,12.5034]\n",
    "xf_adxl = [-2.43538236618042,-2.3757214546203613,-2.568444013595581,-2.292815685272217,-2.1506237983703613,-2.5363268852233887,-2.4902496337890625,-2.416814088821411,-2.243840456008911,-2.482288360595703,-2.4699766635894775]\n",
    "xf=np.concatenate((xf_cam,xf_adxl))\n",
    "print(xf.shape)\n",
    "xf=xf[np.newaxis,:]\n",
    "xf= torch.from_numpy(xf)\n",
    "model(xf.float())"
   ]
  },
  {
   "cell_type": "code",
   "execution_count": 164,
   "metadata": {},
   "outputs": [],
   "source": [
    "# OpenCL setup\n",
    "import pyopencl as cl\n",
    "import deviceinfo"
   ]
  },
  {
   "cell_type": "code",
   "execution_count": 165,
   "metadata": {},
   "outputs": [
    {
     "name": "stdout",
     "output_type": "stream",
     "text": [
      "Device is NVIDIA GeForce GTX 1650 TiGPU from NVIDIA Corporation with a max of 16 compute units\n"
     ]
    }
   ],
   "source": [
    "# Ask the user to select a platform/device on the CLI\n",
    "context = cl.create_some_context()\n",
    "\n",
    "# Print out device info\n",
    "deviceinfo.output_device_info(context.devices[0])\n",
    "\n",
    "# Create a command queue\n",
    "queue = cl.CommandQueue(context)"
   ]
  },
  {
   "cell_type": "markdown",
   "metadata": {},
   "source": [
    "#### Step 2: import parameters from pytorch implement"
   ]
  },
  {
   "cell_type": "code",
   "execution_count": 166,
   "metadata": {},
   "outputs": [
    {
     "name": "stdout",
     "output_type": "stream",
     "text": [
      "features.0.weight (15, 22)\n",
      "features.0.bias (15,)\n",
      "features.2.weight (11, 15)\n",
      "features.2.bias (11,)\n",
      "classifier.1.weight (11, 11)\n",
      "classifier.1.bias (11,)\n",
      "15\n",
      "11\n",
      "11\n"
     ]
    }
   ],
   "source": [
    "params = model.state_dict()\n",
    "for k,v in params.items():\n",
    "    # print parameter name\n",
    "    print(k,params[k].numpy().shape)\n",
    "layer1_weight = params['features.0.weight'].numpy().reshape(-1)\n",
    "layer1_bias = params['features.0.bias'].numpy()\n",
    "layer2_weight = params['features.2.weight'].numpy().reshape(-1)\n",
    "layer2_bias = params['features.2.bias'].numpy()\n",
    "classifier_weight = params['classifier.1.weight'].numpy().reshape(-1)\n",
    "classifier_bias = params['classifier.1.bias'].numpy()\n",
    "print(len(layer1_bias))\n",
    "print(len(layer2_bias))\n",
    "print(len(classifier_bias))"
   ]
  },
  {
   "cell_type": "code",
   "execution_count": 167,
   "metadata": {},
   "outputs": [
    {
     "name": "stdout",
     "output_type": "stream",
     "text": [
      "(22,)\n",
      "torch.Size([15])\n"
     ]
    }
   ],
   "source": [
    "print(params['features.0.weight'].numpy()[0].shape)\n",
    "print(params['features.0.bias'].shape)"
   ]
  },
  {
   "cell_type": "code",
   "execution_count": 168,
   "metadata": {},
   "outputs": [
    {
     "name": "stdout",
     "output_type": "stream",
     "text": [
      "[-0.08581615  0.21964847 -0.10777292  0.00992819 -0.22319528  0.11712896\n",
      " -0.09502599 -0.0180279   0.00413159  0.089899   -0.18853663 -0.06026186\n",
      " -0.14539456 -0.12327883  0.15491678]\n"
     ]
    }
   ],
   "source": [
    "print(layer1_bias)"
   ]
  },
  {
   "cell_type": "markdown",
   "metadata": {},
   "source": [
    "Create OpenCL memory object"
   ]
  },
  {
   "cell_type": "code",
   "execution_count": 170,
   "metadata": {},
   "outputs": [],
   "source": [
    "h_sample = xf.float().numpy().reshape(-1)\n",
    "h_result_layer1 = np.empty(1 * len(layer1_bias)).astype(np.float32)\n",
    "h_result_layer2 = np.empty(1 * len(layer2_bias)).astype(np.float32)\n",
    "h_result_classifier = np.empty(1 * len(classifier_bias)).astype(np.float32)\n",
    "\n",
    "# device input buffer\n",
    "d_sample = cl.Buffer(context, cl.mem_flags.READ_ONLY | cl.mem_flags.COPY_HOST_PTR, hostbuf=h_sample)\n",
    "\n",
    "# device buffers \n",
    "d_layer1_weight = cl.Buffer(context, cl.mem_flags.READ_ONLY | cl.mem_flags.COPY_HOST_PTR, hostbuf=layer1_weight)\n",
    "d_layer1_bias = cl.Buffer(context, cl.mem_flags.READ_ONLY | cl.mem_flags.COPY_HOST_PTR, hostbuf=layer1_bias)\n",
    "d_layer2_weight = cl.Buffer(context, cl.mem_flags.READ_ONLY | cl.mem_flags.COPY_HOST_PTR, hostbuf=layer2_weight)\n",
    "d_layer2_bias = cl.Buffer(context, cl.mem_flags.READ_ONLY | cl.mem_flags.COPY_HOST_PTR, hostbuf=layer2_bias)\n",
    "d_classifier_weight = cl.Buffer(context, cl.mem_flags.READ_ONLY | cl.mem_flags.COPY_HOST_PTR, hostbuf=classifier_weight)\n",
    "d_classifier_bias = cl.Buffer(context, cl.mem_flags.READ_ONLY | cl.mem_flags.COPY_HOST_PTR, hostbuf=classifier_bias)\n",
    "\n",
    "d_result_layer1 = cl.Buffer(context, cl.mem_flags.WRITE_ONLY, h_result_layer1.nbytes)\n",
    "d_result_layer2 = cl.Buffer(context, cl.mem_flags.WRITE_ONLY, h_result_layer2.nbytes)\n",
    "d_result_classifier = cl.Buffer(context, cl.mem_flags.WRITE_ONLY, h_result_classifier.nbytes)"
   ]
  },
  {
   "cell_type": "markdown",
   "metadata": {},
   "source": [
    "#### Step 3: create kernels\n",
    "Create & build program"
   ]
  },
  {
   "cell_type": "code",
   "execution_count": 171,
   "metadata": {},
   "outputs": [],
   "source": [
    "kernelSource = open(\"gesturenet.cl\").read()\n",
    "program = cl.Program(context, kernelSource).build(options=\"\")"
   ]
  },
  {
   "cell_type": "markdown",
   "metadata": {},
   "source": [
    "Create kernels"
   ]
  },
  {
   "cell_type": "code",
   "execution_count": 172,
   "metadata": {},
   "outputs": [],
   "source": [
    "conv3x3 = program.conv2d3x3\n",
    "conv3x3.set_scalar_arg_dtypes([np.int32, np.int32, np.int32, np.int32, np.int32, np.int32, \\\n",
    "                               None, None, None, None])\n",
    "\n",
    "maxpool = program.maxpool2d\n",
    "maxpool.set_scalar_arg_dtypes([np.int32, np.int32, None, None])\n",
    "\n",
    "conv1x1 = program.conv2d1x1\n",
    "conv1x1.set_scalar_arg_dtypes([np.int32, np.int32, np.int32,\\\n",
    "                               None, None, None, None])\n",
    "\n",
    "avgpool = program.avgpool2d\n",
    "avgpool.set_scalar_arg_dtypes([np.int32,np.int32,None, None])\n",
    "\n",
    "fc = program.fc\n",
    "fc.set_scalar_arg_dtypes([np.int32,np.int32,None,None,None,None])"
   ]
  },
  {
   "cell_type": "markdown",
   "metadata": {},
   "source": [
    "Run OpenCL implement  "
   ]
  },
  {
   "cell_type": "code",
   "execution_count": 173,
   "metadata": {},
   "outputs": [
    {
     "name": "stdout",
     "output_type": "stream",
     "text": [
      "The kernel ran in 0.0049877166748046875 seconds\n"
     ]
    }
   ],
   "source": [
    "import time\n",
    "rtime = time.time()\n",
    "# First\n",
    "fc(queue,(len(layer1_bias),),None,len(h_sample),1,d_sample,d_layer1_weight,d_layer1_bias,d_result_layer1)\n",
    "# Second\n",
    "fc(queue,(len(layer2_bias),),None,len(layer1_bias),1,d_result_layer1,d_layer2_weight,d_layer2_bias,d_result_layer2)\n",
    "# classifier\n",
    "fc(queue,(len(classifier_bias),),None,len(layer2_bias),0,d_result_layer2,d_classifier_weight,d_classifier_bias,d_result_classifier)\n",
    "\n",
    "queue.finish()\n",
    "rtime = time.time() - rtime\n",
    "print(\"The kernel ran in\", rtime, \"seconds\")"
   ]
  },
  {
   "cell_type": "code",
   "execution_count": 174,
   "metadata": {},
   "outputs": [
    {
     "data": {
      "text/plain": [
       "[-1.8493465185165405,\n",
       " -2.3097469806671143,\n",
       " -2.8168225288391113,\n",
       " -2.799983263015747,\n",
       " -2.2405295372009277,\n",
       " -2.3777267932891846,\n",
       " -2.9348278045654297,\n",
       " -2.676616668701172,\n",
       " -2.41953182220459,\n",
       " -2.06436824798584,\n",
       " -2.455657720565796]"
      ]
     },
     "execution_count": 174,
     "metadata": {},
     "output_type": "execute_result"
    }
   ],
   "source": [
    "z = model(xf.float())\n",
    "z.detach().numpy().tolist()[0]"
   ]
  },
  {
   "cell_type": "code",
   "execution_count": 175,
   "metadata": {},
   "outputs": [
    {
     "name": "stdout",
     "output_type": "stream",
     "text": [
      "the label index prediction of OpenCL implement: 8\n",
      "Predicted Label: 0\n",
      "OpenCL implement error:  66.7579\n",
      "(15,)\n",
      "(11,)\n",
      "(11,)\n",
      "[-2.275974750518799, -2.295553684234619, -2.402991533279419, -2.6627485752105713, -2.444613218307495, -2.2807538509368896, -2.644904851913452, -2.3493869304656982, -2.267033576965332, -2.291966438293457, -2.5730643272399902]\n",
      "[ 0.12593782 -0.21019289  0.01410684  0.286166    0.203709   -0.26232317\n",
      " -0.833421    0.3914472   0.50924486 -0.32969183 -0.20965008]\n"
     ]
    }
   ],
   "source": [
    "#copy result from gpu\n",
    "cl.enqueue_copy(queue, h_result_classifier, d_result_classifier)\n",
    "queue.finish()\n",
    "label_opencl = np.argmax(h_result_classifier)\n",
    "print('the label index prediction of OpenCL implement: %d' % label_opencl)\n",
    "correct_result = z.data.numpy().reshape(-1)\n",
    "print(\"Predicted Label:\", str(np.argmax(z.detach().numpy())))\n",
    "error = ((correct_result - h_result_classifier) ** 2).sum()\n",
    "print('OpenCL implement error: ', error)\n",
    "cl.enqueue_copy(queue, h_result_layer1, d_result_layer1)\n",
    "print(h_result_layer1.shape)\n",
    "cl.enqueue_copy(queue, h_result_layer2, d_result_layer2)\n",
    "print(h_result_layer2.shape)\n",
    "cl.enqueue_copy(queue, h_result_classifier, d_result_classifier)\n",
    "print(h_result_classifier.shape)\n",
    "print(y_test.detach().numpy().tolist()[0])\n",
    "print(h_result_classifier)"
   ]
  },
  {
   "cell_type": "code",
   "execution_count": 161,
   "metadata": {},
   "outputs": [
    {
     "name": "stdout",
     "output_type": "stream",
     "text": [
      "[-2.227846563168437, -2.2919032278737137, -2.354013219781787, -2.5830887484630654, -2.4918218835523436, -2.366593398459823, -2.6446932706317017, -2.3410880270680496, -2.233863964982898, -2.375169873543651, -2.567630522259147]\n"
     ]
    },
    {
     "data": {
      "text/plain": [
       "0"
      ]
     },
     "execution_count": 161,
     "metadata": {},
     "output_type": "execute_result"
    }
   ],
   "source": [
    "import math\n",
    "total = 0\n",
    "for i in range(0,len(h_result_classifier)):\n",
    "    total += math.exp(h_result_classifier[i])\n",
    "softlist = []\n",
    "for j in range(0,len(h_result_classifier)):\n",
    "    softlist.append(math.log(math.exp(h_result_classifier[j])/total))\n",
    "print(softlist)\n",
    "np.argmax(softlist)"
   ]
  },
  {
   "cell_type": "code",
   "execution_count": 176,
   "metadata": {},
   "outputs": [
    {
     "name": "stdout",
     "output_type": "stream",
     "text": [
      "[ 7.53542    6.16413    4.4144     4.2853     7.87615    3.54876\n",
      "  6.86316    7.75994    6.2377     6.609     12.5034    -2.4353824\n",
      " -2.3757215 -2.568444  -2.2928157 -2.1506238 -2.536327  -2.4902496\n",
      " -2.416814  -2.2438405 -2.4822884 -2.4699767]\n",
      "15\n",
      "[0, 4.6666365, 0, 0, 0.07350059, 0, 0, 3.4917524, 0, 1.3498858, 0, 0, 1.602461, 2.7651904, 0]\n",
      "11\n",
      "[0, 0, 0.8783022509887815, 0.6575995068997145, 0.8723443802446127, 1.9955746131017804, 0, 0, 0, 0, 0]\n",
      "11\n",
      "[0.12593777960703917, -0.2101928896066153, 0.014106844138196767, 0.2861660664203995, 0.20370904059624811, -0.2623231991745858, -0.8334209821364852, 0.3914472074148263, 0.5092449281041195, -0.3296918674699363, -0.2096500970825074]\n",
      "[-2.307069341811343, -2.6432000110249976, -2.4189002772801858, -2.146841054997983, -2.2292980808221343, -2.6953303205929684, -3.2664281035548677, -2.0415599140035563, -1.923762193314263, -2.7626989888883187, -2.6426572185008896]\n"
     ]
    },
    {
     "data": {
      "text/plain": [
       "8"
      ]
     },
     "execution_count": 176,
     "metadata": {},
     "output_type": "execute_result"
    }
   ],
   "source": [
    "# Layer 1\n",
    "print(h_sample)\n",
    "lay1out = []\n",
    "for i in range(0,len(layer1_bias)):\n",
    "    tmp = layer1_bias[i]\n",
    "    for j in range(0, len(h_sample)):\n",
    "        tmp = tmp + h_sample[j]*layer1_weight[i*len(h_sample)+j]\n",
    "        #print(j, h_sample[j], layer1_weight[i*len(h_sample)+j], tmp)\n",
    "    if tmp > 0:\n",
    "        lay1out.append(tmp)\n",
    "    else:\n",
    "        lay1out.append(0)\n",
    "print(len(lay1out))\n",
    "print(lay1out)\n",
    "# Layer 2\n",
    "lay2out = []\n",
    "for i in range(0,len(layer2_bias)):\n",
    "    tmp = layer2_bias[i]\n",
    "    for j in range(0, len(lay1out)):\n",
    "        tmp = tmp + lay1out[j]*layer2_weight[i*len(lay1out)+j]\n",
    "    if tmp > 0:\n",
    "        lay2out.append(tmp)\n",
    "    else:\n",
    "        lay2out.append(0)\n",
    "print(len(lay2out))\n",
    "print(lay2out)\n",
    "# Layer 4\n",
    "lay4out = []\n",
    "for i in range(0,len(classifier_bias)):\n",
    "    tmp = classifier_bias[i]\n",
    "    for j in range(0, len(lay2out)):\n",
    "        tmp = tmp + lay2out[j]*classifier_weight[i*len(lay2out)+j]\n",
    "    lay4out.append(tmp)\n",
    "print(len(lay4out))\n",
    "print(lay4out)\n",
    "# softmax\n",
    "import math\n",
    "total = 0\n",
    "for i in range(0,len(classifier_bias)):\n",
    "    total += math.exp(lay4out[i])\n",
    "softlist = []\n",
    "for j in range(0,len(classifier_bias)):\n",
    "    softlist.append(math.log(math.exp(lay4out[j])/total))\n",
    "print(softlist)\n",
    "np.argmax(softlist)"
   ]
  },
  {
   "cell_type": "code",
   "execution_count": 120,
   "metadata": {},
   "outputs": [
    {
     "name": "stdout",
     "output_type": "stream",
     "text": [
      "[0.         0.76522785 0.         0.         1.0909626  0.\n",
      " 0.         0.9141611  0.         0.99507725 0.         0.3914182\n",
      " 0.0225848  0.         0.8346449 ]\n"
     ]
    }
   ],
   "source": [
    "print(h_result_layer1)"
   ]
  },
  {
   "cell_type": "code",
   "execution_count": 81,
   "metadata": {},
   "outputs": [
    {
     "name": "stdout",
     "output_type": "stream",
     "text": [
      "[0.         0.23640126 0.06758584 0.14773476 0.06684428 0.10578736\n",
      " 0.         0.         0.         0.         0.        ]\n"
     ]
    }
   ],
   "source": [
    "print(h_result_layer2)"
   ]
  },
  {
   "cell_type": "code",
   "execution_count": 83,
   "metadata": {},
   "outputs": [
    {
     "name": "stdout",
     "output_type": "stream",
     "text": [
      "[ 0.24508141  0.15116419  0.11261825 -0.14547957 -0.04872648  0.09839498\n",
      " -0.16657802  0.10574111  0.2031898   0.10887353 -0.10496421]\n"
     ]
    }
   ],
   "source": [
    "print(h_result_classifier)"
   ]
  },
  {
   "cell_type": "markdown",
   "metadata": {},
   "source": [
    "# Export Weights"
   ]
  },
  {
   "cell_type": "code",
   "execution_count": 85,
   "metadata": {},
   "outputs": [],
   "source": [
    "with open('gesture_fusion_weights.h', 'w') as testfile:\n",
    "    testfile.write('//Layer1 Weights \\n')\n",
    "    testfile.write('float flayer1_weight[] = {\\n')\n",
    "    for wx in range(0,len(layer1_weight)):\n",
    "        if wx%5==0 and wx!=0:\n",
    "            testfile.write('\\n')\n",
    "        if wx == len(layer1_weight)-1:\n",
    "            testfile.write(str(layer1_weight[wx])+'f')\n",
    "        else:\n",
    "            testfile.write(str(layer1_weight[wx])+'f,')\n",
    "    testfile.write('};\\n')\n",
    "    testfile.write('float flayer1_bias[] = {\\n')\n",
    "    for rx in range(0,len(layer1_bias)):\n",
    "        if rx != len(layer1_bias)-1:\n",
    "            testfile.write(str(layer1_bias[rx])+'f,')\n",
    "        else:\n",
    "            testfile.write(str(layer1_bias[rx])+'f')\n",
    "    testfile.write('};\\n')\n",
    "    \n",
    "    testfile.write('//Layer2 Weights \\n')\n",
    "    testfile.write('float flayer2_weight[] = {\\n')\n",
    "    for wx in range(0,len(layer2_weight)):\n",
    "        if wx%5==0 and wx!=0:\n",
    "            testfile.write('\\n')\n",
    "        if wx == len(layer2_weight)-1:\n",
    "            testfile.write(str(layer2_weight[wx])+'f')\n",
    "        else:\n",
    "            testfile.write(str(layer2_weight[wx])+'f,')\n",
    "    testfile.write('};\\n')\n",
    "    testfile.write('float flayer2_bias[] = {\\n')\n",
    "    for rx in range(0,len(layer2_bias)):\n",
    "        if rx != len(layer2_bias)-1:\n",
    "            testfile.write(str(layer2_bias[rx])+'f,')\n",
    "        else:\n",
    "            testfile.write(str(layer2_bias[rx])+'f')\n",
    "    testfile.write('};\\n')\n",
    "    \n",
    "    testfile.write('//Classifier Weights \\n')\n",
    "    testfile.write('float fclassifier_weight[] = {\\n')\n",
    "    for wx in range(0,len(classifier_weight)):\n",
    "        if wx%5==0 and wx!=0:\n",
    "            testfile.write('\\n')\n",
    "        if wx == len(classifier_weight)-1:\n",
    "            testfile.write(str(classifier_weight[wx])+'f')\n",
    "        else:\n",
    "            testfile.write(str(classifier_weight[wx])+'f,')\n",
    "    testfile.write('};\\n')\n",
    "    testfile.write('float fclassifier_bias[] = {\\n')\n",
    "    for rx in range(0,len(classifier_bias)):\n",
    "        if rx != len(classifier_bias)-1:\n",
    "            testfile.write(str(classifier_bias[rx])+'f,')\n",
    "        else:\n",
    "            testfile.write(str(classifier_bias[rx])+'f')\n",
    "    testfile.write('};\\n')\n",
    "    "
   ]
  },
  {
   "cell_type": "code",
   "execution_count": null,
   "metadata": {},
   "outputs": [],
   "source": []
  }
 ],
 "metadata": {
  "interpreter": {
   "hash": "7cd1069da12188bee185b0248bff5e22d9b7ea778876bef1c197765c1173ff80"
  },
  "kernelspec": {
   "display_name": "Python 3.8.8 ('hrtech')",
   "language": "python",
   "name": "python3"
  },
  "language_info": {
   "codemirror_mode": {
    "name": "ipython",
    "version": 3
   },
   "file_extension": ".py",
   "mimetype": "text/x-python",
   "name": "python",
   "nbconvert_exporter": "python",
   "pygments_lexer": "ipython3",
   "version": "3.8.8"
  },
  "orig_nbformat": 4
 },
 "nbformat": 4,
 "nbformat_minor": 2
}

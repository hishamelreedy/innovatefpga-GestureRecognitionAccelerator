{
 "cells": [
  {
   "cell_type": "markdown",
   "metadata": {},
   "source": [
    "# Gesture Net Accelerometer Model\n"
   ]
  },
  {
   "cell_type": "code",
   "execution_count": 233,
   "metadata": {},
   "outputs": [],
   "source": [
    "#some set up\n",
    "import os\n",
    "import numpy as np\n",
    "import pandas as pd\n",
    "import torch\n",
    "import torch.optim as optim\n",
    "import torch.nn as nn\n",
    "import torch.nn.parallel\n",
    "import torch.backends.cudnn as cudnn\n",
    "from torch.autograd import Variable\n",
    "import torch.utils.data\n",
    "import torchvision.transforms as transforms\n",
    "import torchvision.datasets as datasets\n",
    "from PIL import Image\n",
    "import math\n",
    "import time\n",
    "from torchsummary import summary\n",
    "from matplotlib.pyplot import imshow\n",
    "import matplotlib.pyplot as plt\n",
    "%matplotlib inline"
   ]
  },
  {
   "cell_type": "markdown",
   "metadata": {},
   "source": [
    "### Build GestureNet model for Accelerometer"
   ]
  },
  {
   "cell_type": "code",
   "execution_count": 234,
   "metadata": {},
   "outputs": [],
   "source": [
    "class GestureAccelNet(nn.Module):\n",
    "    def __init__(self, num_classes=11):\n",
    "        super(GestureAccelNet, self).__init__()\n",
    "        self.num_classes = num_classes\n",
    "        self.features = nn.Sequential(\n",
    "            nn.Linear(192,30,bias=True),\n",
    "            nn.ReLU(inplace=True),\n",
    "            nn.Linear(30,30,bias=True),\n",
    "            nn.ReLU(inplace=True),\n",
    "            nn.Linear(30,11,bias=True),\n",
    "            nn.ReLU(inplace=True)\n",
    "            )\n",
    "        self.classifier = nn.Sequential(\n",
    "            nn.Dropout(p=0.5),\n",
    "            nn.Linear(11,self.num_classes,bias=True),\n",
    "            nn.LogSoftmax(dim=1),\n",
    "        )\n",
    "\n",
    "    def forward(self, x):\n",
    "        x = self.features(x)\n",
    "        x = self.classifier(x)\n",
    "        return x.view(x.size(0), self.num_classes)"
   ]
  },
  {
   "cell_type": "code",
   "execution_count": 235,
   "metadata": {},
   "outputs": [
    {
     "name": "stdout",
     "output_type": "stream",
     "text": [
      "GestureAccelNet(\n",
      "  (features): Sequential(\n",
      "    (0): Linear(in_features=192, out_features=30, bias=True)\n",
      "    (1): ReLU(inplace=True)\n",
      "    (2): Linear(in_features=30, out_features=30, bias=True)\n",
      "    (3): ReLU(inplace=True)\n",
      "    (4): Linear(in_features=30, out_features=11, bias=True)\n",
      "    (5): ReLU(inplace=True)\n",
      "  )\n",
      "  (classifier): Sequential(\n",
      "    (0): Dropout(p=0.5, inplace=False)\n",
      "    (1): Linear(in_features=11, out_features=11, bias=True)\n",
      "    (2): LogSoftmax(dim=1)\n",
      "  )\n",
      ")\n"
     ]
    }
   ],
   "source": [
    "model = GestureAccelNet()\n",
    "print(model)"
   ]
  },
  {
   "cell_type": "code",
   "execution_count": 236,
   "metadata": {},
   "outputs": [
    {
     "name": "stdout",
     "output_type": "stream",
     "text": [
      "----------------------------------------------------------------\n",
      "        Layer (type)               Output Shape         Param #\n",
      "================================================================\n",
      "            Linear-1                 [1, 1, 30]           5,790\n",
      "              ReLU-2                 [1, 1, 30]               0\n",
      "            Linear-3                 [1, 1, 30]             930\n",
      "              ReLU-4                 [1, 1, 30]               0\n",
      "            Linear-5                 [1, 1, 11]             341\n",
      "              ReLU-6                 [1, 1, 11]               0\n",
      "           Dropout-7                 [1, 1, 11]               0\n",
      "            Linear-8                 [1, 1, 11]             132\n",
      "        LogSoftmax-9                 [1, 1, 11]               0\n",
      "================================================================\n",
      "Total params: 7,193\n",
      "Trainable params: 7,193\n",
      "Non-trainable params: 0\n",
      "----------------------------------------------------------------\n",
      "Input size (MB): 0.00\n",
      "Forward/backward pass size (MB): 0.00\n",
      "Params size (MB): 0.03\n",
      "Estimated Total Size (MB): 0.03\n",
      "----------------------------------------------------------------\n"
     ]
    }
   ],
   "source": [
    "summary(model,input_size=(1,192), batch_size=1)"
   ]
  },
  {
   "cell_type": "markdown",
   "metadata": {},
   "source": [
    "### Load  Dataset"
   ]
  },
  {
   "cell_type": "code",
   "execution_count": 237,
   "metadata": {},
   "outputs": [],
   "source": [
    "classes = ['0_pinch_index','10_palm_hold','1_palm_tilt','2_finger_slider','3_pinch_pinky','4_slow_swipe','5_fast_swipe','6_push','7_pull','8_finger_rub','9_circle']\n",
    "x_train = np.zeros(shape=(1,192))"
   ]
  },
  {
   "cell_type": "code",
   "execution_count": 238,
   "metadata": {},
   "outputs": [],
   "source": [
    "from torch.utils.data import Dataset,DataLoader\n",
    "class acceldataset(Dataset):\n",
    "    def __init__(self, data, target):\n",
    "        dat= np.loadtxt('datasettomp/train/dataset.csv',delimiter=\",\",dtype=np.float32,skiprows=1)\n",
    "        self.x_train = torch.from_numpy(dat[:,:192])\n",
    "        self.y_train = torch.from_numpy(dat[:,[192]])\n",
    "        self.n_samples = dat.shape[0]\n",
    "    def __len__(self):\n",
    "        return self.n_samples\n",
    "    def __getitem__(self,idx):\n",
    "        return self.x_train[idx],self.y_train[idx]"
   ]
  },
  {
   "cell_type": "code",
   "execution_count": 239,
   "metadata": {},
   "outputs": [],
   "source": [
    "from sklearn.datasets import make_classification\n",
    "data, target = make_classification(n_samples=1000)"
   ]
  },
  {
   "cell_type": "code",
   "execution_count": 240,
   "metadata": {},
   "outputs": [],
   "source": [
    "dataset = acceldataset(data,target)\n",
    "valdataset = acceldataset(data, target)"
   ]
  },
  {
   "cell_type": "code",
   "execution_count": 241,
   "metadata": {},
   "outputs": [],
   "source": [
    "train_loader = DataLoader(dataset=dataset, batch_size=200, shuffle=True)\n",
    "validate_loader = DataLoader(dataset=valdataset, batch_size=1, shuffle=True)"
   ]
  },
  {
   "cell_type": "code",
   "execution_count": 242,
   "metadata": {},
   "outputs": [
    {
     "name": "stdout",
     "output_type": "stream",
     "text": [
      "tensor([[    0.0000,     0.0000,     0.0000,  ...,     0.0000,     0.0000,\n",
      "             0.0000],\n",
      "        [    0.0000,     0.0000,     0.0000,  ...,     0.0000,     0.0000,\n",
      "             0.0000],\n",
      "        [    0.0000,     0.0000,     0.0000,  ...,     0.0000,     0.0000,\n",
      "             0.0000],\n",
      "        ...,\n",
      "        [    0.0000,     0.0000,     0.0000,  ...,     0.0000,     0.0000,\n",
      "             0.0000],\n",
      "        [    0.0000,     0.0000,     0.0000,  ...,     0.0000,     0.0000,\n",
      "             0.0000],\n",
      "        [    0.0000,     0.0000,     0.0000,  ...,   168.2742,   283.8163,\n",
      "         -5606.3872]]) tensor([[ 5.],\n",
      "        [ 9.],\n",
      "        [ 8.],\n",
      "        [10.],\n",
      "        [10.],\n",
      "        [ 6.],\n",
      "        [10.],\n",
      "        [ 3.],\n",
      "        [ 7.],\n",
      "        [ 6.],\n",
      "        [ 2.],\n",
      "        [ 9.],\n",
      "        [ 0.],\n",
      "        [ 2.],\n",
      "        [ 1.],\n",
      "        [ 0.],\n",
      "        [ 2.],\n",
      "        [ 2.],\n",
      "        [ 2.],\n",
      "        [ 4.],\n",
      "        [ 4.],\n",
      "        [ 6.],\n",
      "        [10.],\n",
      "        [ 1.],\n",
      "        [ 3.],\n",
      "        [ 2.],\n",
      "        [ 3.],\n",
      "        [ 5.],\n",
      "        [ 1.],\n",
      "        [ 6.],\n",
      "        [ 5.],\n",
      "        [ 2.],\n",
      "        [ 4.],\n",
      "        [ 7.],\n",
      "        [ 6.],\n",
      "        [ 6.],\n",
      "        [ 6.],\n",
      "        [ 6.],\n",
      "        [ 1.],\n",
      "        [ 9.],\n",
      "        [ 6.],\n",
      "        [ 8.],\n",
      "        [ 6.],\n",
      "        [ 7.],\n",
      "        [ 2.],\n",
      "        [ 2.],\n",
      "        [ 3.],\n",
      "        [ 9.],\n",
      "        [ 8.],\n",
      "        [10.],\n",
      "        [ 5.],\n",
      "        [ 6.],\n",
      "        [ 0.],\n",
      "        [ 3.],\n",
      "        [ 4.],\n",
      "        [ 7.],\n",
      "        [ 6.],\n",
      "        [ 4.],\n",
      "        [ 5.],\n",
      "        [ 0.],\n",
      "        [ 2.],\n",
      "        [ 1.],\n",
      "        [ 9.],\n",
      "        [ 1.],\n",
      "        [ 8.],\n",
      "        [ 6.],\n",
      "        [ 6.],\n",
      "        [ 0.],\n",
      "        [ 5.],\n",
      "        [ 9.],\n",
      "        [ 5.],\n",
      "        [ 1.],\n",
      "        [ 7.],\n",
      "        [10.],\n",
      "        [ 8.],\n",
      "        [ 4.],\n",
      "        [ 7.],\n",
      "        [ 9.],\n",
      "        [ 6.],\n",
      "        [ 0.],\n",
      "        [ 0.],\n",
      "        [10.],\n",
      "        [ 5.],\n",
      "        [ 5.],\n",
      "        [ 6.],\n",
      "        [ 3.],\n",
      "        [10.],\n",
      "        [ 0.],\n",
      "        [ 8.],\n",
      "        [ 8.],\n",
      "        [ 1.],\n",
      "        [ 6.],\n",
      "        [ 8.],\n",
      "        [ 8.],\n",
      "        [ 7.],\n",
      "        [ 4.],\n",
      "        [ 1.],\n",
      "        [ 3.],\n",
      "        [ 9.],\n",
      "        [ 6.],\n",
      "        [10.],\n",
      "        [ 4.],\n",
      "        [ 5.],\n",
      "        [ 3.],\n",
      "        [ 1.],\n",
      "        [ 9.],\n",
      "        [ 9.],\n",
      "        [ 9.],\n",
      "        [ 6.],\n",
      "        [ 2.],\n",
      "        [ 3.],\n",
      "        [ 9.],\n",
      "        [ 2.],\n",
      "        [10.],\n",
      "        [ 0.],\n",
      "        [ 9.],\n",
      "        [10.],\n",
      "        [ 4.],\n",
      "        [ 5.],\n",
      "        [ 9.],\n",
      "        [ 2.],\n",
      "        [ 7.],\n",
      "        [ 4.],\n",
      "        [ 7.],\n",
      "        [ 0.],\n",
      "        [ 1.],\n",
      "        [ 7.],\n",
      "        [ 5.],\n",
      "        [ 0.],\n",
      "        [ 5.],\n",
      "        [ 1.],\n",
      "        [ 6.],\n",
      "        [ 2.],\n",
      "        [ 6.],\n",
      "        [ 0.],\n",
      "        [ 3.],\n",
      "        [ 2.],\n",
      "        [10.],\n",
      "        [ 1.],\n",
      "        [ 7.],\n",
      "        [ 5.],\n",
      "        [ 0.],\n",
      "        [ 4.],\n",
      "        [ 9.],\n",
      "        [ 5.],\n",
      "        [ 5.],\n",
      "        [ 9.],\n",
      "        [ 6.],\n",
      "        [ 6.],\n",
      "        [ 7.],\n",
      "        [ 6.],\n",
      "        [ 0.],\n",
      "        [ 9.],\n",
      "        [ 4.],\n",
      "        [ 6.],\n",
      "        [ 8.],\n",
      "        [ 8.],\n",
      "        [ 9.],\n",
      "        [ 1.],\n",
      "        [ 9.],\n",
      "        [ 8.],\n",
      "        [ 5.],\n",
      "        [ 3.],\n",
      "        [ 8.],\n",
      "        [ 0.],\n",
      "        [ 7.],\n",
      "        [ 6.],\n",
      "        [ 5.],\n",
      "        [ 3.],\n",
      "        [ 6.],\n",
      "        [ 3.],\n",
      "        [ 4.],\n",
      "        [ 4.],\n",
      "        [ 4.],\n",
      "        [ 5.],\n",
      "        [ 4.],\n",
      "        [10.],\n",
      "        [ 5.],\n",
      "        [10.],\n",
      "        [ 6.],\n",
      "        [ 5.],\n",
      "        [ 7.],\n",
      "        [ 8.],\n",
      "        [10.],\n",
      "        [ 2.],\n",
      "        [ 1.],\n",
      "        [ 8.],\n",
      "        [ 1.],\n",
      "        [ 2.],\n",
      "        [ 7.],\n",
      "        [ 6.],\n",
      "        [ 2.],\n",
      "        [ 0.],\n",
      "        [ 5.],\n",
      "        [ 4.],\n",
      "        [ 2.],\n",
      "        [ 8.],\n",
      "        [ 9.],\n",
      "        [ 9.],\n",
      "        [ 4.]])\n"
     ]
    }
   ],
   "source": [
    "dataiter = iter(train_loader)\n",
    "data = dataiter.next()\n",
    "features, label = data\n",
    "print(features, label)"
   ]
  },
  {
   "cell_type": "markdown",
   "metadata": {},
   "source": [
    "### Training Neural Network"
   ]
  },
  {
   "cell_type": "code",
   "execution_count": 243,
   "metadata": {},
   "outputs": [
    {
     "name": "stdout",
     "output_type": "stream",
     "text": [
      "2200 550\n"
     ]
    }
   ],
   "source": [
    "train_losses = []\n",
    "accuracylist = []\n",
    "total_samples = len(dataset)\n",
    "n_iterations = math.ceil(total_samples/4)\n",
    "print(total_samples, n_iterations)\n",
    "# Training  Model\n",
    "def train_model(model, criterion, optimizer, num_epochs=25):\n",
    "   since = time.time()\n",
    "\n",
    "   for epoch in range(num_epochs):\n",
    "       print('Epoch {}/{}'.format(epoch, num_epochs - 1))\n",
    "       print('-' * 10)\n",
    "\n",
    "       #set model to trainable\n",
    "       train_loss = 0\n",
    "       correct = 0\n",
    "       # Iterate over data.\n",
    "       for i,(inputs, labels) in enumerate(train_loader):\n",
    "           # Forward Pass\n",
    "           if (i+1) % 5 == 0:\n",
    "               print(f'epoch {epoch+1}/{num_epochs}, step {i+1}/{n_iterations}, inputs {inputs.shape}')\n",
    "           output = model(features)\n",
    "           #print(torch.argmax(output,axis=1))\n",
    "           #print(output)\n",
    "           #print(torch.reshape(labels,(1,20))[0])\n",
    "           #output1d = torch.argmax(output,axis=1)\n",
    "           #print(labels.shape)\n",
    "           labels1d = torch.reshape(input=labels,shape=(1,200))[0]\n",
    "           loss = criterion(output, labels1d.long())\n",
    "           optimizer.zero_grad() # clear previous gradients\n",
    "           loss.backward() # backward pass\n",
    "           optimizer.step()\n",
    "           train_loss += loss.item()\n",
    "           #print(np.argmax(output.detach().numpy(),axis=1))\n",
    "           #print(labels.detach().numpy())\n",
    "           correct += (np.argmax(output.detach().numpy(),axis=1) == labels.detach().numpy()).sum()\n",
    "           print('{} Loss: {:.4f}'.format(\n",
    "               'train', train_loss))\n",
    "           train_losses.append(loss.item())\n",
    "       accuracy = 100 * correct / len(dataset)\n",
    "       accuracylist.append(accuracy)\n",
    "   time_elapsed = time.time() - since\n",
    "   print('Training complete in {:.0f}m {:.0f}s'.format(\n",
    "       time_elapsed // 60, time_elapsed % 60))"
   ]
  },
  {
   "cell_type": "code",
   "execution_count": 244,
   "metadata": {},
   "outputs": [],
   "source": [
    "validate_losses = []\n",
    "def validate_model(model, num_epochs=25):\n",
    "    since = time.time()\n",
    "    for epoch in range(num_epochs):\n",
    "        print('Epoch {}/{}'.format(epoch, num_epochs - 1))\n",
    "        print('-' * 10)\n",
    "        # Evaluate\n",
    "        # model.eval()\n",
    "        #Initialize\n",
    "        correct = 0\n",
    "        # Iterate over data.\n",
    "        for features, labels in validate_loader:\n",
    "            output = model(features.float())\n",
    "            correct += (np.argmax(output.detach().numpy(),axis=1) == labels.detach().numpy()).sum()/len(dataset) *100\n",
    "        validate_losses.append(correct)\n",
    "        print('{} Acc: {:.4f}'.format(\n",
    "            'Validate', correct))"
   ]
  },
  {
   "cell_type": "code",
   "execution_count": 245,
   "metadata": {},
   "outputs": [],
   "source": [
    "# Define Hyper Parameters\n",
    "criterion = torch.nn.CrossEntropyLoss()\n",
    "optimizer_ft = optim.SGD(model.parameters(), lr=0.001, momentum=0.9)"
   ]
  },
  {
   "cell_type": "code",
   "execution_count": 246,
   "metadata": {},
   "outputs": [
    {
     "name": "stdout",
     "output_type": "stream",
     "text": [
      "Epoch 0/24\n",
      "----------\n",
      "train Loss: 19.8059\n",
      "train Loss: 29.0121\n",
      "train Loss: 33.4811\n",
      "train Loss: 36.2417\n",
      "epoch 1/25, step 5/550, inputs torch.Size([200, 192])\n",
      "train Loss: 38.9107\n",
      "train Loss: 41.5227\n",
      "train Loss: 43.9680\n",
      "train Loss: 46.4385\n",
      "train Loss: 48.8564\n",
      "epoch 1/25, step 10/550, inputs torch.Size([200, 192])\n",
      "train Loss: 51.3143\n",
      "train Loss: 53.8430\n",
      "Epoch 1/24\n",
      "----------\n",
      "train Loss: 2.4073\n",
      "train Loss: 4.8722\n",
      "train Loss: 7.2548\n",
      "train Loss: 9.6913\n",
      "epoch 2/25, step 5/550, inputs torch.Size([200, 192])\n",
      "train Loss: 12.1315\n",
      "train Loss: 14.5874\n",
      "train Loss: 17.0043\n",
      "train Loss: 19.4493\n",
      "train Loss: 21.8807\n",
      "epoch 2/25, step 10/550, inputs torch.Size([200, 192])\n",
      "train Loss: 24.2939\n",
      "train Loss: 26.7235\n",
      "Epoch 2/24\n",
      "----------\n",
      "train Loss: 2.4180\n",
      "train Loss: 4.8227\n",
      "train Loss: 7.2321\n",
      "train Loss: 9.6602\n",
      "epoch 3/25, step 5/550, inputs torch.Size([200, 192])\n",
      "train Loss: 12.0409\n",
      "train Loss: 14.4537\n",
      "train Loss: 16.8740\n",
      "train Loss: 19.2885\n",
      "train Loss: 21.7030\n",
      "epoch 3/25, step 10/550, inputs torch.Size([200, 192])\n",
      "train Loss: 24.1172\n",
      "train Loss: 26.5515\n",
      "Epoch 3/24\n",
      "----------\n",
      "train Loss: 2.4056\n",
      "train Loss: 4.8169\n",
      "train Loss: 7.2324\n",
      "train Loss: 9.6466\n",
      "epoch 4/25, step 5/550, inputs torch.Size([200, 192])\n",
      "train Loss: 12.0734\n",
      "train Loss: 14.4658\n",
      "train Loss: 16.8666\n",
      "train Loss: 19.2858\n",
      "train Loss: 21.6948\n",
      "epoch 4/25, step 10/550, inputs torch.Size([200, 192])\n",
      "train Loss: 24.1238\n",
      "train Loss: 26.5390\n",
      "Epoch 4/24\n",
      "----------\n",
      "train Loss: 2.4149\n",
      "train Loss: 4.8421\n",
      "train Loss: 7.2394\n",
      "train Loss: 9.6591\n",
      "epoch 5/25, step 5/550, inputs torch.Size([200, 192])\n",
      "train Loss: 12.0680\n",
      "train Loss: 14.4673\n",
      "train Loss: 16.8890\n",
      "train Loss: 19.2893\n",
      "train Loss: 21.7262\n",
      "epoch 5/25, step 10/550, inputs torch.Size([200, 192])\n",
      "train Loss: 24.1345\n",
      "train Loss: 26.5409\n",
      "Epoch 5/24\n",
      "----------\n",
      "train Loss: 2.4147\n",
      "train Loss: 4.8396\n",
      "train Loss: 7.2504\n",
      "train Loss: 9.6646\n",
      "epoch 6/25, step 5/550, inputs torch.Size([200, 192])\n",
      "train Loss: 12.0676\n",
      "train Loss: 14.4835\n",
      "train Loss: 16.8877\n",
      "train Loss: 19.3060\n",
      "train Loss: 21.7250\n",
      "epoch 6/25, step 10/550, inputs torch.Size([200, 192])\n",
      "train Loss: 24.1267\n",
      "train Loss: 26.5463\n",
      "Epoch 6/24\n",
      "----------\n",
      "train Loss: 2.4225\n",
      "train Loss: 4.8580\n",
      "train Loss: 7.2531\n",
      "train Loss: 9.6769\n",
      "epoch 7/25, step 5/550, inputs torch.Size([200, 192])\n",
      "train Loss: 12.0724\n",
      "train Loss: 14.4661\n",
      "train Loss: 16.8858\n",
      "train Loss: 19.2963\n",
      "train Loss: 21.7274\n",
      "epoch 7/25, step 10/550, inputs torch.Size([200, 192])\n",
      "train Loss: 24.1462\n",
      "train Loss: 26.5458\n",
      "Epoch 7/24\n",
      "----------\n",
      "train Loss: 2.4331\n",
      "train Loss: 4.8305\n",
      "train Loss: 7.2391\n",
      "train Loss: 9.6490\n",
      "epoch 8/25, step 5/550, inputs torch.Size([200, 192])\n",
      "train Loss: 12.0423\n",
      "train Loss: 14.4484\n",
      "train Loss: 16.8579\n",
      "train Loss: 19.2861\n",
      "train Loss: 21.6886\n",
      "epoch 8/25, step 10/550, inputs torch.Size([200, 192])\n",
      "train Loss: 24.1137\n",
      "train Loss: 26.5309\n",
      "Epoch 8/24\n",
      "----------\n",
      "train Loss: 2.4094\n",
      "train Loss: 4.8213\n",
      "train Loss: 7.2436\n",
      "train Loss: 9.6645\n",
      "epoch 9/25, step 5/550, inputs torch.Size([200, 192])\n",
      "train Loss: 12.0654\n",
      "train Loss: 14.4718\n",
      "train Loss: 16.8863\n",
      "train Loss: 19.2820\n",
      "train Loss: 21.6933\n",
      "epoch 9/25, step 10/550, inputs torch.Size([200, 192])\n",
      "train Loss: 24.1045\n",
      "train Loss: 26.5237\n",
      "Epoch 9/24\n",
      "----------\n",
      "train Loss: 2.3917\n",
      "train Loss: 4.8067\n",
      "train Loss: 7.2369\n",
      "train Loss: 9.6352\n",
      "epoch 10/25, step 5/550, inputs torch.Size([200, 192])\n",
      "train Loss: 12.0522\n",
      "train Loss: 14.4763\n",
      "train Loss: 16.8665\n",
      "train Loss: 19.2973\n",
      "train Loss: 21.6982\n",
      "epoch 10/25, step 10/550, inputs torch.Size([200, 192])\n",
      "train Loss: 24.1016\n",
      "train Loss: 26.5232\n",
      "Epoch 10/24\n",
      "----------\n",
      "train Loss: 2.4145\n",
      "train Loss: 4.8305\n",
      "train Loss: 7.2497\n",
      "train Loss: 9.6391\n",
      "epoch 11/25, step 5/550, inputs torch.Size([200, 192])\n",
      "train Loss: 12.0296\n",
      "train Loss: 14.4470\n",
      "train Loss: 16.8655\n",
      "train Loss: 19.2834\n",
      "train Loss: 21.7019\n",
      "epoch 11/25, step 10/550, inputs torch.Size([200, 192])\n",
      "train Loss: 24.1097\n",
      "train Loss: 26.5165\n",
      "Epoch 11/24\n",
      "----------\n",
      "train Loss: 2.4109\n",
      "train Loss: 4.8157\n",
      "train Loss: 7.2022\n",
      "train Loss: 9.6174\n",
      "epoch 12/25, step 5/550, inputs torch.Size([200, 192])\n",
      "train Loss: 12.0369\n",
      "train Loss: 14.4505\n",
      "train Loss: 16.8465\n",
      "train Loss: 19.2552\n",
      "train Loss: 21.6877\n",
      "epoch 12/25, step 10/550, inputs torch.Size([200, 192])\n",
      "train Loss: 24.1066\n",
      "train Loss: 26.5112\n",
      "Epoch 12/24\n",
      "----------\n",
      "train Loss: 2.4061\n",
      "train Loss: 4.8320\n",
      "train Loss: 7.2556\n",
      "train Loss: 9.6569\n",
      "epoch 13/25, step 5/550, inputs torch.Size([200, 192])\n",
      "train Loss: 12.0704\n",
      "train Loss: 14.4597\n",
      "train Loss: 16.8670\n",
      "train Loss: 19.2763\n",
      "train Loss: 21.6830\n",
      "epoch 13/25, step 10/550, inputs torch.Size([200, 192])\n",
      "train Loss: 24.0946\n",
      "train Loss: 26.5238\n",
      "Epoch 13/24\n",
      "----------\n",
      "train Loss: 2.4191\n",
      "train Loss: 4.8328\n",
      "train Loss: 7.2242\n",
      "train Loss: 9.6374\n",
      "epoch 14/25, step 5/550, inputs torch.Size([200, 192])\n",
      "train Loss: 12.0493\n",
      "train Loss: 14.4753\n",
      "train Loss: 16.8897\n",
      "train Loss: 19.2863\n",
      "train Loss: 21.6872\n",
      "epoch 14/25, step 10/550, inputs torch.Size([200, 192])\n",
      "train Loss: 24.1091\n",
      "train Loss: 26.5192\n",
      "Epoch 14/24\n",
      "----------\n",
      "train Loss: 2.4073\n",
      "train Loss: 4.8270\n",
      "train Loss: 7.2478\n",
      "train Loss: 9.6611\n",
      "epoch 15/25, step 5/550, inputs torch.Size([200, 192])\n",
      "train Loss: 12.0702\n",
      "train Loss: 14.4925\n",
      "train Loss: 16.8949\n",
      "train Loss: 19.2893\n",
      "train Loss: 21.6993\n",
      "epoch 15/25, step 10/550, inputs torch.Size([200, 192])\n",
      "train Loss: 24.0999\n",
      "train Loss: 26.5087\n",
      "Epoch 15/24\n",
      "----------\n",
      "train Loss: 2.4008\n",
      "train Loss: 4.8094\n",
      "train Loss: 7.2313\n",
      "train Loss: 9.6352\n",
      "epoch 16/25, step 5/550, inputs torch.Size([200, 192])\n",
      "train Loss: 12.0494\n",
      "train Loss: 14.4521\n",
      "train Loss: 16.8439\n",
      "train Loss: 19.2439\n",
      "train Loss: 21.6590\n",
      "epoch 16/25, step 10/550, inputs torch.Size([200, 192])\n",
      "train Loss: 24.0733\n",
      "train Loss: 26.4987\n",
      "Epoch 16/24\n",
      "----------\n",
      "train Loss: 2.4079\n",
      "train Loss: 4.8036\n",
      "train Loss: 7.2099\n",
      "train Loss: 9.6204\n",
      "epoch 17/25, step 5/550, inputs torch.Size([200, 192])\n",
      "train Loss: 12.0359\n",
      "train Loss: 14.4560\n",
      "train Loss: 16.8579\n",
      "train Loss: 19.2621\n",
      "train Loss: 21.6668\n",
      "epoch 17/25, step 10/550, inputs torch.Size([200, 192])\n",
      "train Loss: 24.0777\n",
      "train Loss: 26.4974\n",
      "Epoch 17/24\n",
      "----------\n",
      "train Loss: 2.4204\n",
      "train Loss: 4.8545\n",
      "train Loss: 7.2712\n",
      "train Loss: 9.6958\n",
      "epoch 18/25, step 5/550, inputs torch.Size([200, 192])\n",
      "train Loss: 12.0826\n",
      "train Loss: 14.5139\n",
      "train Loss: 16.9047\n",
      "train Loss: 19.3043\n",
      "train Loss: 21.7050\n",
      "epoch 18/25, step 10/550, inputs torch.Size([200, 192])\n",
      "train Loss: 24.1086\n",
      "train Loss: 26.5075\n",
      "Epoch 18/24\n",
      "----------\n",
      "train Loss: 2.4056\n",
      "train Loss: 4.8176\n",
      "train Loss: 7.2158\n",
      "train Loss: 9.6540\n",
      "epoch 19/25, step 5/550, inputs torch.Size([200, 192])\n",
      "train Loss: 12.0659\n",
      "train Loss: 14.4677\n",
      "train Loss: 16.8773\n",
      "train Loss: 19.2794\n",
      "train Loss: 21.6748\n",
      "epoch 19/25, step 10/550, inputs torch.Size([200, 192])\n",
      "train Loss: 24.0963\n",
      "train Loss: 26.4965\n",
      "Epoch 19/24\n",
      "----------\n",
      "train Loss: 2.3922\n",
      "train Loss: 4.7977\n",
      "train Loss: 7.1971\n",
      "train Loss: 9.5882\n",
      "epoch 20/25, step 5/550, inputs torch.Size([200, 192])\n",
      "train Loss: 11.9946\n",
      "train Loss: 14.4443\n",
      "train Loss: 16.8761\n",
      "train Loss: 19.2844\n",
      "train Loss: 21.6940\n",
      "epoch 20/25, step 10/550, inputs torch.Size([200, 192])\n",
      "train Loss: 24.0917\n",
      "train Loss: 26.4983\n",
      "Epoch 20/24\n",
      "----------\n",
      "train Loss: 2.4237\n",
      "train Loss: 4.8342\n",
      "train Loss: 7.2347\n",
      "train Loss: 9.6435\n",
      "epoch 21/25, step 5/550, inputs torch.Size([200, 192])\n",
      "train Loss: 12.0518\n",
      "train Loss: 14.4603\n",
      "train Loss: 16.8694\n",
      "train Loss: 19.2870\n",
      "train Loss: 21.6877\n",
      "epoch 21/25, step 10/550, inputs torch.Size([200, 192])\n",
      "train Loss: 24.0938\n",
      "train Loss: 26.4934\n",
      "Epoch 21/24\n",
      "----------\n",
      "train Loss: 2.4122\n",
      "train Loss: 4.8321\n",
      "train Loss: 7.2454\n",
      "train Loss: 9.6569\n",
      "epoch 22/25, step 5/550, inputs torch.Size([200, 192])\n",
      "train Loss: 12.0677\n",
      "train Loss: 14.4754\n",
      "train Loss: 16.8875\n",
      "train Loss: 19.2975\n",
      "train Loss: 21.6908\n",
      "epoch 22/25, step 10/550, inputs torch.Size([200, 192])\n",
      "train Loss: 24.1156\n",
      "train Loss: 26.5061\n",
      "Epoch 22/24\n",
      "----------\n",
      "train Loss: 2.4196\n",
      "train Loss: 4.8229\n",
      "train Loss: 7.2210\n",
      "train Loss: 9.6423\n",
      "epoch 23/25, step 5/550, inputs torch.Size([200, 192])\n",
      "train Loss: 12.0505\n",
      "train Loss: 14.4603\n",
      "train Loss: 16.8606\n",
      "train Loss: 19.2674\n",
      "train Loss: 21.6802\n",
      "epoch 23/25, step 10/550, inputs torch.Size([200, 192])\n",
      "train Loss: 24.0787\n",
      "train Loss: 26.4814\n",
      "Epoch 23/24\n",
      "----------\n",
      "train Loss: 2.4040\n",
      "train Loss: 4.8184\n",
      "train Loss: 7.2208\n",
      "train Loss: 9.6250\n",
      "epoch 24/25, step 5/550, inputs torch.Size([200, 192])\n",
      "train Loss: 12.0488\n",
      "train Loss: 14.4558\n",
      "train Loss: 16.8668\n",
      "train Loss: 19.2779\n",
      "train Loss: 21.6794\n",
      "epoch 24/25, step 10/550, inputs torch.Size([200, 192])\n",
      "train Loss: 24.0789\n",
      "train Loss: 26.4838\n",
      "Epoch 24/24\n",
      "----------\n",
      "train Loss: 2.3960\n",
      "train Loss: 4.8065\n",
      "train Loss: 7.2172\n",
      "train Loss: 9.6121\n",
      "epoch 25/25, step 5/550, inputs torch.Size([200, 192])\n",
      "train Loss: 12.0111\n",
      "train Loss: 14.4244\n",
      "train Loss: 16.8250\n",
      "train Loss: 19.2264\n",
      "train Loss: 21.6577\n",
      "epoch 25/25, step 10/550, inputs torch.Size([200, 192])\n",
      "train Loss: 24.0644\n",
      "train Loss: 26.4869\n",
      "Training complete in 0m 1s\n"
     ]
    }
   ],
   "source": [
    "train_model(model, criterion, optimizer_ft, num_epochs=25)"
   ]
  },
  {
   "cell_type": "code",
   "execution_count": 247,
   "metadata": {},
   "outputs": [
    {
     "name": "stdout",
     "output_type": "stream",
     "text": [
      "Epoch 0/24\n",
      "----------\n",
      "Validate Acc: 3.3182\n",
      "Epoch 1/24\n",
      "----------\n",
      "Validate Acc: 4.0000\n",
      "Epoch 2/24\n",
      "----------\n",
      "Validate Acc: 3.6364\n",
      "Epoch 3/24\n",
      "----------\n",
      "Validate Acc: 4.0455\n",
      "Epoch 4/24\n",
      "----------\n",
      "Validate Acc: 3.5455\n",
      "Epoch 5/24\n",
      "----------\n",
      "Validate Acc: 3.7727\n",
      "Epoch 6/24\n",
      "----------\n",
      "Validate Acc: 3.1364\n",
      "Epoch 7/24\n",
      "----------\n",
      "Validate Acc: 3.7273\n",
      "Epoch 8/24\n",
      "----------\n",
      "Validate Acc: 3.7727\n",
      "Epoch 9/24\n",
      "----------\n",
      "Validate Acc: 3.5000\n",
      "Epoch 10/24\n",
      "----------\n",
      "Validate Acc: 3.0455\n",
      "Epoch 11/24\n",
      "----------\n",
      "Validate Acc: 3.5455\n",
      "Epoch 12/24\n",
      "----------\n",
      "Validate Acc: 3.9545\n",
      "Epoch 13/24\n",
      "----------\n",
      "Validate Acc: 3.8636\n",
      "Epoch 14/24\n",
      "----------\n",
      "Validate Acc: 4.3182\n",
      "Epoch 15/24\n",
      "----------\n",
      "Validate Acc: 3.5000\n",
      "Epoch 16/24\n",
      "----------\n",
      "Validate Acc: 3.7727\n",
      "Epoch 17/24\n",
      "----------\n",
      "Validate Acc: 4.0909\n",
      "Epoch 18/24\n",
      "----------\n",
      "Validate Acc: 3.7273\n",
      "Epoch 19/24\n",
      "----------\n",
      "Validate Acc: 3.5909\n",
      "Epoch 20/24\n",
      "----------\n",
      "Validate Acc: 4.0000\n",
      "Epoch 21/24\n",
      "----------\n",
      "Validate Acc: 3.5909\n",
      "Epoch 22/24\n",
      "----------\n",
      "Validate Acc: 2.8182\n",
      "Epoch 23/24\n",
      "----------\n",
      "Validate Acc: 3.5455\n",
      "Epoch 24/24\n",
      "----------\n",
      "Validate Acc: 3.6364\n"
     ]
    }
   ],
   "source": [
    "validate_model(model,num_epochs=25)"
   ]
  },
  {
   "cell_type": "code",
   "execution_count": 248,
   "metadata": {},
   "outputs": [
    {
     "data": {
      "image/png": "[encoded data removed]",
      "text/plain": [
       "<Figure size 720x360 with 1 Axes>"
      ]
     },
     "metadata": {
      "needs_background": "light"
     },
     "output_type": "display_data"
    },
    {
     "data": {
      "image/png": "[encoded data removed]",
      "text/plain": [
       "<Figure size 720x360 with 1 Axes>"
      ]
     },
     "metadata": {
      "needs_background": "light"
     },
     "output_type": "display_data"
    }
   ],
   "source": [
    "plt.figure(figsize=(10,5))\n",
    "plt.title(\"Training Loss\")\n",
    "plt.plot(train_losses,label=\"train\")\n",
    "plt.xlabel(\"iterations\")\n",
    "plt.ylabel(\"Loss\")\n",
    "plt.legend()\n",
    "plt.show()\n",
    "plt.figure(figsize=(10,5))\n",
    "plt.title(\"Training Accuracy\")\n",
    "plt.plot(accuracylist,label=\"train\")\n",
    "plt.xlabel(\"iterations\")\n",
    "plt.ylabel(\"Accuracy\")\n",
    "plt.legend()\n",
    "plt.show()"
   ]
  },
  {
   "cell_type": "code",
   "execution_count": 249,
   "metadata": {},
   "outputs": [
    {
     "data": {
      "image/png": "[encoded data removed]",
      "text/plain": [
       "<Figure size 720x360 with 1 Axes>"
      ]
     },
     "metadata": {
      "needs_background": "light"
     },
     "output_type": "display_data"
    }
   ],
   "source": [
    "plt.figure(figsize=(10,5))\n",
    "plt.title(\"Validation Accuracy\")\n",
    "plt.plot(validate_losses,label=\"validation\")\n",
    "plt.xlabel(\"iterations\")\n",
    "plt.ylabel(\"Loss\")\n",
    "plt.legend()\n",
    "plt.show()"
   ]
  },
  {
   "cell_type": "code",
   "execution_count": 82,
   "metadata": {},
   "outputs": [],
   "source": [
    "torch.save(model.state_dict(), 'GestureAccelNet2.pth')"
   ]
  },
  {
   "cell_type": "markdown",
   "metadata": {},
   "source": [
    "### Calculate top-1 accuracy of the pre-trained model"
   ]
  },
  {
   "cell_type": "markdown",
   "metadata": {},
   "source": [
    "## Test Model in Pytorch if the OpenCL implement is correct\n",
    "By comprare the result of OpenCL implement and PyTorch implement using a single image as input  \n",
    "error = ((OpenCL_implement_class_socores - PyTorch_implement_class_socores) ^ 2).sum(element_wise)  \n",
    "If the OpenCL implement is correct, error should be relativly small."
   ]
  },
  {
   "cell_type": "code",
   "execution_count": 257,
   "metadata": {
    "scrolled": true
   },
   "outputs": [
    {
     "name": "stdout",
     "output_type": "stream",
     "text": [
      "tensor([[0., 0., 0., 0., 0., 0., 0., 0., 0., 0., 0., 0., 0., 0., 0., 0., 0., 0., 0., 0., 0., 0., 0., 0.,\n",
      "         0., 0., 0., 0., 0., 0., 0., 0., 0., 0., 0., 0., 0., 0., 0., 0., 0., 0., 0., 0., 0., 0., 0., 0.,\n",
      "         0., 0., 0., 0., 0., 0., 0., 0., 0., 0., 0., 0., 0., 0., 0., 0., 0., 0., 0., 0., 0., 0., 0., 0.,\n",
      "         0., 0., 0., 0., 0., 0., 0., 0., 0., 0., 0., 0., 0., 0., 0., 0., 0., 0., 0., 0., 0., 0., 0., 0.,\n",
      "         0., 0., 0., 0., 0., 0., 0., 0., 0., 0., 0., 0., 0., 0., 0., 0., 0., 0., 0., 0., 0., 0., 0., 0.,\n",
      "         0., 0., 0., 0., 0., 0., 0., 0., 0., 0., 0., 0., 0., 0., 0., 0., 0., 0., 0., 0., 0., 0., 0., 0.,\n",
      "         0., 0., 0., 0., 0., 0., 0., 0., 0., 0., 0., 0., 0., 0., 0., 0., 0., 0., 0., 0., 0., 0., 0., 0.,\n",
      "         0., 0., 0., 0., 0., 0., 0., 0., 0., 0., 0., 0., 0., 0., 0., 0., 0., 0., 0., 0., 0., 0., 0., 0.]]) tensor([[10.]])\n"
     ]
    }
   ],
   "source": [
    "# load the test image\n",
    "dataiter = iter(validate_loader)\n",
    "data = dataiter.next()\n",
    "features, label = data\n",
    "print(features, label)"
   ]
  },
  {
   "cell_type": "code",
   "execution_count": 258,
   "metadata": {
    "scrolled": true
   },
   "outputs": [
    {
     "name": "stdout",
     "output_type": "stream",
     "text": [
      "tensor([[-2.3920, -2.5738, -2.5355, -2.3335, -2.6687, -2.3580, -2.2561, -2.2314,\n",
      "         -2.4919, -2.2607, -2.3749]], grad_fn=<ViewBackward0>)\n",
      "tensor([7])\n",
      "the label index prediction of pytorch implement: tensor([7])\n"
     ]
    }
   ],
   "source": [
    "model.cpu()\n",
    "x_test = features\n",
    "y_test = model(x_test)\n",
    "print(y_test)\n",
    "_, predicted = torch.max(y_test.data, 1)\n",
    "print(predicted)\n",
    "print('the label index prediction of pytorch implement: '+str(predicted))"
   ]
  },
  {
   "cell_type": "code",
   "execution_count": 255,
   "metadata": {},
   "outputs": [
    {
     "name": "stdout",
     "output_type": "stream",
     "text": [
      "tensor([[-2.3687, -2.6008, -2.5618, -2.3192, -2.6037, -2.4226, -2.2124, -2.3081,\n",
      "         -2.5749, -2.2158, -2.3041]], grad_fn=<ViewBackward0>)\n",
      "tensor([6])\n",
      "the label index prediction of pytorch implement: tensor([6])\n"
     ]
    }
   ],
   "source": [
    "x_test=[[0.0,0.0,0.0,120.79496383666992,491.4173698425293,-5083.184838294983,120.79496383666992,491.4173698425293,-5083.184838294983,128.79060745239258,439.01819229125977,-3710.835576057434,128.79060745239258,439.01819229125977,-3710.835576057434,0.0,0.0,0.0,0.0,0.0,0.0,0.0,0.0,0.0,0.0,0.0,0.0,0.0,0.0,0.0,0.0,0.0,0.0,0.0,0.0,0.0,0.0,0.0,0.0,0.0,0.0,0.0,0.0,0.0,0.0,0.0,0.0,0.0,0.0,0.0,0.0,0.0,0.0,0.0,0.0,0.0,0.0,0.0,0.0,0.0,0.0,0.0,0.0,0.0,0.0,0.0,0.0,0.0,0.0,0.0,0.0,0.0,0.0,0.0,0.0,0.0,0.0,0.0,0.0,0.0,0.0,0.0,0.0,0.0,0.0,0.0,0.0,0.0,0.0,0.0,0.0,0.0,0.0,0.0,0.0,0.0,0.0,0.0,0.0,0.0,0.0,0.0,0.0,0.0,0.0,0.0,0.0,0.0,0.0,0.0,0.0,0.0,0.0,0.0,0.0,0.0,0.0,0.0,0.0,0.0,0.0,0.0,0.0,0.0,0.0,0.0,0.0,0.0,0.0,0.0,0.0,0.0,0.0,0.0,0.0,0.0,0.0,0.0,0.0,0.0,0.0,0.0,0.0,0.0,0.0,0.0,0.0,0.0,0.0,0.0,0.0,0.0,0.0,0.0,0.0,0.0,0.0,0.0,0.0,0.0,0.0,0.0,0.0,0.0,0.0,0.0,0.0,0.0,0.0,0.0,0.0,0.0,0.0,0.0,0.0,0.0,0.0,0.0,0.0,0.0,0.0,0.0,0.0,0.0,0.0,0.0,0.0,0.0,0.0,0.0,0.0,0.0]]\n",
    "x_test = torch.from_numpy(np.array(x_test))\n",
    "y_test = model(x_test.float())\n",
    "print(y_test)\n",
    "_, predicted = torch.max(y_test.data, 1)\n",
    "print(predicted)\n",
    "print('the label index prediction of pytorch implement: '+str(predicted))"
   ]
  },
  {
   "cell_type": "markdown",
   "metadata": {},
   "source": [
    "### Load OpenCL implement"
   ]
  },
  {
   "cell_type": "markdown",
   "metadata": {},
   "source": [
    "#### Step1: OpenCL preparation"
   ]
  },
  {
   "cell_type": "code",
   "execution_count": 182,
   "metadata": {},
   "outputs": [],
   "source": [
    "# OpenCL setup\n",
    "import pyopencl as cl\n",
    "import deviceinfo"
   ]
  },
  {
   "cell_type": "code",
   "execution_count": 183,
   "metadata": {
    "scrolled": true
   },
   "outputs": [
    {
     "name": "stdout",
     "output_type": "stream",
     "text": [
      "Device is NVIDIA GeForce GTX 1650 TiGPU from NVIDIA Corporation with a max of 16 compute units\n"
     ]
    }
   ],
   "source": [
    "# Ask the user to select a platform/device on the CLI\n",
    "context = cl.create_some_context()\n",
    "\n",
    "# Print out device info\n",
    "deviceinfo.output_device_info(context.devices[0])\n",
    "\n",
    "# Create a command queue\n",
    "queue = cl.CommandQueue(context)"
   ]
  },
  {
   "cell_type": "markdown",
   "metadata": {},
   "source": [
    "#### Step 2: import parameters from pytorch implement"
   ]
  },
  {
   "cell_type": "code",
   "execution_count": 184,
   "metadata": {},
   "outputs": [
    {
     "name": "stdout",
     "output_type": "stream",
     "text": [
      "features.0.weight (30, 192)\n",
      "features.0.bias (30,)\n",
      "features.2.weight (30, 30)\n",
      "features.2.bias (30,)\n",
      "features.4.weight (11, 30)\n",
      "features.4.bias (11,)\n",
      "classifier.1.weight (11, 11)\n",
      "classifier.1.bias (11,)\n",
      "30\n",
      "30\n",
      "11\n",
      "11\n"
     ]
    }
   ],
   "source": [
    "params = model.state_dict()\n",
    "for k,v in params.items():\n",
    "    # print parameter name\n",
    "    print(k,params[k].numpy().shape)\n",
    "layer1_weight = params['features.0.weight'].numpy().reshape(-1)\n",
    "layer1_bias = params['features.0.bias'].numpy()\n",
    "layer2_weight = params['features.2.weight'].numpy().reshape(-1)\n",
    "layer2_bias = params['features.2.bias'].numpy()\n",
    "layer3_weight = params['features.4.weight'].numpy().reshape(-1)\n",
    "layer3_bias = params['features.4.bias'].numpy()\n",
    "classifier_weight = params['classifier.1.weight'].numpy().reshape(-1)\n",
    "classifier_bias = params['classifier.1.bias'].numpy()\n",
    "print(len(layer1_bias))\n",
    "print(len(layer2_bias))\n",
    "print(len(layer3_bias))\n",
    "print(len(classifier_bias))"
   ]
  },
  {
   "cell_type": "code",
   "execution_count": 185,
   "metadata": {},
   "outputs": [
    {
     "name": "stdout",
     "output_type": "stream",
     "text": [
      "(192,)\n",
      "torch.Size([30])\n"
     ]
    }
   ],
   "source": [
    "print(params['features.0.weight'].numpy()[0].shape)\n",
    "print(params['features.0.bias'].shape)"
   ]
  },
  {
   "cell_type": "code",
   "execution_count": 186,
   "metadata": {},
   "outputs": [
    {
     "name": "stdout",
     "output_type": "stream",
     "text": [
      "[-2.0497430e-02  5.9255693e-02 -5.3185571e-02  7.8292061e-03\n",
      " -4.1037392e-02  2.8987655e-02  5.8736976e-02  1.6186383e-02\n",
      " -6.9902137e-02  7.1650327e-05  5.3319491e-02  1.4776109e-03\n",
      "  3.4235779e-02 -5.9565932e-02  1.5850790e-02 -3.8664211e-02\n",
      " -5.1582087e-02 -6.2206004e-02  5.2711973e-03 -6.5654643e-02\n",
      "  1.5027584e-02  3.9559785e-02 -1.7466193e-02 -6.9132619e-02\n",
      "  2.5216693e-02 -4.1483946e-02  2.4096660e-02 -4.5353282e-02\n",
      " -5.2202810e-02  3.2664150e-02]\n"
     ]
    }
   ],
   "source": [
    "print(layer1_bias)"
   ]
  },
  {
   "cell_type": "markdown",
   "metadata": {},
   "source": [
    "Create OpenCL memory object"
   ]
  },
  {
   "cell_type": "code",
   "execution_count": 187,
   "metadata": {},
   "outputs": [],
   "source": [
    "h_sample = x_test.numpy().reshape(-1)\n",
    "h_result_layer1 = np.empty(1 * len(layer1_bias)).astype(np.float32)\n",
    "h_result_layer2 = np.empty(1 * len(layer2_bias)).astype(np.float32)\n",
    "h_result_layer3 = np.empty(1 * len(layer3_bias)).astype(np.float32)\n",
    "h_result_classifier = np.empty(1 * len(classifier_bias)).astype(np.float32)\n",
    "\n",
    "# device input buffer\n",
    "d_sample = cl.Buffer(context, cl.mem_flags.READ_ONLY | cl.mem_flags.COPY_HOST_PTR, hostbuf=h_sample)\n",
    "\n",
    "# device buffers \n",
    "d_layer1_weight = cl.Buffer(context, cl.mem_flags.READ_ONLY | cl.mem_flags.COPY_HOST_PTR, hostbuf=layer1_weight)\n",
    "d_layer1_bias = cl.Buffer(context, cl.mem_flags.READ_ONLY | cl.mem_flags.COPY_HOST_PTR, hostbuf=layer1_bias)\n",
    "d_layer2_weight = cl.Buffer(context, cl.mem_flags.READ_ONLY | cl.mem_flags.COPY_HOST_PTR, hostbuf=layer2_weight)\n",
    "d_layer2_bias = cl.Buffer(context, cl.mem_flags.READ_ONLY | cl.mem_flags.COPY_HOST_PTR, hostbuf=layer2_bias)\n",
    "d_layer3_weight = cl.Buffer(context, cl.mem_flags.READ_ONLY | cl.mem_flags.COPY_HOST_PTR, hostbuf=layer3_weight)\n",
    "d_layer3_bias = cl.Buffer(context, cl.mem_flags.READ_ONLY | cl.mem_flags.COPY_HOST_PTR, hostbuf=layer3_bias)\n",
    "d_classifier_weight = cl.Buffer(context, cl.mem_flags.READ_ONLY | cl.mem_flags.COPY_HOST_PTR, hostbuf=classifier_weight)\n",
    "d_classifier_bias = cl.Buffer(context, cl.mem_flags.READ_ONLY | cl.mem_flags.COPY_HOST_PTR, hostbuf=classifier_bias)\n",
    "\n",
    "d_result_layer1 = cl.Buffer(context, cl.mem_flags.WRITE_ONLY, h_result_layer1.nbytes)\n",
    "d_result_layer2 = cl.Buffer(context, cl.mem_flags.WRITE_ONLY, h_result_layer2.nbytes)\n",
    "d_result_layer3 = cl.Buffer(context, cl.mem_flags.WRITE_ONLY, h_result_layer3.nbytes)\n",
    "d_result_classifier = cl.Buffer(context, cl.mem_flags.WRITE_ONLY, h_result_classifier.nbytes)"
   ]
  },
  {
   "cell_type": "markdown",
   "metadata": {},
   "source": [
    "#### Step 3: create kernels\n",
    "Create & build program"
   ]
  },
  {
   "cell_type": "code",
   "execution_count": 188,
   "metadata": {
    "scrolled": true
   },
   "outputs": [],
   "source": [
    "kernelSource = open(\"gesturenet.cl\").read()\n",
    "program = cl.Program(context, kernelSource).build(options=\"\")"
   ]
  },
  {
   "cell_type": "markdown",
   "metadata": {},
   "source": [
    "Create kernels"
   ]
  },
  {
   "cell_type": "code",
   "execution_count": 189,
   "metadata": {},
   "outputs": [],
   "source": [
    "conv3x3 = program.conv2d3x3\n",
    "conv3x3.set_scalar_arg_dtypes([np.int32, np.int32, np.int32, np.int32, np.int32, np.int32, \\\n",
    "                               None, None, None, None])\n",
    "\n",
    "maxpool = program.maxpool2d\n",
    "maxpool.set_scalar_arg_dtypes([np.int32, np.int32, None, None])\n",
    "\n",
    "conv1x1 = program.conv2d1x1\n",
    "conv1x1.set_scalar_arg_dtypes([np.int32, np.int32, np.int32,\\\n",
    "                               None, None, None, None])\n",
    "\n",
    "avgpool = program.avgpool2d\n",
    "avgpool.set_scalar_arg_dtypes([np.int32,np.int32,None, None])\n",
    "\n",
    "fc = program.fc\n",
    "fc.set_scalar_arg_dtypes([np.int32,np.int32,None,None,None,None])"
   ]
  },
  {
   "cell_type": "markdown",
   "metadata": {},
   "source": [
    "Run OpenCL implement  "
   ]
  },
  {
   "cell_type": "code",
   "execution_count": 190,
   "metadata": {},
   "outputs": [
    {
     "name": "stdout",
     "output_type": "stream",
     "text": [
      "The kernel ran in 0.0029914379119873047 seconds\n"
     ]
    }
   ],
   "source": [
    "import time\n",
    "rtime = time.time()\n",
    "# First\n",
    "fc(queue,(len(layer1_bias),),None,len(h_sample),1,d_sample,d_layer1_weight,d_layer1_bias,d_result_layer1)\n",
    "# Second\n",
    "fc(queue,(len(layer2_bias),),None,len(layer1_bias),1,d_result_layer1,d_layer2_weight,d_layer2_bias,d_result_layer2)\n",
    "# Third\n",
    "fc(queue,(len(layer3_bias),),None,len(layer2_bias),1,d_result_layer2,d_layer3_weight,d_layer3_bias,d_result_layer3)\n",
    "# classifier\n",
    "fc(queue,(len(classifier_bias),),None,len(layer3_bias),0,d_result_layer3,d_classifier_weight,d_classifier_bias,d_result_classifier)\n",
    "\n",
    "queue.finish()\n",
    "rtime = time.time() - rtime\n",
    "print(\"The kernel ran in\", rtime, \"seconds\")"
   ]
  },
  {
   "cell_type": "code",
   "execution_count": 191,
   "metadata": {},
   "outputs": [
    {
     "data": {
      "text/plain": [
       "[-2.43538236618042,\n",
       " -2.3757214546203613,\n",
       " -2.568444013595581,\n",
       " -2.292815685272217,\n",
       " -2.1506237983703613,\n",
       " -2.5363268852233887,\n",
       " -2.4902496337890625,\n",
       " -2.416814088821411,\n",
       " -2.243840456008911,\n",
       " -2.482288360595703,\n",
       " -2.4699766635894775]"
      ]
     },
     "execution_count": 191,
     "metadata": {},
     "output_type": "execute_result"
    }
   ],
   "source": [
    "z = model(x_test.float())\n",
    "z.detach().numpy().tolist()[0]"
   ]
  },
  {
   "cell_type": "code",
   "execution_count": 95,
   "metadata": {
    "scrolled": true
   },
   "outputs": [
    {
     "name": "stdout",
     "output_type": "stream",
     "text": [
      "the label index prediction of OpenCL implement: 4\n",
      "Predicted Label: 4\n",
      "OpenCL implement error:  63.182148\n",
      "(30,)\n",
      "(30,)\n",
      "(11,)\n",
      "(11,)\n",
      "[-2.43538236618042, -2.3757214546203613, -2.568444013595581, -2.292815685272217, -2.1506237983703613, -2.5363268852233887, -2.4902496337890625, -2.416814088821411, -2.243840456008911, -2.482288360595703, -2.4699766635894775]\n",
      "[-0.03875305  0.02090775 -0.17181472  0.10381363  0.24600542 -0.13969766\n",
      " -0.09362035 -0.02018493  0.15278873 -0.08565913 -0.07334751]\n"
     ]
    }
   ],
   "source": [
    "#copy result from gpu\n",
    "cl.enqueue_copy(queue, h_result_classifier, d_result_classifier)\n",
    "queue.finish()\n",
    "label_opencl = np.argmax(h_result_classifier)\n",
    "print('the label index prediction of OpenCL implement: %d' % label_opencl)\n",
    "correct_result = y_test.data.numpy().reshape(-1)\n",
    "print(\"Predicted Label:\", str(np.argmax(y_test.detach().numpy().tolist())))\n",
    "error = ((correct_result - h_result_classifier) ** 2).sum()\n",
    "print('OpenCL implement error: ', error)\n",
    "cl.enqueue_copy(queue, h_result_layer1, d_result_layer1)\n",
    "print(h_result_layer1.shape)\n",
    "cl.enqueue_copy(queue, h_result_layer2, d_result_layer2)\n",
    "print(h_result_layer2.shape)\n",
    "cl.enqueue_copy(queue, h_result_layer3, d_result_layer3)\n",
    "print(h_result_layer3.shape)\n",
    "cl.enqueue_copy(queue, h_result_classifier, d_result_classifier)\n",
    "print(h_result_classifier.shape)\n",
    "print(y_test.detach().numpy().tolist()[0])\n",
    "print(h_result_classifier)"
   ]
  },
  {
   "cell_type": "code",
   "execution_count": 98,
   "metadata": {},
   "outputs": [
    {
     "name": "stdout",
     "output_type": "stream",
     "text": [
      "[-2.435382260585023, -2.3757214607836734, -2.5684439340772163, -2.2928155834021102, -2.1506237933578025, -2.5363268653096687, -2.4902495617212783, -2.416814139688207, -2.2438404807986747, -2.482288340681983, -2.4699767181815635]\n"
     ]
    },
    {
     "data": {
      "text/plain": [
       "4"
      ]
     },
     "execution_count": 98,
     "metadata": {},
     "output_type": "execute_result"
    }
   ],
   "source": [
    "import math\n",
    "total = 0\n",
    "for i in range(0,len(h_result_classifier)):\n",
    "    total += math.exp(h_result_classifier[i])\n",
    "softlist = []\n",
    "for j in range(0,len(h_result_classifier)):\n",
    "    softlist.append(math.log(math.exp(h_result_classifier[j])/total))\n",
    "print(softlist)\n",
    "np.argmax(softlist)"
   ]
  },
  {
   "cell_type": "code",
   "execution_count": 193,
   "metadata": {
    "scrolled": true
   },
   "outputs": [
    {
     "name": "stdout",
     "output_type": "stream",
     "text": [
      "30\n",
      "[0, 2018.0907, 1760.1644, 0, 0, 0, 0, 0, 0, 0, 0, 470.92947, 1153.4535, 0, 0, 0, 0, 0, 0, 0, 72.6766, 0, 1067.8429, 0, 0, 0, 196.82954, 0, 0, 0]\n",
      "30\n",
      "[499.7073913961649, 0, 0, 0, 0, 0, 0, 80.00345996022224, 0, 0, 0, 296.9014100395143, 0, 500.3973032264039, 590.3616439029574, 0, 0, 537.6553315445781, 0, 0, 0, 0, 564.6138956546783, 0, 10.332109816372395, 0, 0, 322.15510207414627, 619.0512715987861, 0]\n",
      "11\n",
      "[0, 0, 0, 0, 0, 0, 0, 0, 0, 0, 0]\n",
      "11\n",
      "[-0.038753051310777664, 0.020907748490571976, -0.1718147248029709, 0.10381362587213516, 0.24600541591644287, -0.13969765603542328, -0.09362035244703293, -0.02018493041396141, 0.15278872847557068, -0.08565913140773773, -0.07334750890731812]\n",
      "[-2.435382260585023, -2.3757214607836734, -2.5684439340772163, -2.2928155834021102, -2.1506237933578025, -2.5363268653096687, -2.4902495617212783, -2.416814139688207, -2.2438404807986747, -2.482288340681983, -2.4699767181815635]\n",
      "<class 'float'>\n"
     ]
    }
   ],
   "source": [
    "# Layer 1\n",
    "lay1out = []\n",
    "for i in range(0,len(layer1_bias)):\n",
    "    tmp = layer1_bias[i]\n",
    "    for j in range(0, len(h_sample)):\n",
    "        tmp = tmp + h_sample[j]*layer1_weight[i*len(h_sample)+j]\n",
    "        #print(j, h_sample[j], layer1_weight[i*len(h_sample)+j], tmp)\n",
    "    if tmp > 0:\n",
    "        lay1out.append(tmp)\n",
    "    else:\n",
    "        lay1out.append(0)\n",
    "print(len(lay1out))\n",
    "print(lay1out)\n",
    "# Layer 2\n",
    "lay2out = []\n",
    "for i in range(0,len(layer2_bias)):\n",
    "    tmp = layer2_bias[i]\n",
    "    for j in range(0, len(lay1out)):\n",
    "        tmp = tmp + lay1out[j]*layer2_weight[i*len(lay1out)+j]\n",
    "    if tmp > 0:\n",
    "        lay2out.append(tmp)\n",
    "    else:\n",
    "        lay2out.append(0)\n",
    "print(len(lay2out))\n",
    "print(lay2out)\n",
    "# Layer 3\n",
    "lay3out = []\n",
    "for i in range(0,len(layer3_bias)):\n",
    "    tmp = layer3_bias[i]\n",
    "    for j in range(0, len(lay2out)):\n",
    "        tmp = tmp + lay2out[j]*layer3_weight[i*len(lay2out)+j]\n",
    "    if tmp > 0:\n",
    "        lay3out.append(tmp)\n",
    "    else:\n",
    "        lay3out.append(0)\n",
    "print(len(lay3out))\n",
    "print(lay3out)\n",
    "# Layer 4\n",
    "lay4out = []\n",
    "for i in range(0,len(classifier_bias)):\n",
    "    tmp = classifier_bias[i]\n",
    "    for j in range(0, len(lay3out)):\n",
    "        tmp = tmp + lay3out[j]*classifier_weight[i*len(lay3out)+j]\n",
    "    lay4out.append(tmp)\n",
    "print(len(lay4out))\n",
    "print(lay4out)\n",
    "# softmax\n",
    "import math\n",
    "total = 0\n",
    "for i in range(0,len(classifier_bias)):\n",
    "    total += math.exp(lay4out[i])\n",
    "softlist = []\n",
    "for j in range(0,len(classifier_bias)):\n",
    "    softlist.append(math.log(math.exp(lay4out[j])/total))\n",
    "print(softlist)\n",
    "np.argmax(softlist)\n",
    "print(type(softlist[0]))"
   ]
  },
  {
   "cell_type": "code",
   "execution_count": 100,
   "metadata": {
    "scrolled": true
   },
   "outputs": [
    {
     "name": "stdout",
     "output_type": "stream",
     "text": [
      "[ 24.962595  65.68494  130.44887    0.       121.920746   0.\n",
      "   0.       130.16043   83.66256    0.         0.        35.4695\n",
      "   9.632597   0.         0.         7.300482   0.         0.\n",
      "   0.         0.         0.         0.         0.         0.\n",
      "   0.         0.         0.       222.11522    0.         0.      ]\n"
     ]
    }
   ],
   "source": [
    "print(h_result_layer1)"
   ]
  },
  {
   "cell_type": "code",
   "execution_count": 101,
   "metadata": {},
   "outputs": [
    {
     "name": "stdout",
     "output_type": "stream",
     "text": [
      "[30.368639 45.406784 23.563404 24.738811  0.        0.        0.\n",
      " 14.297806  0.        0.        0.       57.128403  0.        0.\n",
      "  0.        0.        0.       47.88062   0.        0.        0.\n",
      "  0.        0.        0.       54.65406   0.        0.        0.\n",
      " 34.58984   0.      ]\n"
     ]
    }
   ],
   "source": [
    "print(h_result_layer2)"
   ]
  },
  {
   "cell_type": "code",
   "execution_count": 102,
   "metadata": {},
   "outputs": [
    {
     "name": "stdout",
     "output_type": "stream",
     "text": [
      "[0. 0. 0. 0. 0. 0. 0. 0. 0. 0. 0.]\n"
     ]
    }
   ],
   "source": [
    "print(h_result_layer3)"
   ]
  },
  {
   "cell_type": "code",
   "execution_count": 103,
   "metadata": {},
   "outputs": [
    {
     "name": "stdout",
     "output_type": "stream",
     "text": [
      "[-0.03875305  0.02090775 -0.17181472  0.10381363  0.24600542 -0.13969766\n",
      " -0.09362035 -0.02018493  0.15278873 -0.08565913 -0.07334751]\n"
     ]
    }
   ],
   "source": [
    "print(h_result_classifier)"
   ]
  },
  {
   "cell_type": "markdown",
   "metadata": {},
   "source": [
    "# Prepare AccNet for Data Fusion"
   ]
  },
  {
   "cell_type": "code",
   "execution_count": 104,
   "metadata": {},
   "outputs": [
    {
     "name": "stdout",
     "output_type": "stream",
     "text": [
      "tensor([[-2.4354, -2.3757, -2.5684, -2.2928, -2.1506, -2.5363, -2.4902, -2.4168,\n",
      "         -2.2438, -2.4823, -2.4700]], grad_fn=<ViewBackward0>)\n",
      "tensor([4])\n",
      "the label index prediction of pytorch implement: tensor([4])\n"
     ]
    }
   ],
   "source": [
    "model.cpu()\n",
    "x_test = features\n",
    "y_test = model(x_test)\n",
    "print(y_test)\n",
    "_, predicted = torch.max(y_test.data, 1)\n",
    "print(predicted)\n",
    "print('the label index prediction of pytorch implement: '+str(predicted))"
   ]
  },
  {
   "cell_type": "code",
   "execution_count": 170,
   "metadata": {},
   "outputs": [
    {
     "name": "stdout",
     "output_type": "stream",
     "text": [
      "['0_pinch_index', '10_palm_hold', '1_palm_tilt', '2_finger_slider', '3_pinch_pinky', '4_slow_swipe', '5_fast_swipe', '6_push', '7_pull', '8_finger_rub', '9_circle', 'class', 'class', 'class', 'class', 'class', 'class', 'class', 'class', 'class', 'class', 'class', 'class', 'class', 'class']\n",
      "torch.Size([200, 192])\n"
     ]
    }
   ],
   "source": [
    "print(classes)\n",
    "classidx=10\n",
    "dat= np.loadtxt('datasettomp/train/'+classes[classidx]+'/dataset.csv',delimiter=\",\",dtype=np.float32,skiprows=1)\n",
    "xf_train = torch.from_numpy(dat[:,:192])\n",
    "print(xf_train.shape)\n",
    "resarr=[]\n",
    "for i in range(0,200):\n",
    "    xt = xf_train[i].detach().numpy()\n",
    "    xt = xt[np.newaxis,:]\n",
    "    xt = torch.from_numpy(xt)\n",
    "    yf_train=model(xf_train)\n",
    "    yt = yf_train.detach().numpy().tolist()[0]\n",
    "    #print(yt)\n",
    "    yt.append(classidx)\n",
    "    resarr.append(yt)\n",
    "    \n",
    "    #print(yt.shape)"
   ]
  },
  {
   "cell_type": "code",
   "execution_count": 171,
   "metadata": {},
   "outputs": [
    {
     "name": "stdout",
     "output_type": "stream",
     "text": [
      "12\n"
     ]
    }
   ],
   "source": [
    "print(len(yt))"
   ]
  },
  {
   "cell_type": "code",
   "execution_count": 172,
   "metadata": {},
   "outputs": [],
   "source": [
    "import csv\n",
    "names=classes\n",
    "names.append('class')\n",
    "#print(files)\n",
    "with open('fusiondataset/train/'+classes[classidx]+'/adxldataset.csv', 'w',newline='') as f: \n",
    "    write = csv.writer(f)\n",
    "    write.writerow(names)\n",
    "    for i in range(0,200): \n",
    "        write.writerow(yt)"
   ]
  },
  {
   "cell_type": "markdown",
   "metadata": {},
   "source": [
    "# Export Weights"
   ]
  },
  {
   "cell_type": "code",
   "execution_count": 173,
   "metadata": {},
   "outputs": [],
   "source": [
    "with open('gesture_acc_weights.h', 'w') as testfile:\n",
    "    testfile.write('//Layer1 Weights \\n')\n",
    "    testfile.write('float layer1_weight[] = {\\n')\n",
    "    for wx in range(0,len(layer1_weight)):\n",
    "        if wx%5==0 and wx!=0:\n",
    "            testfile.write('\\n')\n",
    "        if wx == len(layer1_weight)-1:\n",
    "            testfile.write(str(layer1_weight[wx])+'f')\n",
    "        else:\n",
    "            testfile.write(str(layer1_weight[wx])+'f,')\n",
    "    testfile.write('};\\n')\n",
    "    testfile.write('float layer1_bias[] = {\\n')\n",
    "    for rx in range(0,len(layer1_bias)):\n",
    "        if rx != len(layer1_bias)-1:\n",
    "            testfile.write(str(layer1_bias[rx])+'f,')\n",
    "        else:\n",
    "            testfile.write(str(layer1_bias[rx])+'f')\n",
    "    testfile.write('};\\n')\n",
    "    \n",
    "    testfile.write('//Layer2 Weights \\n')\n",
    "    testfile.write('float layer2_weight[] = {\\n')\n",
    "    for wx in range(0,len(layer2_weight)):\n",
    "        if wx%5==0 and wx!=0:\n",
    "            testfile.write('\\n')\n",
    "        if wx == len(layer2_weight)-1:\n",
    "            testfile.write(str(layer2_weight[wx])+'f')\n",
    "        else:\n",
    "            testfile.write(str(layer2_weight[wx])+'f,')\n",
    "    testfile.write('};\\n')\n",
    "    testfile.write('float layer2_bias[] = {\\n')\n",
    "    for rx in range(0,len(layer2_bias)):\n",
    "        if rx != len(layer2_bias)-1:\n",
    "            testfile.write(str(layer2_bias[rx])+'f,')\n",
    "        else:\n",
    "            testfile.write(str(layer2_bias[rx])+'f')\n",
    "    testfile.write('};\\n')\n",
    "\n",
    "    testfile.write('//Layer3 Weights \\n')\n",
    "    testfile.write('float layer3_weight[] = {\\n')\n",
    "    for wx in range(0,len(layer3_weight)):\n",
    "        if wx%5==0 and wx!=0:\n",
    "            testfile.write('\\n')\n",
    "        if wx == len(layer3_weight)-1:\n",
    "            testfile.write(str(layer3_weight[wx])+'f')\n",
    "        else:\n",
    "            testfile.write(str(layer3_weight[wx])+'f,')\n",
    "    testfile.write('};\\n')\n",
    "    testfile.write('float layer3_bias[] = {\\n')\n",
    "    for rx in range(0,len(layer3_bias)):\n",
    "        if rx != len(layer3_bias)-1:\n",
    "            testfile.write(str(layer3_bias[rx])+'f,')\n",
    "        else:\n",
    "            testfile.write(str(layer3_bias[rx])+'f')\n",
    "    testfile.write('};\\n')\n",
    "    \n",
    "    testfile.write('//Classifier Weights \\n')\n",
    "    testfile.write('float classifier_weight[] = {\\n')\n",
    "    for wx in range(0,len(classifier_weight)):\n",
    "        if wx%5==0 and wx!=0:\n",
    "            testfile.write('\\n')\n",
    "        if wx == len(classifier_weight)-1:\n",
    "            testfile.write(str(classifier_weight[wx])+'f')\n",
    "        else:\n",
    "            testfile.write(str(classifier_weight[wx])+'f,')\n",
    "    testfile.write('};\\n')\n",
    "    testfile.write('float classifier_bias[] = {\\n')\n",
    "    for rx in range(0,len(classifier_bias)):\n",
    "        if rx != len(classifier_bias)-1:\n",
    "            testfile.write(str(classifier_bias[rx])+'f,')\n",
    "        else:\n",
    "            testfile.write(str(classifier_bias[rx])+'f')\n",
    "    testfile.write('};\\n')\n",
    "    "
   ]
  },
  {
   "cell_type": "code",
   "execution_count": null,
   "metadata": {},
   "outputs": [],
   "source": [
    "with open('acctest.h', 'w') as testfile:\n",
    "    testfile.write('float sample[] = {\\n')\n",
    "    for wx in range(0,len(h_sample)):\n",
    "        if wx%5==0 and wx!=0:\n",
    "            testfile.write('\\n')\n",
    "        if wx == len(h_sample)-1:\n",
    "            testfile.write(str(h_sample[wx])+'f')\n",
    "        else:\n",
    "            testfile.write(str(h_sample[wx])+'f,')\n",
    "    testfile.write('};\\n')"
   ]
  },
  {
   "cell_type": "code",
   "execution_count": 192,
   "metadata": {},
   "outputs": [],
   "source": [
    "with open('acc.txt', 'w') as testfile:\n",
    "    for wx in range(0,len(h_sample)):\n",
    "        testfile.write(str(h_sample[wx]))\n",
    "        if wx < len(h_sample)-1:\n",
    "            testfile.write('\\n')"
   ]
  },
  {
   "cell_type": "code",
   "execution_count": null,
   "metadata": {},
   "outputs": [],
   "source": []
  }
 ],
 "metadata": {
  "kernelspec": {
   "display_name": "Python 3 (ipykernel)",
   "language": "python",
   "name": "python3"
  },
  "language_info": {
   "codemirror_mode": {
    "name": "ipython",
    "version": 3
   },
   "file_extension": ".py",
   "mimetype": "text/x-python",
   "name": "python",
   "nbconvert_exporter": "python",
   "pygments_lexer": "ipython3",
   "version": "3.8.8"
  }
 },
 "nbformat": 4,
 "nbformat_minor": 2
}

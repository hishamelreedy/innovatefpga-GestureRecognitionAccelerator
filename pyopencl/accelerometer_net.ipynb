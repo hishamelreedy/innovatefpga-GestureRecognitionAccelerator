{
 "cells": [
  {
   "cell_type": "markdown",
   "metadata": {},
   "source": [
    "# Debug GestureNet OpenCL implement with PyOpenCL and PyTorch\n",
    "Partial code are copied heavily from https://github.com/pytorch/vision/blob/master/torchvision/models/squeezenet.py  \n",
    "SqueezeNet Paper:https://arxiv.org/abs/1602.07360  \n",
    "SqueezeNet 1.1 model from https://github.com/DeepScale/SqueezeNet/tree/master/SqueezeNet_v1.1   \n",
    "SqueezeNet 1.1 has 2.4x less computation and slightly fewer parameters than SqueezeNet 1.0, without sacrificing accuracy.\n"
   ]
  },
  {
   "cell_type": "code",
   "execution_count": 1,
   "metadata": {},
   "outputs": [],
   "source": [
    "#some set up\n",
    "import os\n",
    "import numpy as np\n",
    "import pandas as pd\n",
    "import torch\n",
    "import torch.optim as optim\n",
    "import torch.nn as nn\n",
    "import torch.nn.parallel\n",
    "import torch.backends.cudnn as cudnn\n",
    "from torch.autograd import Variable\n",
    "import torch.utils.data\n",
    "import torchvision.transforms as transforms\n",
    "import torchvision.datasets as datasets\n",
    "from PIL import Image\n",
    "import math\n",
    "import time\n",
    "from torchsummary import summary\n",
    "from matplotlib.pyplot import imshow\n",
    "import matplotlib.pyplot as plt\n",
    "%matplotlib inline"
   ]
  },
  {
   "cell_type": "markdown",
   "metadata": {},
   "source": [
    "## Test top-1 accuracy on pytorch pre-trained SqueezeNet v1.1 "
   ]
  },
  {
   "cell_type": "markdown",
   "metadata": {},
   "source": [
    "### Build GestureNet model for Accelerometer"
   ]
  },
  {
   "cell_type": "code",
   "execution_count": 2,
   "metadata": {},
   "outputs": [],
   "source": [
    "class GestureAccelNet(nn.Module):\n",
    "    def __init__(self, num_classes=2):\n",
    "        super(GestureAccelNet, self).__init__()\n",
    "        self.num_classes = num_classes\n",
    "        self.features = nn.Sequential(\n",
    "            nn.Conv2d(1,64,kernel_size=1,stride=1),\n",
    "            nn.ReLU(inplace=True),\n",
    "            nn.Conv2d(64,32,kernel_size=1,stride=1),\n",
    "            nn.ReLU(inplace=True),\n",
    "            nn.Conv2d(32,13,kernel_size=1,stride=1),\n",
    "            nn.ReLU(inplace=True)\n",
    "            )\n",
    "        self.classifier = nn.Sequential(\n",
    "            nn.Dropout(p=0.5),\n",
    "            nn.Conv2d(13,self.num_classes,kernel_size=1,stride=1),\n",
    "            nn.ReLU(inplace=True),\n",
    "            nn.AvgPool2d((16,3), stride=1)\n",
    "        )\n",
    "\n",
    "    def forward(self, x):\n",
    "        x = self.features(x)\n",
    "        #print(x)\n",
    "        x = self.classifier(x)\n",
    "        #return x\n",
    "        return x.view(x.size(0), self.num_classes)"
   ]
  },
  {
   "cell_type": "code",
   "execution_count": 3,
   "metadata": {},
   "outputs": [
    {
     "name": "stdout",
     "output_type": "stream",
     "text": [
      "GestureAccelNet(\n",
      "  (features): Sequential(\n",
      "    (0): Conv2d(1, 64, kernel_size=(1, 1), stride=(1, 1))\n",
      "    (1): ReLU(inplace=True)\n",
      "    (2): Conv2d(64, 32, kernel_size=(1, 1), stride=(1, 1))\n",
      "    (3): ReLU(inplace=True)\n",
      "    (4): Conv2d(32, 13, kernel_size=(1, 1), stride=(1, 1))\n",
      "    (5): ReLU(inplace=True)\n",
      "  )\n",
      "  (classifier): Sequential(\n",
      "    (0): Dropout(p=0.5, inplace=False)\n",
      "    (1): Conv2d(13, 2, kernel_size=(1, 1), stride=(1, 1))\n",
      "    (2): ReLU(inplace=True)\n",
      "    (3): AvgPool2d(kernel_size=(16, 3), stride=1, padding=0)\n",
      "  )\n",
      ")\n"
     ]
    }
   ],
   "source": [
    "model = GestureAccelNet()\n",
    "print(model)"
   ]
  },
  {
   "cell_type": "code",
   "execution_count": 4,
   "metadata": {},
   "outputs": [
    {
     "name": "stdout",
     "output_type": "stream",
     "text": [
      "----------------------------------------------------------------\n",
      "        Layer (type)               Output Shape         Param #\n",
      "================================================================\n",
      "            Conv2d-1             [1, 64, 16, 3]             128\n",
      "              ReLU-2             [1, 64, 16, 3]               0\n",
      "            Conv2d-3             [1, 32, 16, 3]           2,080\n",
      "              ReLU-4             [1, 32, 16, 3]               0\n",
      "            Conv2d-5             [1, 13, 16, 3]             429\n",
      "              ReLU-6             [1, 13, 16, 3]               0\n",
      "           Dropout-7             [1, 13, 16, 3]               0\n",
      "            Conv2d-8              [1, 2, 16, 3]              28\n",
      "              ReLU-9              [1, 2, 16, 3]               0\n",
      "        AvgPool2d-10               [1, 2, 1, 1]               0\n",
      "================================================================\n",
      "Total params: 2,665\n",
      "Trainable params: 2,665\n",
      "Non-trainable params: 0\n",
      "----------------------------------------------------------------\n",
      "Input size (MB): 0.00\n",
      "Forward/backward pass size (MB): 0.09\n",
      "Params size (MB): 0.01\n",
      "Estimated Total Size (MB): 0.10\n",
      "----------------------------------------------------------------\n"
     ]
    }
   ],
   "source": [
    "summary(model,input_size=(1,16,3), batch_size=1)"
   ]
  },
  {
   "cell_type": "markdown",
   "metadata": {},
   "source": [
    "### Load  Dataset"
   ]
  },
  {
   "cell_type": "code",
   "execution_count": 5,
   "metadata": {},
   "outputs": [],
   "source": [
    "classes = ['4_slow_swipe','9_circle']\n",
    "y_train = [0,1]\n",
    "x_train = np.zeros(shape=(1,16,3))\n",
    "global datidx, labidx\n",
    "datidx = 0\n",
    "labidx = 0"
   ]
  },
  {
   "cell_type": "code",
   "execution_count": 6,
   "metadata": {},
   "outputs": [],
   "source": [
    "from torch.utils.data import Dataset,DataLoader\n",
    "class acceldataset(Dataset):\n",
    "    def __init__(self, data, target):\n",
    "        self.x_train = data\n",
    "        self.y_train = target\n",
    "    def __len__(self):\n",
    "        return len(self.y_train)\n",
    "    def __getitem__(self,idx):\n",
    "        global datidx, labidx\n",
    "        #print(y_train[idx])\n",
    "        datidx+=1\n",
    "        labidx+=1\n",
    "        if datidx == 10:\n",
    "            datidx = 0\n",
    "        if labidx == 2:\n",
    "            labidx = 0\n",
    "        # index = np.random.randint(2,size=1)[0]\n",
    "        x_train=np.zeros(shape=(1,16,3))\n",
    "        # fileidx = np.random.randint(10,size=1)[0]\n",
    "        data=pd.read_csv('acceldataset/'+classes[labidx]+'/'+str(datidx)+'.csv')\n",
    "        for i in range(0, 16):\n",
    "            x_train[0][i][0] = data[\"wristX\"][i]\n",
    "            x_train[0][i][1] = data[\"wristY\"][i]\n",
    "            x_train[0][i][2] = data[\"wristZ\"][i]\n",
    "        #preprocess data\n",
    "        transform = transforms.Compose([\n",
    "            transforms.ToTensor(),\n",
    "            transforms.Normalize(mean = [ 0.5, 0.5, 0.5 ],\n",
    "                                std = [ 0.5, 0.5, 0.5 ]),\n",
    "        ])\n",
    "        self.x_train = transform(x_train)\n",
    "        self.x_train = torch.reshape(self.x_train,(1,16,3))\n",
    "        #print(self.x_train.shape)\n",
    "        return self.x_train,self.y_train[labidx]"
   ]
  },
  {
   "cell_type": "code",
   "execution_count": 7,
   "metadata": {},
   "outputs": [],
   "source": [
    "from sklearn.datasets import make_classification\n",
    "data, target = make_classification(n_samples=1000)"
   ]
  },
  {
   "cell_type": "code",
   "execution_count": 8,
   "metadata": {},
   "outputs": [
    {
     "data": {
      "text/plain": [
       "1000"
      ]
     },
     "execution_count": 8,
     "metadata": {},
     "output_type": "execute_result"
    }
   ],
   "source": [
    "dataset = acceldataset(data,target)\n",
    "len(dataset)"
   ]
  },
  {
   "cell_type": "code",
   "execution_count": 9,
   "metadata": {},
   "outputs": [],
   "source": [
    "train_loader = DataLoader(dataset=dataset, batch_size=200, shuffle=True)"
   ]
  },
  {
   "cell_type": "markdown",
   "metadata": {},
   "source": [
    "### Training Neural Network"
   ]
  },
  {
   "cell_type": "code",
   "execution_count": 10,
   "metadata": {},
   "outputs": [],
   "source": [
    "train_losses = []\n",
    "accuracylist = []\n",
    "# Training and Testing Model\n",
    "def train_model(model, criterion, optimizer, num_epochs=25):\n",
    "   since = time.time()\n",
    "\n",
    "   for epoch in range(num_epochs):\n",
    "       print('Epoch {}/{}'.format(epoch, num_epochs - 1))\n",
    "       print('-' * 10)\n",
    "\n",
    "       #set model to trainable\n",
    "       train_loss = 0\n",
    "       correct = 0\n",
    "       # Iterate over data.\n",
    "       for features, labels in train_loader:\n",
    "           # Forward Pass\n",
    "           #print(features.shape)\n",
    "           output = model(features.float())\n",
    "           loss = criterion(output, labels.long())\n",
    "           optimizer.zero_grad() # clear previous gradients\n",
    "           loss.backward() # backward pass\n",
    "           optimizer.step()\n",
    "           train_loss += loss.item()\n",
    "           #print(np.argmax(output.detach().numpy(),axis=1))\n",
    "           #print(labels.detach().numpy())\n",
    "           correct += (np.argmax(output.detach().numpy(),axis=1) == labels.detach().numpy()).sum()\n",
    "           print('{} Loss: {:.4f}'.format(\n",
    "               'train', train_loss))\n",
    "           train_losses.append(loss.item())\n",
    "       accuracy = 100 * correct / len(dataset)\n",
    "       accuracylist.append(accuracy)\n",
    "   time_elapsed = time.time() - since\n",
    "   print('Training complete in {:.0f}m {:.0f}s'.format(\n",
    "       time_elapsed // 60, time_elapsed % 60))\n",
    "\n",
    "   return model"
   ]
  },
  {
   "cell_type": "code",
   "execution_count": 11,
   "metadata": {},
   "outputs": [],
   "source": [
    "# Define Hyper Parameters\n",
    "criterion = torch.nn.CrossEntropyLoss()\n",
    "optimizer_ft = optim.SGD(model.parameters(), lr=0.001, momentum=0.9)\n",
    "loss_func = torch.nn.NLLLoss"
   ]
  },
  {
   "cell_type": "code",
   "execution_count": 12,
   "metadata": {},
   "outputs": [
    {
     "name": "stdout",
     "output_type": "stream",
     "text": [
      "Epoch 0/24\n",
      "----------\n",
      "train Loss: 0.0000\n",
      "train Loss: 0.0000\n",
      "train Loss: 0.0000\n",
      "train Loss: 0.0000\n",
      "train Loss: 0.0000\n",
      "Epoch 1/24\n",
      "----------\n",
      "train Loss: 0.0000\n",
      "train Loss: 0.0000\n",
      "train Loss: 0.0000\n",
      "train Loss: 0.0000\n",
      "train Loss: 0.0000\n",
      "Epoch 2/24\n",
      "----------\n",
      "train Loss: 0.0000\n",
      "train Loss: 0.0000\n",
      "train Loss: 0.0000\n",
      "train Loss: 0.0000\n",
      "train Loss: 0.0000\n",
      "Epoch 3/24\n",
      "----------\n",
      "train Loss: 0.0000\n",
      "train Loss: 0.0000\n",
      "train Loss: 0.0000\n",
      "train Loss: 0.0000\n",
      "train Loss: 0.0000\n",
      "Epoch 4/24\n",
      "----------\n",
      "train Loss: 0.0000\n",
      "train Loss: 0.0000\n",
      "train Loss: 0.0000\n",
      "train Loss: 0.0000\n",
      "train Loss: 0.0000\n",
      "Epoch 5/24\n",
      "----------\n",
      "train Loss: 0.0000\n",
      "train Loss: 0.0000\n",
      "train Loss: 0.0000\n",
      "train Loss: 0.0000\n",
      "train Loss: 0.0000\n",
      "Epoch 6/24\n",
      "----------\n",
      "train Loss: 0.0000\n",
      "train Loss: 0.0000\n",
      "train Loss: 0.0000\n",
      "train Loss: 0.0000\n",
      "train Loss: 0.0000\n",
      "Epoch 7/24\n",
      "----------\n",
      "train Loss: 0.0000\n",
      "train Loss: 0.0000\n",
      "train Loss: 0.0000\n",
      "train Loss: 0.0000\n",
      "train Loss: 0.0000\n",
      "Epoch 8/24\n",
      "----------\n",
      "train Loss: 0.0000\n",
      "train Loss: 0.0000\n",
      "train Loss: 0.0000\n",
      "train Loss: 0.0000\n",
      "train Loss: 0.0000\n",
      "Epoch 9/24\n",
      "----------\n",
      "train Loss: 0.0000\n",
      "train Loss: 0.0000\n",
      "train Loss: 0.0000\n",
      "train Loss: 0.0000\n",
      "train Loss: 0.0000\n",
      "Epoch 10/24\n",
      "----------\n",
      "train Loss: 0.0000\n",
      "train Loss: 0.0000\n",
      "train Loss: 0.0000\n",
      "train Loss: 0.0000\n",
      "train Loss: 0.0000\n",
      "Epoch 11/24\n",
      "----------\n",
      "train Loss: 0.0000\n",
      "train Loss: 0.0000\n",
      "train Loss: 0.0000\n",
      "train Loss: 0.0000\n",
      "train Loss: 0.0000\n",
      "Epoch 12/24\n",
      "----------\n",
      "train Loss: 0.0000\n",
      "train Loss: 0.0000\n",
      "train Loss: 0.0000\n",
      "train Loss: 0.0000\n",
      "train Loss: 0.0000\n",
      "Epoch 13/24\n",
      "----------\n",
      "train Loss: 0.0000\n",
      "train Loss: 0.0000\n",
      "train Loss: 0.0000\n",
      "train Loss: 0.0000\n",
      "train Loss: 0.0000\n",
      "Epoch 14/24\n",
      "----------\n",
      "train Loss: 0.0000\n",
      "train Loss: 0.0000\n",
      "train Loss: 0.0000\n",
      "train Loss: 0.0000\n",
      "train Loss: 0.0000\n",
      "Epoch 15/24\n",
      "----------\n",
      "train Loss: 0.0000\n",
      "train Loss: 0.0000\n",
      "train Loss: 0.0000\n",
      "train Loss: 0.0000\n",
      "train Loss: 0.0000\n",
      "Epoch 16/24\n",
      "----------\n",
      "train Loss: 0.0000\n",
      "train Loss: 0.0000\n",
      "train Loss: 0.0000\n",
      "train Loss: 0.0000\n",
      "train Loss: 0.0000\n",
      "Epoch 17/24\n",
      "----------\n",
      "train Loss: 0.0000\n",
      "train Loss: 0.0000\n",
      "train Loss: 0.0000\n",
      "train Loss: 0.0000\n",
      "train Loss: 0.0000\n",
      "Epoch 18/24\n",
      "----------\n",
      "train Loss: 0.0000\n",
      "train Loss: 0.0000\n",
      "train Loss: 0.0000\n",
      "train Loss: 0.0000\n",
      "train Loss: 0.0000\n",
      "Epoch 19/24\n",
      "----------\n",
      "train Loss: 0.0000\n",
      "train Loss: 0.0000\n",
      "train Loss: 0.0000\n",
      "train Loss: 0.0000\n",
      "train Loss: 0.0000\n",
      "Epoch 20/24\n",
      "----------\n",
      "train Loss: 0.0000\n",
      "train Loss: 0.0000\n",
      "train Loss: 0.0000\n",
      "train Loss: 0.0000\n",
      "train Loss: 0.0000\n",
      "Epoch 21/24\n",
      "----------\n",
      "train Loss: 0.0000\n",
      "train Loss: 0.0000\n",
      "train Loss: 0.0000\n",
      "train Loss: 0.0000\n",
      "train Loss: 0.0000\n",
      "Epoch 22/24\n",
      "----------\n",
      "train Loss: 0.0000\n",
      "train Loss: 0.0000\n",
      "train Loss: 0.0000\n",
      "train Loss: 0.0000\n",
      "train Loss: 0.0000\n",
      "Epoch 23/24\n",
      "----------\n",
      "train Loss: 0.0000\n",
      "train Loss: 0.0000\n",
      "train Loss: 0.0000\n",
      "train Loss: 0.0000\n",
      "train Loss: 0.0000\n",
      "Epoch 24/24\n",
      "----------\n",
      "train Loss: 0.0000\n",
      "train Loss: 0.0000\n",
      "train Loss: 0.0000\n",
      "train Loss: 0.0000\n",
      "train Loss: 0.0000\n",
      "Training complete in 0m 42s\n"
     ]
    }
   ],
   "source": [
    "gesturenet = train_model(model, criterion, optimizer_ft, num_epochs=25)"
   ]
  },
  {
   "cell_type": "code",
   "execution_count": 13,
   "metadata": {},
   "outputs": [
    {
     "data": {
      "image/png": "[encoded data removed]",
      "text/plain": [
       "<Figure size 720x360 with 1 Axes>"
      ]
     },
     "metadata": {
      "needs_background": "light"
     },
     "output_type": "display_data"
    },
    {
     "data": {
      "image/png": "[encoded data removed]",
      "text/plain": [
       "<Figure size 720x360 with 1 Axes>"
      ]
     },
     "metadata": {
      "needs_background": "light"
     },
     "output_type": "display_data"
    }
   ],
   "source": [
    "plt.figure(figsize=(10,5))\n",
    "plt.title(\"Training Loss\")\n",
    "plt.plot(train_losses,label=\"train\")\n",
    "plt.xlabel(\"iterations\")\n",
    "plt.ylabel(\"Loss\")\n",
    "plt.legend()\n",
    "plt.show()\n",
    "plt.figure(figsize=(10,5))\n",
    "plt.title(\"Training Accuracy\")\n",
    "plt.plot(accuracylist,label=\"train\")\n",
    "plt.xlabel(\"iterations\")\n",
    "plt.ylabel(\"Accuracy\")\n",
    "plt.legend()\n",
    "plt.show()"
   ]
  },
  {
   "cell_type": "code",
   "execution_count": 14,
   "metadata": {},
   "outputs": [],
   "source": [
    "torch.save(model.state_dict(), 'GestureAccelNet.pth')"
   ]
  },
  {
   "cell_type": "markdown",
   "metadata": {},
   "source": [
    "### Calculate top-1 accuracy of the pre-trained model"
   ]
  },
  {
   "cell_type": "markdown",
   "metadata": {},
   "source": [
    "## Test Model in Pytorch if the OpenCL implement is correct\n",
    "By comprare the result of OpenCL implement and PyTorch implement using a single image as input  \n",
    "error = ((OpenCL_implement_class_socores - PyTorch_implement_class_socores) ^ 2).sum(element_wise)  \n",
    "If the OpenCL implement is correct, error should be relativly small."
   ]
  },
  {
   "cell_type": "code",
   "execution_count": 15,
   "metadata": {
    "scrolled": true
   },
   "outputs": [
    {
     "name": "stdout",
     "output_type": "stream",
     "text": [
      "4_slow_swipe\n",
      "torch.Size([1, 1, 16, 3])\n"
     ]
    }
   ],
   "source": [
    "# load the test image\n",
    "print(classes[0])\n",
    "x_test=np.zeros(shape=(1,1,16,3))\n",
    "data=pd.read_csv('acceldataset/'+classes[0]+'/'+str(1)+'.csv')\n",
    "#print(len(data[\"wristX\"]))\n",
    "for i in range(0, 16):\n",
    "    x_test[0][0][i][0] = data[\"wristX\"][i]\n",
    "    x_test[0][0][i][1] = data[\"wristY\"][i]\n",
    "    x_test[0][0][i][2] = data[\"wristZ\"][i]\n",
    "#preprocess data\n",
    "transform = transforms.Compose([\n",
    "    transforms.ToTensor(),\n",
    "    transforms.Normalize(mean = [ 0.5, 0.5, 0.5 ],\n",
    "                        std = [ 0.5, 0.5, 0.5 ]),\n",
    "])\n",
    "x_test = transform(x_test[0])\n",
    "x_test = torch.reshape(x_test,(1,1,16,3))\n",
    "print(x_test.shape)"
   ]
  },
  {
   "cell_type": "code",
   "execution_count": 16,
   "metadata": {
    "scrolled": true
   },
   "outputs": [
    {
     "name": "stdout",
     "output_type": "stream",
     "text": [
      "tensor([[28.2092,  0.4800]], grad_fn=<ViewBackward0>)\n",
      "tensor([0])\n",
      "the label index prediction of pytorch implement: 4_slow_swipe\n"
     ]
    }
   ],
   "source": [
    "model.cpu()\n",
    "y_test = model(x_test.float())\n",
    "print(y_test)\n",
    "_, predicted = torch.max(y_test.data, 1)\n",
    "print(predicted)\n",
    "print('the label index prediction of pytorch implement: '+classes[predicted])"
   ]
  },
  {
   "cell_type": "markdown",
   "metadata": {},
   "source": [
    "### Load OpenCL implement\n",
    "deviceinfo.py and partial pyopencl code are from Hands On OpenCL  \n",
    "https://handsonopencl.github.io/"
   ]
  },
  {
   "cell_type": "markdown",
   "metadata": {},
   "source": [
    "#### Step1: OpenCL preparation"
   ]
  },
  {
   "cell_type": "code",
   "execution_count": 17,
   "metadata": {},
   "outputs": [],
   "source": [
    "# OpenCL setup\n",
    "import pyopencl as cl\n",
    "import deviceinfo"
   ]
  },
  {
   "cell_type": "code",
   "execution_count": 18,
   "metadata": {
    "scrolled": true
   },
   "outputs": [
    {
     "name": "stdout",
     "output_type": "stream",
     "text": [
      "Device is NVIDIA GeForce GTX 1650 TiGPU from NVIDIA Corporation with a max of 16 compute units\n"
     ]
    }
   ],
   "source": [
    "# Ask the user to select a platform/device on the CLI\n",
    "context = cl.create_some_context()\n",
    "\n",
    "# Print out device info\n",
    "deviceinfo.output_device_info(context.devices[0])\n",
    "\n",
    "# Create a command queue\n",
    "queue = cl.CommandQueue(context)"
   ]
  },
  {
   "cell_type": "markdown",
   "metadata": {},
   "source": [
    "#### Step 2: import parameters from pytorch implement"
   ]
  },
  {
   "cell_type": "code",
   "execution_count": 19,
   "metadata": {},
   "outputs": [
    {
     "name": "stdout",
     "output_type": "stream",
     "text": [
      "features.0.weight (64, 1, 1, 1)\n",
      "features.0.bias (64,)\n",
      "features.2.weight (32, 64, 1, 1)\n",
      "features.2.bias (32,)\n",
      "features.4.weight (13, 32, 1, 1)\n",
      "features.4.bias (13,)\n",
      "classifier.1.weight (2, 13, 1, 1)\n",
      "classifier.1.bias (2,)\n"
     ]
    }
   ],
   "source": [
    "params = model.state_dict()\n",
    "for k,v in params.items():\n",
    "    # print parameter name\n",
    "    print(k,params[k].numpy().shape)\n",
    "conv1_weight = params['features.0.weight'].numpy().reshape(-1)\n",
    "conv1_bias = params['features.0.bias'].numpy()\n",
    "conv2_weight = params['features.2.weight'].numpy().reshape(-1)\n",
    "conv2_bias = params['features.2.bias'].numpy()\n",
    "conv3_weight = params['features.4.weight'].numpy().reshape(-1)\n",
    "conv3_bias = params['features.4.bias'].numpy()\n",
    "classifier_weight = params['classifier.1.weight'].numpy().reshape(-1)\n",
    "classifier_bias = params['classifier.1.bias'].numpy()"
   ]
  },
  {
   "cell_type": "code",
   "execution_count": 20,
   "metadata": {},
   "outputs": [
    {
     "data": {
      "text/plain": [
       "torch.float32"
      ]
     },
     "execution_count": 20,
     "metadata": {},
     "output_type": "execute_result"
    }
   ],
   "source": [
    "params['classifier.1.bias'].dtype"
   ]
  },
  {
   "cell_type": "markdown",
   "metadata": {},
   "source": [
    "Creat OpenCL memory object"
   ]
  },
  {
   "cell_type": "code",
   "execution_count": 21,
   "metadata": {},
   "outputs": [],
   "source": [
    "h_sample = x_test.numpy().reshape(-1)\n",
    "h_result_conv = np.empty(1 * 64 * 16 * 3).astype(np.float32)\n",
    "h_result_conv2 = np.empty(1 * 32 * 16 * 3).astype(np.float32)\n",
    "h_result_conv3 = np.empty(1 * 13 * 16 * 3).astype(np.float32)\n",
    "h_result_classifier_conv = np.empty(1 * len(classes) * 16 * 3).astype(np.float32)\n",
    "h_result_classifier = np.empty(1 * len(classes)).astype(np.float32)\n",
    "\n",
    "# device input buffer\n",
    "d_sample = cl.Buffer(context, cl.mem_flags.READ_ONLY | cl.mem_flags.COPY_HOST_PTR, hostbuf=h_sample)\n",
    "\n",
    "# device buffers \n",
    "d_conv1_weight = cl.Buffer(context, cl.mem_flags.READ_ONLY | cl.mem_flags.COPY_HOST_PTR, hostbuf=conv1_weight)\n",
    "d_conv1_bias = cl.Buffer(context, cl.mem_flags.READ_ONLY | cl.mem_flags.COPY_HOST_PTR, hostbuf=conv1_bias)\n",
    "d_conv2_weight = cl.Buffer(context, cl.mem_flags.READ_ONLY | cl.mem_flags.COPY_HOST_PTR, hostbuf=conv2_weight)\n",
    "d_conv2_bias = cl.Buffer(context, cl.mem_flags.READ_ONLY | cl.mem_flags.COPY_HOST_PTR, hostbuf=conv2_bias)\n",
    "d_conv3_weight = cl.Buffer(context, cl.mem_flags.READ_ONLY | cl.mem_flags.COPY_HOST_PTR, hostbuf=conv3_weight)\n",
    "d_conv3_bias = cl.Buffer(context, cl.mem_flags.READ_ONLY | cl.mem_flags.COPY_HOST_PTR, hostbuf=conv3_bias)\n",
    "d_classifier_weight = cl.Buffer(context, cl.mem_flags.READ_ONLY | cl.mem_flags.COPY_HOST_PTR, hostbuf=classifier_weight)\n",
    "d_classifier_bias = cl.Buffer(context, cl.mem_flags.READ_ONLY | cl.mem_flags.COPY_HOST_PTR, hostbuf=classifier_bias)\n",
    "\n",
    "d_result_conv = cl.Buffer(context, cl.mem_flags.WRITE_ONLY, h_result_conv.nbytes)\n",
    "d_result_conv2 = cl.Buffer(context, cl.mem_flags.WRITE_ONLY, h_result_conv2.nbytes)\n",
    "d_result_conv3 = cl.Buffer(context, cl.mem_flags.WRITE_ONLY, h_result_conv3.nbytes)\n",
    "d_result_classifier_conv = cl.Buffer(context, cl.mem_flags.WRITE_ONLY, h_result_classifier_conv.nbytes)\n",
    "d_result_classifier = cl.Buffer(context, cl.mem_flags.WRITE_ONLY, h_result_classifier.nbytes)"
   ]
  },
  {
   "cell_type": "markdown",
   "metadata": {},
   "source": [
    "#### Step 3: create kernels\n",
    "Create & build program"
   ]
  },
  {
   "cell_type": "code",
   "execution_count": 22,
   "metadata": {
    "scrolled": true
   },
   "outputs": [],
   "source": [
    "kernelSource = open(\"gesturenet.cl\").read()\n",
    "program = cl.Program(context, kernelSource).build()"
   ]
  },
  {
   "cell_type": "markdown",
   "metadata": {},
   "source": [
    "Create kernels"
   ]
  },
  {
   "cell_type": "code",
   "execution_count": 23,
   "metadata": {},
   "outputs": [],
   "source": [
    "conv3x3 = program.conv2d3x3\n",
    "conv3x3.set_scalar_arg_dtypes([np.int32, np.int32, np.int32, np.int32, np.int32, np.int32, \\\n",
    "                               None, None, None, None])\n",
    "\n",
    "maxpool = program.maxpool2d\n",
    "maxpool.set_scalar_arg_dtypes([np.int32, np.int32, None, None])\n",
    "\n",
    "conv1x1 = program.conv2d1x1\n",
    "conv1x1.set_scalar_arg_dtypes([np.int32, np.int32, np.int32,\\\n",
    "                               None, None, None, None])\n",
    "\n",
    "avgpool = program.avgpool2d\n",
    "avgpool.set_scalar_arg_dtypes([np.int32,np.int32,None, None])\n",
    "\n",
    "fc = program.fc\n",
    "fc.set_scalar_arg_dtypes([np.int32,np.int32,None,None,None,None])"
   ]
  },
  {
   "cell_type": "markdown",
   "metadata": {},
   "source": [
    "Run OpenCL implement  "
   ]
  },
  {
   "cell_type": "code",
   "execution_count": 24,
   "metadata": {},
   "outputs": [
    {
     "name": "stdout",
     "output_type": "stream",
     "text": [
      "(64,)\n",
      "The kernel ran in 0.0019958019256591797 seconds\n"
     ]
    }
   ],
   "source": [
    "rtime = time.time()\n",
    "print(conv1_weight.shape)\n",
    "# First\n",
    "conv1x1(queue,(64,), None, 1, 16, 3, d_sample, d_conv1_weight ,d_conv1_bias, d_result_conv)\n",
    "# Second\n",
    "conv1x1(queue,(32,), None, 64, 16, 3, d_result_conv, d_conv2_weight ,d_conv2_bias, d_result_conv2)\n",
    "# Third\n",
    "conv1x1(queue,(13,), None, 32, 16, 3, d_result_conv2, d_conv3_weight ,d_conv3_bias, d_result_conv3)\n",
    "# classifier\n",
    "conv1x1(queue,(len(classes),), None, 13, 16, 3, d_result_conv3, d_classifier_weight, d_classifier_bias, d_result_classifier_conv)\n",
    "avgpool(queue,(len(classes),), None, 16, 3, d_result_classifier_conv, d_result_classifier)\n",
    "# Wait for the commands to finish before reading back\n",
    "queue.finish()\n",
    "rtime = time.time() - rtime\n",
    "print(\"The kernel ran in\", rtime, \"seconds\")"
   ]
  },
  {
   "cell_type": "code",
   "execution_count": 25,
   "metadata": {
    "scrolled": false
   },
   "outputs": [
    {
     "name": "stdout",
     "output_type": "stream",
     "text": [
      "the label index prediction of OpenCL implement: 0\n",
      "OpenCL implement error:  794.8723\n",
      "(3072,)\n",
      "(1536,)\n",
      "(624,)\n",
      "(96,)\n",
      "tensor([[28.2092,  0.4800]], grad_fn=<ViewBackward0>)\n",
      "[0.01978288 0.        ]\n"
     ]
    }
   ],
   "source": [
    "#copy result from gpu\n",
    "cl.enqueue_copy(queue, h_result_classifier, d_result_classifier)\n",
    "queue.finish()\n",
    "label_opencl = np.argmax(h_result_classifier)\n",
    "print('the label index prediction of OpenCL implement: %d' % label_opencl)\n",
    "\n",
    "correct_result = y_test.data.numpy().reshape(-1)\n",
    "error = ((correct_result - h_result_classifier) ** 2).sum()\n",
    "print('OpenCL implement error: ', error)\n",
    "cl.enqueue_copy(queue, h_result_conv, d_result_conv)\n",
    "print(h_result_conv.shape)\n",
    "cl.enqueue_copy(queue, h_result_conv2, d_result_conv2)\n",
    "print(h_result_conv2.shape)\n",
    "cl.enqueue_copy(queue, h_result_conv3, d_result_conv3)\n",
    "print(h_result_conv3.shape)\n",
    "cl.enqueue_copy(queue, h_result_classifier_conv, d_result_classifier_conv)\n",
    "print(h_result_classifier_conv.shape)\n",
    "print(y_test)\n",
    "print(h_result_classifier)"
   ]
  },
  {
   "cell_type": "code",
   "execution_count": null,
   "metadata": {},
   "outputs": [],
   "source": []
  },
  {
   "cell_type": "code",
   "execution_count": null,
   "metadata": {},
   "outputs": [],
   "source": []
  },
  {
   "cell_type": "code",
   "execution_count": null,
   "metadata": {},
   "outputs": [],
   "source": []
  },
  {
   "cell_type": "code",
   "execution_count": null,
   "metadata": {},
   "outputs": [],
   "source": []
  },
  {
   "cell_type": "code",
   "execution_count": null,
   "metadata": {},
   "outputs": [],
   "source": []
  },
  {
   "cell_type": "code",
   "execution_count": null,
   "metadata": {},
   "outputs": [],
   "source": []
  },
  {
   "cell_type": "code",
   "execution_count": null,
   "metadata": {},
   "outputs": [],
   "source": []
  },
  {
   "cell_type": "code",
   "execution_count": null,
   "metadata": {},
   "outputs": [],
   "source": []
  },
  {
   "cell_type": "code",
   "execution_count": null,
   "metadata": {},
   "outputs": [],
   "source": []
  },
  {
   "cell_type": "code",
   "execution_count": null,
   "metadata": {},
   "outputs": [],
   "source": []
  },
  {
   "cell_type": "code",
   "execution_count": null,
   "metadata": {},
   "outputs": [],
   "source": []
  },
  {
   "cell_type": "code",
   "execution_count": null,
   "metadata": {},
   "outputs": [],
   "source": []
  }
 ],
 "metadata": {
  "kernelspec": {
   "display_name": "Python 3 (ipykernel)",
   "language": "python",
   "name": "python3"
  },
  "language_info": {
   "codemirror_mode": {
    "name": "ipython",
    "version": 3
   },
   "file_extension": ".py",
   "mimetype": "text/x-python",
   "name": "python",
   "nbconvert_exporter": "python",
   "pygments_lexer": "ipython3",
   "version": "3.8.8"
  }
 },
 "nbformat": 4,
 "nbformat_minor": 2
}

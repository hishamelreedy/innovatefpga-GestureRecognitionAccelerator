{
 "cells": [
  {
   "cell_type": "markdown",
   "metadata": {},
   "source": [
    "# Debug GestureNet OpenCL implement with PyOpenCL and PyTorch\n"
   ]
  },
  {
   "cell_type": "code",
   "execution_count": 156,
   "metadata": {},
   "outputs": [],
   "source": [
    "#some set up\n",
    "import os\n",
    "import numpy as np\n",
    "import pandas as pd\n",
    "import torch\n",
    "import torch.optim as optim\n",
    "import torch.nn as nn\n",
    "import torch.nn.parallel\n",
    "import torch.backends.cudnn as cudnn\n",
    "from torch.autograd import Variable\n",
    "import torch.utils.data\n",
    "import torchvision.transforms as transforms\n",
    "import torchvision.datasets as datasets\n",
    "from PIL import Image\n",
    "import math\n",
    "import time\n",
    "from torchsummary import summary\n",
    "from matplotlib.pyplot import imshow\n",
    "import matplotlib.pyplot as plt\n",
    "%matplotlib inline"
   ]
  },
  {
   "cell_type": "markdown",
   "metadata": {},
   "source": [
    "## Test top-1 accuracy on pytorch pre-trained SqueezeNet v1.1 "
   ]
  },
  {
   "cell_type": "markdown",
   "metadata": {},
   "source": [
    "### Build GestureNet model for Accelerometer"
   ]
  },
  {
   "cell_type": "code",
   "execution_count": 179,
   "metadata": {},
   "outputs": [],
   "source": [
    "class GestureAccelNet(nn.Module):\n",
    "    def __init__(self, num_classes=2):\n",
    "        super(GestureAccelNet, self).__init__()\n",
    "        self.num_classes = num_classes\n",
    "        self.features = nn.Sequential(\n",
    "            nn.Linear(48,30,bias=True),\n",
    "            nn.ReLU(inplace=True),\n",
    "            nn.Linear(30,30,bias=True),\n",
    "            nn.ReLU(inplace=True),\n",
    "            nn.Linear(30,10,bias=True),\n",
    "            nn.ReLU(inplace=True)\n",
    "            )\n",
    "        self.classifier = nn.Sequential(\n",
    "            nn.Dropout(p=0.5),\n",
    "            nn.Linear(10,self.num_classes,bias=True),\n",
    "            nn.LogSoftmax(dim=1),\n",
    "        )\n",
    "\n",
    "    def forward(self, x):\n",
    "        x = self.features(x)\n",
    "        x = self.classifier(x)\n",
    "        return x.view(x.size(0), self.num_classes)"
   ]
  },
  {
   "cell_type": "code",
   "execution_count": 180,
   "metadata": {},
   "outputs": [
    {
     "name": "stdout",
     "output_type": "stream",
     "text": [
      "GestureAccelNet(\n",
      "  (features): Sequential(\n",
      "    (0): Linear(in_features=48, out_features=30, bias=True)\n",
      "    (1): ReLU(inplace=True)\n",
      "    (2): Linear(in_features=30, out_features=30, bias=True)\n",
      "    (3): ReLU(inplace=True)\n",
      "    (4): Linear(in_features=30, out_features=10, bias=True)\n",
      "    (5): ReLU(inplace=True)\n",
      "  )\n",
      "  (classifier): Sequential(\n",
      "    (0): Dropout(p=0.5, inplace=False)\n",
      "    (1): Linear(in_features=10, out_features=2, bias=True)\n",
      "    (2): LogSoftmax(dim=1)\n",
      "  )\n",
      ")\n"
     ]
    }
   ],
   "source": [
    "model = GestureAccelNet()\n",
    "print(model)"
   ]
  },
  {
   "cell_type": "code",
   "execution_count": 181,
   "metadata": {},
   "outputs": [
    {
     "name": "stdout",
     "output_type": "stream",
     "text": [
      "----------------------------------------------------------------\n",
      "        Layer (type)               Output Shape         Param #\n",
      "================================================================\n",
      "            Linear-1                 [1, 1, 30]           1,470\n",
      "              ReLU-2                 [1, 1, 30]               0\n",
      "            Linear-3                 [1, 1, 30]             930\n",
      "              ReLU-4                 [1, 1, 30]               0\n",
      "            Linear-5                 [1, 1, 10]             310\n",
      "              ReLU-6                 [1, 1, 10]               0\n",
      "           Dropout-7                 [1, 1, 10]               0\n",
      "            Linear-8                  [1, 1, 2]              22\n",
      "        LogSoftmax-9                  [1, 1, 2]               0\n",
      "================================================================\n",
      "Total params: 2,732\n",
      "Trainable params: 2,732\n",
      "Non-trainable params: 0\n",
      "----------------------------------------------------------------\n",
      "Input size (MB): 0.00\n",
      "Forward/backward pass size (MB): 0.00\n",
      "Params size (MB): 0.01\n",
      "Estimated Total Size (MB): 0.01\n",
      "----------------------------------------------------------------\n"
     ]
    }
   ],
   "source": [
    "summary(model,input_size=(1,48), batch_size=1)"
   ]
  },
  {
   "cell_type": "markdown",
   "metadata": {},
   "source": [
    "### Load  Dataset"
   ]
  },
  {
   "cell_type": "code",
   "execution_count": 182,
   "metadata": {},
   "outputs": [],
   "source": [
    "classes = ['4_slow_swipe','9_circle']\n",
    "y_train = [0,1]\n",
    "x_train = np.zeros(shape=(1,48))\n",
    "global datidx, labidx\n",
    "datidx = 0\n",
    "labidx = 0"
   ]
  },
  {
   "cell_type": "code",
   "execution_count": 183,
   "metadata": {},
   "outputs": [],
   "source": [
    "from torch.utils.data import Dataset,DataLoader\n",
    "class acceldataset(Dataset):\n",
    "    def __init__(self, data, target):\n",
    "        self.x_train = data\n",
    "        self.y_train = target\n",
    "    def __len__(self):\n",
    "        return len(self.y_train)\n",
    "    def __getitem__(self,idx):\n",
    "        global datidx, labidx\n",
    "        #print(y_train[idx])\n",
    "        datidx+=1\n",
    "        labidx+=1\n",
    "        if datidx == 20:\n",
    "            datidx = 0\n",
    "        if labidx == 2:\n",
    "            labidx = 0\n",
    "        x_train=np.zeros(shape=(1,48))\n",
    "        data=pd.read_csv('acceldataset/'+classes[labidx]+'/'+str(datidx)+'.csv')\n",
    "        for i in range(0, 16):\n",
    "            x_train[0][i*3] = data[\"wristX\"][i]\n",
    "            x_train[0][i*3+1] = data[\"wristY\"][i]\n",
    "            x_train[0][i*3+2] = data[\"wristZ\"][i]\n",
    "        #preprocess data\n",
    "        #print(x_train)\n",
    "        transform = transforms.Compose([\n",
    "            transforms.ToTensor(),\n",
    "            #transforms.Normalize(mean = [ 0.5, 0.5, 0.5 ],\n",
    "             #                   std = [ 0.5, 0.5, 0.5 ]),\n",
    "        ])\n",
    "        self.x_train = transform(x_train)\n",
    "        self.x_train = torch.reshape(self.x_train,(1,48))\n",
    "        return self.x_train,self.y_train[labidx]"
   ]
  },
  {
   "cell_type": "code",
   "execution_count": 184,
   "metadata": {},
   "outputs": [],
   "source": [
    "from sklearn.datasets import make_classification\n",
    "data, target = make_classification(n_samples=1000)"
   ]
  },
  {
   "cell_type": "code",
   "execution_count": 185,
   "metadata": {},
   "outputs": [
    {
     "data": {
      "text/plain": [
       "1000"
      ]
     },
     "execution_count": 185,
     "metadata": {},
     "output_type": "execute_result"
    }
   ],
   "source": [
    "dataset = acceldataset(data,target)\n",
    "valdataset = acceldataset(data, target)\n",
    "len(dataset)"
   ]
  },
  {
   "cell_type": "code",
   "execution_count": 186,
   "metadata": {},
   "outputs": [],
   "source": [
    "train_loader = DataLoader(dataset=dataset, batch_size=200, shuffle=True)\n",
    "validate_loader = DataLoader(dataset=valdataset, batch_size=200, shuffle=True)"
   ]
  },
  {
   "cell_type": "markdown",
   "metadata": {},
   "source": [
    "### Training Neural Network"
   ]
  },
  {
   "cell_type": "code",
   "execution_count": 187,
   "metadata": {},
   "outputs": [],
   "source": [
    "train_losses = []\n",
    "accuracylist = []\n",
    "# Training  Model\n",
    "def train_model(model, criterion, optimizer, num_epochs=25):\n",
    "   since = time.time()\n",
    "\n",
    "   for epoch in range(num_epochs):\n",
    "       print('Epoch {}/{}'.format(epoch, num_epochs - 1))\n",
    "       print('-' * 10)\n",
    "\n",
    "       #set model to trainable\n",
    "       train_loss = 0\n",
    "       correct = 0\n",
    "       # Iterate over data.\n",
    "       for features, labels in train_loader:\n",
    "           # Forward Pass\n",
    "           #print(features.shape)\n",
    "           #print(labels.long())\n",
    "           output = model(features.float())\n",
    "           #print(output)\n",
    "           loss = criterion(output, labels.long())\n",
    "           optimizer.zero_grad() # clear previous gradients\n",
    "           loss.backward() # backward pass\n",
    "           optimizer.step()\n",
    "           train_loss += loss.item()\n",
    "           #print(np.argmax(output.detach().numpy(),axis=1))\n",
    "           #print(labels.detach().numpy())\n",
    "           correct += (np.argmax(output.detach().numpy(),axis=1) == labels.detach().numpy()).sum()\n",
    "           print('{} Loss: {:.4f}'.format(\n",
    "               'train', train_loss))\n",
    "           train_losses.append(loss.item())\n",
    "       accuracy = 100 * correct / len(dataset)\n",
    "       accuracylist.append(accuracy)\n",
    "   time_elapsed = time.time() - since\n",
    "   print('Training complete in {:.0f}m {:.0f}s'.format(\n",
    "       time_elapsed // 60, time_elapsed % 60))"
   ]
  },
  {
   "cell_type": "code",
   "execution_count": 188,
   "metadata": {},
   "outputs": [],
   "source": [
    "validate_losses = []\n",
    "def validate_model(model, num_epochs=25):\n",
    "    since = time.time()\n",
    "    for epoch in range(num_epochs):\n",
    "        print('Epoch {}/{}'.format(epoch, num_epochs - 1))\n",
    "        print('-' * 10)\n",
    "        # Evaluate\n",
    "        # model.eval()\n",
    "        #Initialize\n",
    "        correct = 0\n",
    "        # Iterate over data.\n",
    "        for features, labels in validate_loader:\n",
    "            output = model(features.float())\n",
    "            correct += (np.argmax(output.detach().numpy(),axis=1) == labels.detach().numpy()).sum()/len(dataset) *100\n",
    "        validate_losses.append(correct)\n",
    "        print('{} Acc: {:.4f}'.format(\n",
    "            'Validate', correct))"
   ]
  },
  {
   "cell_type": "code",
   "execution_count": 189,
   "metadata": {},
   "outputs": [],
   "source": [
    "# Define Hyper Parameters\n",
    "criterion = torch.nn.CrossEntropyLoss()\n",
    "optimizer_ft = optim.SGD(model.parameters(), lr=0.001, momentum=0.9)"
   ]
  },
  {
   "cell_type": "code",
   "execution_count": 190,
   "metadata": {},
   "outputs": [
    {
     "name": "stdout",
     "output_type": "stream",
     "text": [
      "Epoch 0/24\n",
      "----------\n",
      "train Loss: 0.6931\n",
      "train Loss: 1.3863\n",
      "train Loss: 2.0794\n",
      "train Loss: 2.7726\n",
      "train Loss: 3.4657\n",
      "Epoch 1/24\n",
      "----------\n",
      "train Loss: 0.6931\n",
      "train Loss: 1.3863\n",
      "train Loss: 2.0794\n",
      "train Loss: 2.7726\n",
      "train Loss: 3.4657\n",
      "Epoch 2/24\n",
      "----------\n",
      "train Loss: 0.6931\n",
      "train Loss: 1.3863\n",
      "train Loss: 2.0794\n",
      "train Loss: 2.7726\n",
      "train Loss: 3.4657\n",
      "Epoch 3/24\n",
      "----------\n",
      "train Loss: 0.6931\n",
      "train Loss: 1.3863\n",
      "train Loss: 2.0794\n",
      "train Loss: 2.7726\n",
      "train Loss: 3.4657\n",
      "Epoch 4/24\n",
      "----------\n",
      "train Loss: 0.6931\n",
      "train Loss: 1.3863\n",
      "train Loss: 2.0794\n",
      "train Loss: 2.7726\n",
      "train Loss: 3.4657\n",
      "Epoch 5/24\n",
      "----------\n",
      "train Loss: 0.6931\n",
      "train Loss: 1.3863\n",
      "train Loss: 2.0794\n",
      "train Loss: 2.7726\n",
      "train Loss: 3.4657\n",
      "Epoch 6/24\n",
      "----------\n",
      "train Loss: 0.6931\n",
      "train Loss: 1.3863\n",
      "train Loss: 2.0794\n",
      "train Loss: 2.7726\n",
      "train Loss: 3.4657\n",
      "Epoch 7/24\n",
      "----------\n",
      "train Loss: 0.6931\n",
      "train Loss: 1.3863\n",
      "train Loss: 2.0794\n",
      "train Loss: 2.7726\n",
      "train Loss: 3.4657\n",
      "Epoch 8/24\n",
      "----------\n",
      "train Loss: 0.6931\n",
      "train Loss: 1.3863\n",
      "train Loss: 2.0794\n",
      "train Loss: 2.7726\n",
      "train Loss: 3.4657\n",
      "Epoch 9/24\n",
      "----------\n",
      "train Loss: 0.6931\n",
      "train Loss: 1.3863\n",
      "train Loss: 2.0794\n",
      "train Loss: 2.7726\n",
      "train Loss: 3.4657\n",
      "Epoch 10/24\n",
      "----------\n",
      "train Loss: 0.6931\n",
      "train Loss: 1.3863\n",
      "train Loss: 2.0794\n",
      "train Loss: 2.7726\n",
      "train Loss: 3.4657\n",
      "Epoch 11/24\n",
      "----------\n",
      "train Loss: 0.6931\n",
      "train Loss: 1.3863\n",
      "train Loss: 2.0794\n",
      "train Loss: 2.7726\n",
      "train Loss: 3.4657\n",
      "Epoch 12/24\n",
      "----------\n",
      "train Loss: 0.6931\n",
      "train Loss: 1.3863\n",
      "train Loss: 2.0794\n",
      "train Loss: 2.7726\n",
      "train Loss: 3.4657\n",
      "Epoch 13/24\n",
      "----------\n",
      "train Loss: 0.6931\n",
      "train Loss: 1.3863\n",
      "train Loss: 2.0794\n",
      "train Loss: 2.7726\n",
      "train Loss: 3.4657\n",
      "Epoch 14/24\n",
      "----------\n",
      "train Loss: 0.6931\n",
      "train Loss: 1.3863\n",
      "train Loss: 2.0794\n",
      "train Loss: 2.7726\n",
      "train Loss: 3.4657\n",
      "Epoch 15/24\n",
      "----------\n",
      "train Loss: 0.6931\n",
      "train Loss: 1.3863\n",
      "train Loss: 2.0794\n",
      "train Loss: 2.7726\n",
      "train Loss: 3.4657\n",
      "Epoch 16/24\n",
      "----------\n",
      "train Loss: 0.6931\n",
      "train Loss: 1.3863\n",
      "train Loss: 2.0794\n",
      "train Loss: 2.7726\n",
      "train Loss: 3.4657\n",
      "Epoch 17/24\n",
      "----------\n",
      "train Loss: 0.6931\n",
      "train Loss: 1.3863\n",
      "train Loss: 2.0794\n",
      "train Loss: 2.7726\n",
      "train Loss: 3.4657\n",
      "Epoch 18/24\n",
      "----------\n",
      "train Loss: 0.6931\n",
      "train Loss: 1.3863\n",
      "train Loss: 2.0794\n",
      "train Loss: 2.7726\n",
      "train Loss: 3.4657\n",
      "Epoch 19/24\n",
      "----------\n",
      "train Loss: 0.6931\n",
      "train Loss: 1.3863\n",
      "train Loss: 2.0794\n",
      "train Loss: 2.7726\n",
      "train Loss: 3.4657\n",
      "Epoch 20/24\n",
      "----------\n",
      "train Loss: 0.6931\n",
      "train Loss: 1.3863\n",
      "train Loss: 2.0794\n",
      "train Loss: 2.7726\n",
      "train Loss: 3.4657\n",
      "Epoch 21/24\n",
      "----------\n",
      "train Loss: 0.6931\n",
      "train Loss: 1.3863\n",
      "train Loss: 2.0794\n",
      "train Loss: 2.7726\n",
      "train Loss: 3.4657\n",
      "Epoch 22/24\n",
      "----------\n",
      "train Loss: 0.6931\n",
      "train Loss: 1.3863\n",
      "train Loss: 2.0794\n",
      "train Loss: 2.7726\n",
      "train Loss: 3.4657\n",
      "Epoch 23/24\n",
      "----------\n",
      "train Loss: 0.6931\n",
      "train Loss: 1.3863\n",
      "train Loss: 2.0794\n",
      "train Loss: 2.7726\n",
      "train Loss: 3.4657\n",
      "Epoch 24/24\n",
      "----------\n",
      "train Loss: 0.6931\n",
      "train Loss: 1.3863\n",
      "train Loss: 2.0794\n",
      "train Loss: 2.7726\n",
      "train Loss: 3.4657\n",
      "Training complete in 0m 38s\n"
     ]
    }
   ],
   "source": [
    "train_model(model, criterion, optimizer_ft, num_epochs=25)"
   ]
  },
  {
   "cell_type": "code",
   "execution_count": 191,
   "metadata": {},
   "outputs": [
    {
     "name": "stdout",
     "output_type": "stream",
     "text": [
      "Epoch 0/24\n",
      "----------\n",
      "Validate Acc: 0.0000\n",
      "Epoch 1/24\n",
      "----------\n",
      "Validate Acc: 0.0000\n",
      "Epoch 2/24\n",
      "----------\n",
      "Validate Acc: 0.0000\n",
      "Epoch 3/24\n",
      "----------\n",
      "Validate Acc: 0.0000\n",
      "Epoch 4/24\n",
      "----------\n",
      "Validate Acc: 0.0000\n",
      "Epoch 5/24\n",
      "----------\n",
      "Validate Acc: 0.0000\n",
      "Epoch 6/24\n",
      "----------\n",
      "Validate Acc: 0.0000\n",
      "Epoch 7/24\n",
      "----------\n",
      "Validate Acc: 0.0000\n",
      "Epoch 8/24\n",
      "----------\n",
      "Validate Acc: 0.0000\n",
      "Epoch 9/24\n",
      "----------\n",
      "Validate Acc: 0.0000\n",
      "Epoch 10/24\n",
      "----------\n",
      "Validate Acc: 0.0000\n",
      "Epoch 11/24\n",
      "----------\n",
      "Validate Acc: 0.0000\n",
      "Epoch 12/24\n",
      "----------\n",
      "Validate Acc: 0.0000\n",
      "Epoch 13/24\n",
      "----------\n",
      "Validate Acc: 0.0000\n",
      "Epoch 14/24\n",
      "----------\n",
      "Validate Acc: 0.0000\n",
      "Epoch 15/24\n",
      "----------\n",
      "Validate Acc: 0.0000\n",
      "Epoch 16/24\n",
      "----------\n",
      "Validate Acc: 0.0000\n",
      "Epoch 17/24\n",
      "----------\n",
      "Validate Acc: 0.0000\n",
      "Epoch 18/24\n",
      "----------\n",
      "Validate Acc: 0.0000\n",
      "Epoch 19/24\n",
      "----------\n",
      "Validate Acc: 0.0000\n",
      "Epoch 20/24\n",
      "----------\n",
      "Validate Acc: 0.0000\n",
      "Epoch 21/24\n",
      "----------\n",
      "Validate Acc: 0.0000\n",
      "Epoch 22/24\n",
      "----------\n",
      "Validate Acc: 0.0000\n",
      "Epoch 23/24\n",
      "----------\n",
      "Validate Acc: 0.0000\n",
      "Epoch 24/24\n",
      "----------\n",
      "Validate Acc: 0.0000\n"
     ]
    }
   ],
   "source": [
    "validate_model(model,num_epochs=25)"
   ]
  },
  {
   "cell_type": "code",
   "execution_count": 192,
   "metadata": {},
   "outputs": [
    {
     "data": {
      "image/png": "[encoded data removed]",
      "text/plain": [
       "<Figure size 720x360 with 1 Axes>"
      ]
     },
     "metadata": {
      "needs_background": "light"
     },
     "output_type": "display_data"
    },
    {
     "data": {
      "image/png": "[encoded data removed]",
      "text/plain": [
       "<Figure size 720x360 with 1 Axes>"
      ]
     },
     "metadata": {
      "needs_background": "light"
     },
     "output_type": "display_data"
    }
   ],
   "source": [
    "plt.figure(figsize=(10,5))\n",
    "plt.title(\"Training Loss\")\n",
    "plt.plot(train_losses,label=\"train\")\n",
    "plt.xlabel(\"iterations\")\n",
    "plt.ylabel(\"Loss\")\n",
    "plt.legend()\n",
    "plt.show()\n",
    "plt.figure(figsize=(10,5))\n",
    "plt.title(\"Training Accuracy\")\n",
    "plt.plot(accuracylist,label=\"train\")\n",
    "plt.xlabel(\"iterations\")\n",
    "plt.ylabel(\"Accuracy\")\n",
    "plt.legend()\n",
    "plt.show()"
   ]
  },
  {
   "cell_type": "code",
   "execution_count": 193,
   "metadata": {},
   "outputs": [
    {
     "data": {
      "image/png": "[encoded data removed]",
      "text/plain": [
       "<Figure size 720x360 with 1 Axes>"
      ]
     },
     "metadata": {
      "needs_background": "light"
     },
     "output_type": "display_data"
    }
   ],
   "source": [
    "plt.figure(figsize=(10,5))\n",
    "plt.title(\"Validation Accuracy\")\n",
    "plt.plot(validate_losses,label=\"validation\")\n",
    "plt.xlabel(\"iterations\")\n",
    "plt.ylabel(\"Loss\")\n",
    "plt.legend()\n",
    "plt.show()"
   ]
  },
  {
   "cell_type": "code",
   "execution_count": 194,
   "metadata": {},
   "outputs": [],
   "source": [
    "torch.save(model.state_dict(), 'GestureAccelNet2.pth')"
   ]
  },
  {
   "cell_type": "markdown",
   "metadata": {},
   "source": [
    "### Calculate top-1 accuracy of the pre-trained model"
   ]
  },
  {
   "cell_type": "markdown",
   "metadata": {},
   "source": [
    "## Test Model in Pytorch if the OpenCL implement is correct\n",
    "By comprare the result of OpenCL implement and PyTorch implement using a single image as input  \n",
    "error = ((OpenCL_implement_class_socores - PyTorch_implement_class_socores) ^ 2).sum(element_wise)  \n",
    "If the OpenCL implement is correct, error should be relativly small."
   ]
  },
  {
   "cell_type": "code",
   "execution_count": 220,
   "metadata": {
    "scrolled": true
   },
   "outputs": [
    {
     "name": "stdout",
     "output_type": "stream",
     "text": [
      "9_circle\n",
      "torch.Size([1, 1, 48])\n"
     ]
    }
   ],
   "source": [
    "# load the test image\n",
    "print(classes[1])\n",
    "x_test=np.zeros(shape=(1,1,48))\n",
    "data=pd.read_csv('acceldataset/'+classes[1]+'/'+str(1)+'.csv')\n",
    "for i in range(0, 16):\n",
    "    x_test[0][0][i*3] = data[\"wristX\"][i]\n",
    "    x_test[0][0][i*3+1] = data[\"wristY\"][i]\n",
    "    x_test[0][0][i*3+2] = data[\"wristZ\"][i]\n",
    "#preprocess data\n",
    "transform = transforms.Compose([\n",
    "    transforms.ToTensor()\n",
    "])\n",
    "x_test = transform(x_test[0])\n",
    "x_test = torch.reshape(x_test,(1,1,48))\n",
    "print(x_test.shape)"
   ]
  },
  {
   "cell_type": "code",
   "execution_count": 221,
   "metadata": {
    "scrolled": true
   },
   "outputs": [
    {
     "name": "stdout",
     "output_type": "stream",
     "text": [
      "tensor([[0., 0.]], grad_fn=<ViewBackward0>)\n",
      "tensor([0])\n",
      "the label index prediction of pytorch implement: 4_slow_swipe\n"
     ]
    }
   ],
   "source": [
    "model.cpu()\n",
    "y_test = model(x_test.float())\n",
    "print(y_test)\n",
    "_, predicted = torch.max(y_test.data, 1)\n",
    "print(predicted)\n",
    "print('the label index prediction of pytorch implement: '+classes[predicted])"
   ]
  },
  {
   "cell_type": "markdown",
   "metadata": {},
   "source": [
    "### Load OpenCL implement\n",
    "deviceinfo.py and partial pyopencl code are from Hands On OpenCL  \n",
    "https://handsonopencl.github.io/"
   ]
  },
  {
   "cell_type": "markdown",
   "metadata": {},
   "source": [
    "#### Step1: OpenCL preparation"
   ]
  },
  {
   "cell_type": "code",
   "execution_count": 222,
   "metadata": {},
   "outputs": [],
   "source": [
    "# OpenCL setup\n",
    "import pyopencl as cl\n",
    "import deviceinfo"
   ]
  },
  {
   "cell_type": "code",
   "execution_count": 223,
   "metadata": {
    "scrolled": true
   },
   "outputs": [
    {
     "name": "stdout",
     "output_type": "stream",
     "text": [
      "Device is NVIDIA GeForce GTX 1650 TiGPU from NVIDIA Corporation with a max of 16 compute units\n"
     ]
    }
   ],
   "source": [
    "# Ask the user to select a platform/device on the CLI\n",
    "context = cl.create_some_context()\n",
    "\n",
    "# Print out device info\n",
    "deviceinfo.output_device_info(context.devices[0])\n",
    "\n",
    "# Create a command queue\n",
    "queue = cl.CommandQueue(context)"
   ]
  },
  {
   "cell_type": "markdown",
   "metadata": {},
   "source": [
    "#### Step 2: import parameters from pytorch implement"
   ]
  },
  {
   "cell_type": "code",
   "execution_count": 224,
   "metadata": {},
   "outputs": [
    {
     "name": "stdout",
     "output_type": "stream",
     "text": [
      "features.0.weight (30, 48)\n",
      "features.0.bias (30,)\n",
      "features.2.weight (30, 30)\n",
      "features.2.bias (30,)\n",
      "features.4.weight (10, 30)\n",
      "features.4.bias (10,)\n",
      "classifier.1.weight (2, 10)\n",
      "classifier.1.bias (2,)\n",
      "30\n",
      "30\n",
      "10\n",
      "2\n"
     ]
    }
   ],
   "source": [
    "params = model.state_dict()\n",
    "for k,v in params.items():\n",
    "    # print parameter name\n",
    "    print(k,params[k].numpy().shape)\n",
    "layer1_weight = params['features.0.weight'].numpy().reshape(-1)\n",
    "layer1_bias = params['features.0.bias'].numpy()\n",
    "layer2_weight = params['features.2.weight'].numpy().reshape(-1)\n",
    "layer2_bias = params['features.2.bias'].numpy()\n",
    "layer3_weight = params['features.4.weight'].numpy().reshape(-1)\n",
    "layer3_bias = params['features.4.bias'].numpy()\n",
    "classifier_weight = params['classifier.1.weight'].numpy().reshape(-1)\n",
    "classifier_bias = params['classifier.1.bias'].numpy()\n",
    "print(len(layer1_bias))\n",
    "print(len(layer2_bias))\n",
    "print(len(layer3_bias))\n",
    "print(len(classifier_bias))"
   ]
  },
  {
   "cell_type": "code",
   "execution_count": 225,
   "metadata": {},
   "outputs": [
    {
     "name": "stdout",
     "output_type": "stream",
     "text": [
      "(48,)\n",
      "torch.Size([30])\n"
     ]
    }
   ],
   "source": [
    "print(params['features.0.weight'].numpy()[0].shape)\n",
    "print(params['features.0.bias'].shape)"
   ]
  },
  {
   "cell_type": "code",
   "execution_count": 226,
   "metadata": {},
   "outputs": [
    {
     "name": "stdout",
     "output_type": "stream",
     "text": [
      "[-0.09956665  0.03358783 -0.05180672  0.01409522  0.1223146   0.09971415\n",
      " -0.01091105  0.06865799  0.07848077 -0.09377617 -0.0433285  -0.10486893\n",
      "  0.0922496   0.05222929  0.00197341  0.01131248  0.06658091  0.06725991\n",
      "  0.05240043 -0.03859445  0.13288367 -0.11992934 -0.14293367 -0.12985663\n",
      " -0.04910035 -0.07303813  0.12579516  0.03325437 -0.01097219  0.09963064]\n"
     ]
    }
   ],
   "source": [
    "print(layer1_bias)"
   ]
  },
  {
   "cell_type": "markdown",
   "metadata": {},
   "source": [
    "Creat OpenCL memory object"
   ]
  },
  {
   "cell_type": "code",
   "execution_count": 227,
   "metadata": {},
   "outputs": [],
   "source": [
    "h_sample = x_test.float().numpy().reshape(-1)\n",
    "h_result_layer1 = np.empty(1 * len(layer1_bias)).astype(np.float32)\n",
    "h_result_layer2 = np.empty(1 * len(layer2_bias)).astype(np.float32)\n",
    "h_result_layer3 = np.empty(1 * len(layer3_bias)).astype(np.float32)\n",
    "h_result_classifier = np.empty(1 * len(classifier_bias)).astype(np.float32)\n",
    "\n",
    "# device input buffer\n",
    "d_sample = cl.Buffer(context, cl.mem_flags.READ_ONLY | cl.mem_flags.COPY_HOST_PTR, hostbuf=h_sample)\n",
    "\n",
    "# device buffers \n",
    "d_layer1_weight = cl.Buffer(context, cl.mem_flags.READ_ONLY | cl.mem_flags.COPY_HOST_PTR, hostbuf=layer1_weight)\n",
    "d_layer1_bias = cl.Buffer(context, cl.mem_flags.READ_ONLY | cl.mem_flags.COPY_HOST_PTR, hostbuf=layer1_bias)\n",
    "d_layer2_weight = cl.Buffer(context, cl.mem_flags.READ_ONLY | cl.mem_flags.COPY_HOST_PTR, hostbuf=layer2_weight)\n",
    "d_layer2_bias = cl.Buffer(context, cl.mem_flags.READ_ONLY | cl.mem_flags.COPY_HOST_PTR, hostbuf=layer2_bias)\n",
    "d_layer3_weight = cl.Buffer(context, cl.mem_flags.READ_ONLY | cl.mem_flags.COPY_HOST_PTR, hostbuf=layer3_weight)\n",
    "d_layer3_bias = cl.Buffer(context, cl.mem_flags.READ_ONLY | cl.mem_flags.COPY_HOST_PTR, hostbuf=layer3_bias)\n",
    "d_classifier_weight = cl.Buffer(context, cl.mem_flags.READ_ONLY | cl.mem_flags.COPY_HOST_PTR, hostbuf=classifier_weight)\n",
    "d_classifier_bias = cl.Buffer(context, cl.mem_flags.READ_ONLY | cl.mem_flags.COPY_HOST_PTR, hostbuf=classifier_bias)\n",
    "\n",
    "d_result_layer1 = cl.Buffer(context, cl.mem_flags.WRITE_ONLY, h_result_layer1.nbytes)\n",
    "d_result_layer2 = cl.Buffer(context, cl.mem_flags.WRITE_ONLY, h_result_layer2.nbytes)\n",
    "d_result_layer3 = cl.Buffer(context, cl.mem_flags.WRITE_ONLY, h_result_layer3.nbytes)\n",
    "d_result_classifier = cl.Buffer(context, cl.mem_flags.WRITE_ONLY, h_result_classifier.nbytes)"
   ]
  },
  {
   "cell_type": "markdown",
   "metadata": {},
   "source": [
    "#### Step 3: create kernels\n",
    "Create & build program"
   ]
  },
  {
   "cell_type": "code",
   "execution_count": 228,
   "metadata": {
    "scrolled": true
   },
   "outputs": [],
   "source": [
    "kernelSource = open(\"gesturenet.cl\").read()\n",
    "program = cl.Program(context, kernelSource).build(options=\"\")"
   ]
  },
  {
   "cell_type": "markdown",
   "metadata": {},
   "source": [
    "Create kernels"
   ]
  },
  {
   "cell_type": "code",
   "execution_count": 229,
   "metadata": {},
   "outputs": [],
   "source": [
    "conv3x3 = program.conv2d3x3\n",
    "conv3x3.set_scalar_arg_dtypes([np.int32, np.int32, np.int32, np.int32, np.int32, np.int32, \\\n",
    "                               None, None, None, None])\n",
    "\n",
    "maxpool = program.maxpool2d\n",
    "maxpool.set_scalar_arg_dtypes([np.int32, np.int32, None, None])\n",
    "\n",
    "conv1x1 = program.conv2d1x1\n",
    "conv1x1.set_scalar_arg_dtypes([np.int32, np.int32, np.int32,\\\n",
    "                               None, None, None, None])\n",
    "\n",
    "avgpool = program.avgpool2d\n",
    "avgpool.set_scalar_arg_dtypes([np.int32,np.int32,None, None])\n",
    "\n",
    "fc = program.fc\n",
    "fc.set_scalar_arg_dtypes([np.int32,np.int32,None,None,None,None])"
   ]
  },
  {
   "cell_type": "markdown",
   "metadata": {},
   "source": [
    "Run OpenCL implement  "
   ]
  },
  {
   "cell_type": "code",
   "execution_count": 230,
   "metadata": {},
   "outputs": [
    {
     "name": "stdout",
     "output_type": "stream",
     "text": [
      "The kernel ran in 0.0029916763305664062 seconds\n"
     ]
    }
   ],
   "source": [
    "import time\n",
    "rtime = time.time()\n",
    "# First\n",
    "fc(queue,(len(layer1_bias),),None,len(h_sample),1,d_sample,d_layer1_weight,d_layer1_bias,d_result_layer1)\n",
    "# Second\n",
    "fc(queue,(len(layer2_bias),),None,len(layer1_bias),1,d_result_layer1,d_layer2_weight,d_layer2_bias,d_result_layer2)\n",
    "# Third\n",
    "fc(queue,(len(layer3_bias),),None,len(layer2_bias),1,d_result_layer2,d_layer3_weight,d_layer3_bias,d_result_layer3)\n",
    "# classifier\n",
    "fc(queue,(len(classifier_bias),),None,len(layer3_bias),0,d_result_layer3,d_classifier_weight,d_classifier_bias,d_result_classifier)\n",
    "\n",
    "queue.finish()\n",
    "rtime = time.time() - rtime\n",
    "print(\"The kernel ran in\", rtime, \"seconds\")"
   ]
  },
  {
   "cell_type": "code",
   "execution_count": 231,
   "metadata": {},
   "outputs": [
    {
     "data": {
      "text/plain": [
       "[0.0, 0.0]"
      ]
     },
     "execution_count": 231,
     "metadata": {},
     "output_type": "execute_result"
    }
   ],
   "source": [
    "z = model(x_test.float())\n",
    "z.detach().numpy().tolist()[0]"
   ]
  },
  {
   "cell_type": "code",
   "execution_count": 232,
   "metadata": {
    "scrolled": true
   },
   "outputs": [
    {
     "name": "stdout",
     "output_type": "stream",
     "text": [
      "the label index prediction of OpenCL implement: 0\n",
      "Predicted Label: 0\n",
      "OpenCL implement error:  283.7319\n",
      "(30,)\n",
      "(30,)\n",
      "(10,)\n",
      "(2,)\n",
      "[0.0, 0.0]\n",
      "[16.183239   4.6727614]\n"
     ]
    }
   ],
   "source": [
    "#copy result from gpu\n",
    "cl.enqueue_copy(queue, h_result_classifier, d_result_classifier)\n",
    "queue.finish()\n",
    "label_opencl = np.argmax(h_result_classifier)\n",
    "print('the label index prediction of OpenCL implement: %d' % label_opencl)\n",
    "correct_result = y_test.data.numpy().reshape(-1)\n",
    "print(\"Predicted Label:\", str(np.argmax(y_test.detach().numpy().tolist())))\n",
    "error = ((correct_result - h_result_classifier) ** 2).sum()\n",
    "print('OpenCL implement error: ', error)\n",
    "cl.enqueue_copy(queue, h_result_layer1, d_result_layer1)\n",
    "print(h_result_layer1.shape)\n",
    "cl.enqueue_copy(queue, h_result_layer2, d_result_layer2)\n",
    "print(h_result_layer2.shape)\n",
    "cl.enqueue_copy(queue, h_result_layer3, d_result_layer3)\n",
    "print(h_result_layer3.shape)\n",
    "cl.enqueue_copy(queue, h_result_classifier, d_result_classifier)\n",
    "print(h_result_classifier.shape)\n",
    "print(y_test.detach().numpy().tolist()[0])\n",
    "print(h_result_classifier)"
   ]
  },
  {
   "cell_type": "code",
   "execution_count": 233,
   "metadata": {},
   "outputs": [
    {
     "name": "stdout",
     "output_type": "stream",
     "text": [
      "[-1.0024458961944946e-05, -11.51048756733616]\n"
     ]
    },
    {
     "data": {
      "text/plain": [
       "0"
      ]
     },
     "execution_count": 233,
     "metadata": {},
     "output_type": "execute_result"
    }
   ],
   "source": [
    "import math\n",
    "total = 0\n",
    "for i in range(0,2):\n",
    "    total += math.exp(h_result_classifier[i])\n",
    "softlist = []\n",
    "for j in range(0,2):\n",
    "    softlist.append(math.log(math.exp(h_result_classifier[j])/total))\n",
    "print(softlist)\n",
    "np.argmax(softlist)"
   ]
  },
  {
   "cell_type": "code",
   "execution_count": 234,
   "metadata": {
    "scrolled": true
   },
   "outputs": [
    {
     "name": "stdout",
     "output_type": "stream",
     "text": [
      "30\n",
      "[371.45752, 380.04358, 364.15936, 694.07275, 0, 88.657486, 483.57678, 0, 0, 704.9645, 915.14624, 491.5738, 0, 282.86694, 540.67126, 0, 181.51952, 173.70908, 393.71005, 0, 0, 0, 503.7, 107.15227, 0, 3.4296112, 0, 630.8027, 0, 0]\n",
      "30\n",
      "[0, 32.26808965206146, 0, 0, 255.73008382320404, 0, 250.9822548031807, 0, 0, 74.11041009426117, 179.65874201059341, 0, 98.20409937854856, 0, 0, 147.1166236549616, 0, 29.810251653194427, 10.141032688319683, 0, 0, 263.5150009319186, 0, 360.39521837234497, 236.47029402852058, 35.367035150527954, 0, 87.46870364248753, 0, 157.00365480780602]\n",
      "10\n",
      "[0, 15.023907144044529, 0, 0, 6.4682948308969355, 47.13502104841268, 0, 0, 87.98283204533375, 19.784384726374345]\n",
      "2\n",
      "[16.183241362343118, 4.672762084396956]\n"
     ]
    },
    {
     "data": {
      "text/plain": [
       "0"
      ]
     },
     "execution_count": 234,
     "metadata": {},
     "output_type": "execute_result"
    }
   ],
   "source": [
    "# Layer 1\n",
    "lay1out = []\n",
    "for i in range(0,len(layer1_bias)):\n",
    "    tmp = layer1_bias[i]\n",
    "    for j in range(0, len(h_sample)):\n",
    "        tmp = tmp + h_sample[j]*layer1_weight[i*len(h_sample)+j]\n",
    "        #print(j, h_sample[j], layer1_weight[i*len(h_sample)+j], tmp)\n",
    "    if tmp > 0:\n",
    "        lay1out.append(tmp)\n",
    "    else:\n",
    "        lay1out.append(0)\n",
    "print(len(lay1out))\n",
    "print(lay1out)\n",
    "# Layer 2\n",
    "lay2out = []\n",
    "for i in range(0,len(layer2_bias)):\n",
    "    tmp = layer2_bias[i]\n",
    "    for j in range(0, len(lay1out)):\n",
    "        tmp = tmp + lay1out[j]*layer2_weight[i*len(lay1out)+j]\n",
    "    if tmp > 0:\n",
    "        lay2out.append(tmp)\n",
    "    else:\n",
    "        lay2out.append(0)\n",
    "print(len(lay2out))\n",
    "print(lay2out)\n",
    "# Layer 3\n",
    "lay3out = []\n",
    "for i in range(0,len(layer3_bias)):\n",
    "    tmp = layer3_bias[i]\n",
    "    for j in range(0, len(lay2out)):\n",
    "        tmp = tmp + lay2out[j]*layer3_weight[i*len(lay2out)+j]\n",
    "    if tmp > 0:\n",
    "        lay3out.append(tmp)\n",
    "    else:\n",
    "        lay3out.append(0)\n",
    "print(len(lay3out))\n",
    "print(lay3out)\n",
    "# Layer 4\n",
    "lay4out = []\n",
    "for i in range(0,len(classifier_bias)):\n",
    "    tmp = classifier_bias[i]\n",
    "    for j in range(0, len(lay3out)):\n",
    "        tmp = tmp + lay3out[j]*classifier_weight[i*len(lay3out)+j]\n",
    "    lay4out.append(tmp)\n",
    "print(len(lay4out))\n",
    "print(lay4out)\n",
    "# softmax\n",
    "import math\n",
    "total = 0\n",
    "for i in range(0,len(classifier_bias)):\n",
    "    total += math.exp(lay4out[i])\n",
    "softlist = []\n",
    "for j in range(0,len(classifier_bias)):\n",
    "    softlist.append(math.log(math.exp(lay4out[j])/total))\n",
    "np.argmax(softlist)"
   ]
  },
  {
   "cell_type": "code",
   "execution_count": 235,
   "metadata": {
    "scrolled": true
   },
   "outputs": [
    {
     "name": "stdout",
     "output_type": "stream",
     "text": [
      "[371.45746   380.04358   364.15936   694.07263     0.         88.65745\n",
      " 483.57684     0.          0.        704.9645    915.14624   491.5737\n",
      "   0.        282.8669    540.6712      0.        181.51955   173.70909\n",
      " 393.71008     0.          0.          0.        503.70004   107.152275\n",
      "   0.          3.4295826   0.        630.8026      0.          0.       ]\n"
     ]
    }
   ],
   "source": [
    "print(h_result_layer1)"
   ]
  },
  {
   "cell_type": "code",
   "execution_count": 236,
   "metadata": {},
   "outputs": [
    {
     "name": "stdout",
     "output_type": "stream",
     "text": [
      "[  0.        32.268074   0.         0.       255.73007    0.\n",
      " 250.98222    0.         0.        74.11044  179.65878    0.\n",
      "  98.204094   0.         0.       147.11661    0.        29.810238\n",
      "  10.141015   0.         0.       263.515      0.       360.3952\n",
      " 236.47026   35.367043   0.        87.46872    0.       157.00365 ]\n"
     ]
    }
   ],
   "source": [
    "print(h_result_layer2)"
   ]
  },
  {
   "cell_type": "code",
   "execution_count": 237,
   "metadata": {},
   "outputs": [
    {
     "name": "stdout",
     "output_type": "stream",
     "text": [
      "[ 0.       15.023905  0.        0.        6.468294 47.13502   0.\n",
      "  0.       87.982834 19.784369]\n"
     ]
    }
   ],
   "source": [
    "print(h_result_layer3)"
   ]
  },
  {
   "cell_type": "code",
   "execution_count": 238,
   "metadata": {},
   "outputs": [
    {
     "name": "stdout",
     "output_type": "stream",
     "text": [
      "[16.183239   4.6727614]\n"
     ]
    }
   ],
   "source": [
    "print(h_result_classifier)"
   ]
  },
  {
   "cell_type": "code",
   "execution_count": null,
   "metadata": {},
   "outputs": [],
   "source": []
  },
  {
   "cell_type": "code",
   "execution_count": null,
   "metadata": {},
   "outputs": [],
   "source": []
  }
 ],
 "metadata": {
  "kernelspec": {
   "display_name": "Python 3 (ipykernel)",
   "language": "python",
   "name": "python3"
  },
  "language_info": {
   "codemirror_mode": {
    "name": "ipython",
    "version": 3
   },
   "file_extension": ".py",
   "mimetype": "text/x-python",
   "name": "python",
   "nbconvert_exporter": "python",
   "pygments_lexer": "ipython3",
   "version": "3.8.8"
  }
 },
 "nbformat": 4,
 "nbformat_minor": 2
}
